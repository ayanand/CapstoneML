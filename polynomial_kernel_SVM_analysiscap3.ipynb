{
  "nbformat": 4,
  "nbformat_minor": 0,
  "metadata": {
    "colab": {
      "name": "polynomial_kernel_SVM_analysiscap3.ipynb",
      "provenance": [],
      "collapsed_sections": [],
      "include_colab_link": true
    },
    "kernelspec": {
      "display_name": "Python 3",
      "name": "python3"
    }
  },
  "cells": [
    {
      "cell_type": "markdown",
      "metadata": {
        "id": "view-in-github",
        "colab_type": "text"
      },
      "source": [
        "<a href=\"https://colab.research.google.com/github/ayanand/CapstoneML/blob/main/polynomial_kernel_SVM_analysiscap3.ipynb\" target=\"_parent\"><img src=\"https://colab.research.google.com/assets/colab-badge.svg\" alt=\"Open In Colab\"/></a>"
      ]
    },
    {
      "cell_type": "markdown",
      "metadata": {
        "id": "HQI44picvWYs"
      },
      "source": [
        "<table align=\"left\">\n",
        "  <td>\n",
        "    <a target=\"_blank\" href=\"https://colab.research.google.com/github/ayanand/CapstoneML/blob/main/polynomial_kernel_SVM_analysiscap3.ipynb\"><img src=\"https://www.tensorflow.org/images/colab_logo_32px.png\" />Run in Google Colab</a>\n",
        "  </td>\n",
        "</table>"
      ]
    },
    {
      "cell_type": "code",
      "metadata": {
        "id": "_WCXOdd8KFCm",
        "outputId": "5e11809a-3120-4091-eef0-e5c03c43ea89",
        "colab": {
          "base_uri": "https://localhost:8080/"
        }
      },
      "source": [
        "import pandas as pd\n",
        "!pip install fsspec\n",
        "!pip install gcsfs \n",
        " \n",
        " \n"
      ],
      "execution_count": null,
      "outputs": [
        {
          "output_type": "stream",
          "text": [
            "Requirement already satisfied: fsspec in /usr/local/lib/python3.6/dist-packages (0.8.4)\n",
            "Requirement already satisfied: gcsfs in /usr/local/lib/python3.6/dist-packages (0.7.1)\n",
            "Requirement already satisfied: aiohttp in /usr/local/lib/python3.6/dist-packages (from gcsfs) (3.7.2)\n",
            "Requirement already satisfied: requests in /usr/local/lib/python3.6/dist-packages (from gcsfs) (2.23.0)\n",
            "Requirement already satisfied: google-auth>=1.2 in /usr/local/lib/python3.6/dist-packages (from gcsfs) (1.17.2)\n",
            "Requirement already satisfied: decorator in /usr/local/lib/python3.6/dist-packages (from gcsfs) (4.4.2)\n",
            "Requirement already satisfied: fsspec>=0.8.0 in /usr/local/lib/python3.6/dist-packages (from gcsfs) (0.8.4)\n",
            "Requirement already satisfied: google-auth-oauthlib in /usr/local/lib/python3.6/dist-packages (from gcsfs) (0.4.2)\n",
            "Requirement already satisfied: chardet<4.0,>=2.0 in /usr/local/lib/python3.6/dist-packages (from aiohttp->gcsfs) (3.0.4)\n",
            "Requirement already satisfied: yarl<2.0,>=1.0 in /usr/local/lib/python3.6/dist-packages (from aiohttp->gcsfs) (1.6.3)\n",
            "Requirement already satisfied: multidict<7.0,>=4.5 in /usr/local/lib/python3.6/dist-packages (from aiohttp->gcsfs) (5.0.2)\n",
            "Requirement already satisfied: async-timeout<4.0,>=3.0 in /usr/local/lib/python3.6/dist-packages (from aiohttp->gcsfs) (3.0.1)\n",
            "Requirement already satisfied: attrs>=17.3.0 in /usr/local/lib/python3.6/dist-packages (from aiohttp->gcsfs) (20.2.0)\n",
            "Requirement already satisfied: typing-extensions>=3.6.5 in /usr/local/lib/python3.6/dist-packages (from aiohttp->gcsfs) (3.7.4.3)\n",
            "Requirement already satisfied: idna-ssl>=1.0; python_version < \"3.7\" in /usr/local/lib/python3.6/dist-packages (from aiohttp->gcsfs) (1.1.0)\n",
            "Requirement already satisfied: idna<3,>=2.5 in /usr/local/lib/python3.6/dist-packages (from requests->gcsfs) (2.10)\n",
            "Requirement already satisfied: urllib3!=1.25.0,!=1.25.1,<1.26,>=1.21.1 in /usr/local/lib/python3.6/dist-packages (from requests->gcsfs) (1.24.3)\n",
            "Requirement already satisfied: certifi>=2017.4.17 in /usr/local/lib/python3.6/dist-packages (from requests->gcsfs) (2020.6.20)\n",
            "Requirement already satisfied: rsa<5,>=3.1.4; python_version >= \"3\" in /usr/local/lib/python3.6/dist-packages (from google-auth>=1.2->gcsfs) (4.6)\n",
            "Requirement already satisfied: setuptools>=40.3.0 in /usr/local/lib/python3.6/dist-packages (from google-auth>=1.2->gcsfs) (50.3.2)\n",
            "Requirement already satisfied: pyasn1-modules>=0.2.1 in /usr/local/lib/python3.6/dist-packages (from google-auth>=1.2->gcsfs) (0.2.8)\n",
            "Requirement already satisfied: cachetools<5.0,>=2.0.0 in /usr/local/lib/python3.6/dist-packages (from google-auth>=1.2->gcsfs) (4.1.1)\n",
            "Requirement already satisfied: six>=1.9.0 in /usr/local/lib/python3.6/dist-packages (from google-auth>=1.2->gcsfs) (1.15.0)\n",
            "Requirement already satisfied: requests-oauthlib>=0.7.0 in /usr/local/lib/python3.6/dist-packages (from google-auth-oauthlib->gcsfs) (1.3.0)\n",
            "Requirement already satisfied: pyasn1>=0.1.3 in /usr/local/lib/python3.6/dist-packages (from rsa<5,>=3.1.4; python_version >= \"3\"->google-auth>=1.2->gcsfs) (0.4.8)\n",
            "Requirement already satisfied: oauthlib>=3.0.0 in /usr/local/lib/python3.6/dist-packages (from requests-oauthlib>=0.7.0->google-auth-oauthlib->gcsfs) (3.1.0)\n"
          ],
          "name": "stdout"
        }
      ]
    },
    {
      "cell_type": "code",
      "metadata": {
        "id": "0JN2b2rRGWMG"
      },
      "source": [
        "from sklearn.metrics import mean_squared_error\n",
        "import numpy as np\n",
        "from sklearn.metrics import confusion_matrix\n",
        "from numpy import mean\n",
        "from numpy import std\n",
        "from sklearn.datasets import make_classification\n",
        "from sklearn.model_selection import KFold\n",
        "from sklearn.model_selection import cross_val_score\n",
        "from xgboost import XGBClassifier"
      ],
      "execution_count": null,
      "outputs": []
    },
    {
      "cell_type": "code",
      "metadata": {
        "id": "ceLpAYLusrqu",
        "outputId": "9ff8cfa1-90bc-4180-8366-d7aa6fa4da25",
        "colab": {
          "base_uri": "https://localhost:8080/",
          "height": 301
        }
      },
      "source": [
        "df = pd.read_csv('gs://capstoragebucket2020/All_joined_v5.csv')\n",
        "df=df.sort_values(by=['year', 'quarter','latitude','longitude'])\n",
        "df.tail()"
      ],
      "execution_count": null,
      "outputs": [
        {
          "output_type": "execute_result",
          "data": {
            "text/html": [
              "<div>\n",
              "<style scoped>\n",
              "    .dataframe tbody tr th:only-of-type {\n",
              "        vertical-align: middle;\n",
              "    }\n",
              "\n",
              "    .dataframe tbody tr th {\n",
              "        vertical-align: top;\n",
              "    }\n",
              "\n",
              "    .dataframe thead th {\n",
              "        text-align: right;\n",
              "    }\n",
              "</style>\n",
              "<table border=\"1\" class=\"dataframe\">\n",
              "  <thead>\n",
              "    <tr style=\"text-align: right;\">\n",
              "      <th></th>\n",
              "      <th>latitude</th>\n",
              "      <th>longitude</th>\n",
              "      <th>quarter</th>\n",
              "      <th>year</th>\n",
              "      <th>incendie_count</th>\n",
              "      <th>alarmes_incendies_count</th>\n",
              "      <th>total_crimes</th>\n",
              "      <th>vols_count</th>\n",
              "      <th>mefait_count</th>\n",
              "      <th>vol_de_vehicule_count</th>\n",
              "      <th>introduction_count</th>\n",
              "      <th>vol_moteur_count</th>\n",
              "      <th>infractions_entrainant_count</th>\n",
              "      <th>sum_etage_hors_sol</th>\n",
              "      <th>sum_nombre_logement</th>\n",
              "      <th>min_annee_construction</th>\n",
              "      <th>max_annee_construction</th>\n",
              "      <th>avg_annee_construction</th>\n",
              "      <th>sum_superficie_terrain</th>\n",
              "      <th>area</th>\n",
              "      <th>population</th>\n",
              "      <th>dwellings</th>\n",
              "      <th>households</th>\n",
              "      <th>averagehouseholdsize</th>\n",
              "      <th>averageage</th>\n",
              "      <th>averagesizeofcensusfamilies</th>\n",
              "      <th>workers</th>\n",
              "      <th>caserne_count</th>\n",
              "      <th>last_date</th>\n",
              "      <th>incendie_count_last_100</th>\n",
              "      <th>incendie_count_last_300</th>\n",
              "      <th>alarm_incendie_count_last_100</th>\n",
              "    </tr>\n",
              "  </thead>\n",
              "  <tbody>\n",
              "    <tr>\n",
              "      <th>11709</th>\n",
              "      <td>45.67</td>\n",
              "      <td>-73.50</td>\n",
              "      <td>4</td>\n",
              "      <td>2020</td>\n",
              "      <td>0</td>\n",
              "      <td>0</td>\n",
              "      <td>2</td>\n",
              "      <td>0</td>\n",
              "      <td>0</td>\n",
              "      <td>0</td>\n",
              "      <td>1</td>\n",
              "      <td>1</td>\n",
              "      <td>0</td>\n",
              "      <td>1706</td>\n",
              "      <td>2237</td>\n",
              "      <td>1914</td>\n",
              "      <td>2019</td>\n",
              "      <td>1969.399127</td>\n",
              "      <td>518847</td>\n",
              "      <td>0.11503</td>\n",
              "      <td>505</td>\n",
              "      <td>285</td>\n",
              "      <td>273</td>\n",
              "      <td>1.8</td>\n",
              "      <td>43.2</td>\n",
              "      <td>2.6</td>\n",
              "      <td>100</td>\n",
              "      <td>0</td>\n",
              "      <td>2020-12-01</td>\n",
              "      <td>0</td>\n",
              "      <td>1</td>\n",
              "      <td>0</td>\n",
              "    </tr>\n",
              "    <tr>\n",
              "      <th>11738</th>\n",
              "      <td>45.68</td>\n",
              "      <td>-73.50</td>\n",
              "      <td>4</td>\n",
              "      <td>2020</td>\n",
              "      <td>0</td>\n",
              "      <td>0</td>\n",
              "      <td>5</td>\n",
              "      <td>0</td>\n",
              "      <td>1</td>\n",
              "      <td>3</td>\n",
              "      <td>0</td>\n",
              "      <td>1</td>\n",
              "      <td>0</td>\n",
              "      <td>1377</td>\n",
              "      <td>898</td>\n",
              "      <td>1959</td>\n",
              "      <td>2019</td>\n",
              "      <td>1994.756098</td>\n",
              "      <td>465540</td>\n",
              "      <td>0.45534</td>\n",
              "      <td>821</td>\n",
              "      <td>422</td>\n",
              "      <td>386</td>\n",
              "      <td>2.1</td>\n",
              "      <td>37.5</td>\n",
              "      <td>2.7</td>\n",
              "      <td>335</td>\n",
              "      <td>0</td>\n",
              "      <td>2020-12-01</td>\n",
              "      <td>0</td>\n",
              "      <td>2</td>\n",
              "      <td>0</td>\n",
              "    </tr>\n",
              "    <tr>\n",
              "      <th>11760</th>\n",
              "      <td>45.69</td>\n",
              "      <td>-73.50</td>\n",
              "      <td>4</td>\n",
              "      <td>2020</td>\n",
              "      <td>0</td>\n",
              "      <td>0</td>\n",
              "      <td>2</td>\n",
              "      <td>0</td>\n",
              "      <td>0</td>\n",
              "      <td>0</td>\n",
              "      <td>2</td>\n",
              "      <td>0</td>\n",
              "      <td>0</td>\n",
              "      <td>254</td>\n",
              "      <td>285</td>\n",
              "      <td>1959</td>\n",
              "      <td>2018</td>\n",
              "      <td>1999.281967</td>\n",
              "      <td>75473</td>\n",
              "      <td>2.99229</td>\n",
              "      <td>1350</td>\n",
              "      <td>519</td>\n",
              "      <td>518</td>\n",
              "      <td>2.6</td>\n",
              "      <td>38.5</td>\n",
              "      <td>2.9</td>\n",
              "      <td>580</td>\n",
              "      <td>0</td>\n",
              "      <td>2020-12-01</td>\n",
              "      <td>1</td>\n",
              "      <td>2</td>\n",
              "      <td>0</td>\n",
              "    </tr>\n",
              "    <tr>\n",
              "      <th>11784</th>\n",
              "      <td>45.69</td>\n",
              "      <td>-73.49</td>\n",
              "      <td>4</td>\n",
              "      <td>2020</td>\n",
              "      <td>0</td>\n",
              "      <td>0</td>\n",
              "      <td>3</td>\n",
              "      <td>0</td>\n",
              "      <td>0</td>\n",
              "      <td>1</td>\n",
              "      <td>0</td>\n",
              "      <td>2</td>\n",
              "      <td>0</td>\n",
              "      <td>1754</td>\n",
              "      <td>1687</td>\n",
              "      <td>1925</td>\n",
              "      <td>2017</td>\n",
              "      <td>1990.051636</td>\n",
              "      <td>493065</td>\n",
              "      <td>0.20290</td>\n",
              "      <td>677</td>\n",
              "      <td>290</td>\n",
              "      <td>286</td>\n",
              "      <td>2.4</td>\n",
              "      <td>40.4</td>\n",
              "      <td>2.7</td>\n",
              "      <td>195</td>\n",
              "      <td>0</td>\n",
              "      <td>2020-12-01</td>\n",
              "      <td>0</td>\n",
              "      <td>0</td>\n",
              "      <td>1</td>\n",
              "    </tr>\n",
              "    <tr>\n",
              "      <th>11819</th>\n",
              "      <td>45.70</td>\n",
              "      <td>-73.49</td>\n",
              "      <td>4</td>\n",
              "      <td>2020</td>\n",
              "      <td>0</td>\n",
              "      <td>0</td>\n",
              "      <td>1</td>\n",
              "      <td>0</td>\n",
              "      <td>0</td>\n",
              "      <td>0</td>\n",
              "      <td>0</td>\n",
              "      <td>1</td>\n",
              "      <td>0</td>\n",
              "      <td>933</td>\n",
              "      <td>805</td>\n",
              "      <td>1900</td>\n",
              "      <td>2019</td>\n",
              "      <td>1997.866756</td>\n",
              "      <td>177975</td>\n",
              "      <td>0.48567</td>\n",
              "      <td>645</td>\n",
              "      <td>255</td>\n",
              "      <td>249</td>\n",
              "      <td>2.6</td>\n",
              "      <td>41.3</td>\n",
              "      <td>2.9</td>\n",
              "      <td>170</td>\n",
              "      <td>1</td>\n",
              "      <td>2020-12-01</td>\n",
              "      <td>0</td>\n",
              "      <td>4</td>\n",
              "      <td>1</td>\n",
              "    </tr>\n",
              "  </tbody>\n",
              "</table>\n",
              "</div>"
            ],
            "text/plain": [
              "       latitude  ...  alarm_incendie_count_last_100\n",
              "11709     45.67  ...                              0\n",
              "11738     45.68  ...                              0\n",
              "11760     45.69  ...                              0\n",
              "11784     45.69  ...                              1\n",
              "11819     45.70  ...                              1\n",
              "\n",
              "[5 rows x 32 columns]"
            ]
          },
          "metadata": {
            "tags": []
          },
          "execution_count": 64
        }
      ]
    },
    {
      "cell_type": "code",
      "metadata": {
        "id": "SmBmPxznXwOC",
        "outputId": "f483b029-7799-4f4b-b504-19a2036043b4",
        "colab": {
          "base_uri": "https://localhost:8080/"
        }
      },
      "source": [
        "print(df['incendie_count'].value_counts())\n",
        "\n",
        "#Define three classes of fire risk by the summed number of fire incidence from 2015-2020\n",
        "#low risk < 5, moderate risk 5-15, high risk > 15\n",
        "df['fire'] = df['incendie_count']\n",
        "df['fire'][df['incendie_count']==0] = 0\n",
        "df['fire'][(df['incendie_count']>=1) & (df['incendie_count']<4)] = 1\n",
        "df['fire'][df['incendie_count']>=4] = 2\n",
        "\n",
        "\n",
        "df_new = df\n",
        "df_new['year'] =2021- df_new['year']\n",
        "  "
      ],
      "execution_count": null,
      "outputs": [
        {
          "output_type": "stream",
          "text": [
            "0     7633\n",
            "1     2644\n",
            "2      961\n",
            "3      362\n",
            "4      151\n",
            "5       55\n",
            "6       19\n",
            "7        9\n",
            "9        4\n",
            "8        4\n",
            "10       1\n",
            "Name: incendie_count, dtype: int64\n"
          ],
          "name": "stdout"
        },
        {
          "output_type": "stream",
          "text": [
            "/usr/local/lib/python3.6/dist-packages/ipykernel_launcher.py:6: SettingWithCopyWarning: \n",
            "A value is trying to be set on a copy of a slice from a DataFrame\n",
            "\n",
            "See the caveats in the documentation: https://pandas.pydata.org/pandas-docs/stable/user_guide/indexing.html#returning-a-view-versus-a-copy\n",
            "  \n",
            "/usr/local/lib/python3.6/dist-packages/ipykernel_launcher.py:7: SettingWithCopyWarning: \n",
            "A value is trying to be set on a copy of a slice from a DataFrame\n",
            "\n",
            "See the caveats in the documentation: https://pandas.pydata.org/pandas-docs/stable/user_guide/indexing.html#returning-a-view-versus-a-copy\n",
            "  import sys\n",
            "/usr/local/lib/python3.6/dist-packages/ipykernel_launcher.py:8: SettingWithCopyWarning: \n",
            "A value is trying to be set on a copy of a slice from a DataFrame\n",
            "\n",
            "See the caveats in the documentation: https://pandas.pydata.org/pandas-docs/stable/user_guide/indexing.html#returning-a-view-versus-a-copy\n",
            "  \n"
          ],
          "name": "stderr"
        }
      ]
    },
    {
      "cell_type": "code",
      "metadata": {
        "id": "RcRq4GP7t2eZ",
        "outputId": "49a6f198-d8a8-401f-9dcb-33e278bd20a5",
        "colab": {
          "base_uri": "https://localhost:8080/"
        }
      },
      "source": [
        "import geopy.distance\n",
        "\n",
        "def dist(x,y):\n",
        "  coords_1 = (45.504654, -73.56546)\n",
        "  coords_2 = (x, y)\n",
        "  return geopy.distance.vincenty(coords_1, coords_2).km\n",
        "\n",
        "df_new['distance']=0\n",
        "for x in range(0,len(df_new)-1):\n",
        "  df_new['distance'][x]=dist(df_new['latitude'][x], df_new['longitude'][x])"
      ],
      "execution_count": null,
      "outputs": [
        {
          "output_type": "stream",
          "text": [
            "/usr/local/lib/python3.6/dist-packages/ipykernel_launcher.py:10: SettingWithCopyWarning: \n",
            "A value is trying to be set on a copy of a slice from a DataFrame\n",
            "\n",
            "See the caveats in the documentation: https://pandas.pydata.org/pandas-docs/stable/user_guide/indexing.html#returning-a-view-versus-a-copy\n",
            "  # Remove the CWD from sys.path while we load stuff.\n"
          ],
          "name": "stderr"
        }
      ]
    },
    {
      "cell_type": "code",
      "metadata": {
        "id": "ZTR0Fs2Ul0Aa",
        "outputId": "c08492a8-ca9a-48ce-9c1e-c3fd3fb8b35b",
        "colab": {
          "base_uri": "https://localhost:8080/",
          "height": 534
        }
      },
      "source": [
        "df_new.tail(10)"
      ],
      "execution_count": null,
      "outputs": [
        {
          "output_type": "execute_result",
          "data": {
            "text/html": [
              "<div>\n",
              "<style scoped>\n",
              "    .dataframe tbody tr th:only-of-type {\n",
              "        vertical-align: middle;\n",
              "    }\n",
              "\n",
              "    .dataframe tbody tr th {\n",
              "        vertical-align: top;\n",
              "    }\n",
              "\n",
              "    .dataframe thead th {\n",
              "        text-align: right;\n",
              "    }\n",
              "</style>\n",
              "<table border=\"1\" class=\"dataframe\">\n",
              "  <thead>\n",
              "    <tr style=\"text-align: right;\">\n",
              "      <th></th>\n",
              "      <th>latitude</th>\n",
              "      <th>longitude</th>\n",
              "      <th>quarter</th>\n",
              "      <th>year</th>\n",
              "      <th>incendie_count</th>\n",
              "      <th>alarmes_incendies_count</th>\n",
              "      <th>total_crimes</th>\n",
              "      <th>vols_count</th>\n",
              "      <th>mefait_count</th>\n",
              "      <th>vol_de_vehicule_count</th>\n",
              "      <th>introduction_count</th>\n",
              "      <th>vol_moteur_count</th>\n",
              "      <th>infractions_entrainant_count</th>\n",
              "      <th>sum_etage_hors_sol</th>\n",
              "      <th>sum_nombre_logement</th>\n",
              "      <th>min_annee_construction</th>\n",
              "      <th>max_annee_construction</th>\n",
              "      <th>avg_annee_construction</th>\n",
              "      <th>sum_superficie_terrain</th>\n",
              "      <th>area</th>\n",
              "      <th>population</th>\n",
              "      <th>dwellings</th>\n",
              "      <th>households</th>\n",
              "      <th>averagehouseholdsize</th>\n",
              "      <th>averageage</th>\n",
              "      <th>averagesizeofcensusfamilies</th>\n",
              "      <th>workers</th>\n",
              "      <th>caserne_count</th>\n",
              "      <th>last_date</th>\n",
              "      <th>incendie_count_last_100</th>\n",
              "      <th>incendie_count_last_300</th>\n",
              "      <th>alarm_incendie_count_last_100</th>\n",
              "      <th>fire</th>\n",
              "      <th>distance</th>\n",
              "    </tr>\n",
              "  </thead>\n",
              "  <tbody>\n",
              "    <tr>\n",
              "      <th>11545</th>\n",
              "      <td>45.66</td>\n",
              "      <td>-73.51</td>\n",
              "      <td>4</td>\n",
              "      <td>1</td>\n",
              "      <td>0</td>\n",
              "      <td>0</td>\n",
              "      <td>5</td>\n",
              "      <td>0</td>\n",
              "      <td>0</td>\n",
              "      <td>4</td>\n",
              "      <td>0</td>\n",
              "      <td>1</td>\n",
              "      <td>0</td>\n",
              "      <td>1207</td>\n",
              "      <td>1044</td>\n",
              "      <td>1941</td>\n",
              "      <td>2017</td>\n",
              "      <td>1984.169195</td>\n",
              "      <td>494180</td>\n",
              "      <td>0.28223</td>\n",
              "      <td>448</td>\n",
              "      <td>168</td>\n",
              "      <td>167</td>\n",
              "      <td>2.6</td>\n",
              "      <td>41.7</td>\n",
              "      <td>3.0</td>\n",
              "      <td>135</td>\n",
              "      <td>0</td>\n",
              "      <td>2020-12-01</td>\n",
              "      <td>0</td>\n",
              "      <td>0</td>\n",
              "      <td>2</td>\n",
              "      <td>0</td>\n",
              "      <td>17</td>\n",
              "    </tr>\n",
              "    <tr>\n",
              "      <th>11569</th>\n",
              "      <td>45.66</td>\n",
              "      <td>-73.50</td>\n",
              "      <td>4</td>\n",
              "      <td>1</td>\n",
              "      <td>0</td>\n",
              "      <td>0</td>\n",
              "      <td>2</td>\n",
              "      <td>0</td>\n",
              "      <td>1</td>\n",
              "      <td>1</td>\n",
              "      <td>0</td>\n",
              "      <td>0</td>\n",
              "      <td>0</td>\n",
              "      <td>1953</td>\n",
              "      <td>1624</td>\n",
              "      <td>1925</td>\n",
              "      <td>2014</td>\n",
              "      <td>1976.802276</td>\n",
              "      <td>557374</td>\n",
              "      <td>0.30364</td>\n",
              "      <td>1090</td>\n",
              "      <td>395</td>\n",
              "      <td>388</td>\n",
              "      <td>2.8</td>\n",
              "      <td>39.9</td>\n",
              "      <td>3.0</td>\n",
              "      <td>290</td>\n",
              "      <td>0</td>\n",
              "      <td>2020-12-01</td>\n",
              "      <td>0</td>\n",
              "      <td>1</td>\n",
              "      <td>2</td>\n",
              "      <td>0</td>\n",
              "      <td>18</td>\n",
              "    </tr>\n",
              "    <tr>\n",
              "      <th>11593</th>\n",
              "      <td>45.66</td>\n",
              "      <td>-73.49</td>\n",
              "      <td>4</td>\n",
              "      <td>1</td>\n",
              "      <td>0</td>\n",
              "      <td>0</td>\n",
              "      <td>1</td>\n",
              "      <td>0</td>\n",
              "      <td>0</td>\n",
              "      <td>1</td>\n",
              "      <td>0</td>\n",
              "      <td>0</td>\n",
              "      <td>0</td>\n",
              "      <td>490</td>\n",
              "      <td>542</td>\n",
              "      <td>1752</td>\n",
              "      <td>2018</td>\n",
              "      <td>1976.853933</td>\n",
              "      <td>178758</td>\n",
              "      <td>0.21275</td>\n",
              "      <td>487</td>\n",
              "      <td>212</td>\n",
              "      <td>210</td>\n",
              "      <td>2.2</td>\n",
              "      <td>47.9</td>\n",
              "      <td>2.6</td>\n",
              "      <td>110</td>\n",
              "      <td>0</td>\n",
              "      <td>2020-12-01</td>\n",
              "      <td>0</td>\n",
              "      <td>0</td>\n",
              "      <td>1</td>\n",
              "      <td>0</td>\n",
              "      <td>18</td>\n",
              "    </tr>\n",
              "    <tr>\n",
              "      <th>11617</th>\n",
              "      <td>45.67</td>\n",
              "      <td>-73.55</td>\n",
              "      <td>4</td>\n",
              "      <td>1</td>\n",
              "      <td>0</td>\n",
              "      <td>0</td>\n",
              "      <td>1</td>\n",
              "      <td>0</td>\n",
              "      <td>0</td>\n",
              "      <td>1</td>\n",
              "      <td>0</td>\n",
              "      <td>0</td>\n",
              "      <td>0</td>\n",
              "      <td>874</td>\n",
              "      <td>607</td>\n",
              "      <td>1900</td>\n",
              "      <td>2017</td>\n",
              "      <td>1994.664671</td>\n",
              "      <td>196023</td>\n",
              "      <td>0.72304</td>\n",
              "      <td>453</td>\n",
              "      <td>158</td>\n",
              "      <td>154</td>\n",
              "      <td>2.7</td>\n",
              "      <td>43.1</td>\n",
              "      <td>2.7</td>\n",
              "      <td>75</td>\n",
              "      <td>0</td>\n",
              "      <td>2020-12-01</td>\n",
              "      <td>0</td>\n",
              "      <td>0</td>\n",
              "      <td>1</td>\n",
              "      <td>0</td>\n",
              "      <td>18</td>\n",
              "    </tr>\n",
              "    <tr>\n",
              "      <th>11685</th>\n",
              "      <td>45.67</td>\n",
              "      <td>-73.51</td>\n",
              "      <td>4</td>\n",
              "      <td>1</td>\n",
              "      <td>0</td>\n",
              "      <td>2</td>\n",
              "      <td>2</td>\n",
              "      <td>0</td>\n",
              "      <td>0</td>\n",
              "      <td>0</td>\n",
              "      <td>0</td>\n",
              "      <td>2</td>\n",
              "      <td>0</td>\n",
              "      <td>459</td>\n",
              "      <td>576</td>\n",
              "      <td>1920</td>\n",
              "      <td>2015</td>\n",
              "      <td>1981.962264</td>\n",
              "      <td>338851</td>\n",
              "      <td>0.73267</td>\n",
              "      <td>720</td>\n",
              "      <td>345</td>\n",
              "      <td>343</td>\n",
              "      <td>2.0</td>\n",
              "      <td>47.3</td>\n",
              "      <td>2.7</td>\n",
              "      <td>165</td>\n",
              "      <td>1</td>\n",
              "      <td>2020-12-01</td>\n",
              "      <td>0</td>\n",
              "      <td>0</td>\n",
              "      <td>4</td>\n",
              "      <td>0</td>\n",
              "      <td>18</td>\n",
              "    </tr>\n",
              "    <tr>\n",
              "      <th>11709</th>\n",
              "      <td>45.67</td>\n",
              "      <td>-73.50</td>\n",
              "      <td>4</td>\n",
              "      <td>1</td>\n",
              "      <td>0</td>\n",
              "      <td>0</td>\n",
              "      <td>2</td>\n",
              "      <td>0</td>\n",
              "      <td>0</td>\n",
              "      <td>0</td>\n",
              "      <td>1</td>\n",
              "      <td>1</td>\n",
              "      <td>0</td>\n",
              "      <td>1706</td>\n",
              "      <td>2237</td>\n",
              "      <td>1914</td>\n",
              "      <td>2019</td>\n",
              "      <td>1969.399127</td>\n",
              "      <td>518847</td>\n",
              "      <td>0.11503</td>\n",
              "      <td>505</td>\n",
              "      <td>285</td>\n",
              "      <td>273</td>\n",
              "      <td>1.8</td>\n",
              "      <td>43.2</td>\n",
              "      <td>2.6</td>\n",
              "      <td>100</td>\n",
              "      <td>0</td>\n",
              "      <td>2020-12-01</td>\n",
              "      <td>0</td>\n",
              "      <td>1</td>\n",
              "      <td>0</td>\n",
              "      <td>0</td>\n",
              "      <td>19</td>\n",
              "    </tr>\n",
              "    <tr>\n",
              "      <th>11738</th>\n",
              "      <td>45.68</td>\n",
              "      <td>-73.50</td>\n",
              "      <td>4</td>\n",
              "      <td>1</td>\n",
              "      <td>0</td>\n",
              "      <td>0</td>\n",
              "      <td>5</td>\n",
              "      <td>0</td>\n",
              "      <td>1</td>\n",
              "      <td>3</td>\n",
              "      <td>0</td>\n",
              "      <td>1</td>\n",
              "      <td>0</td>\n",
              "      <td>1377</td>\n",
              "      <td>898</td>\n",
              "      <td>1959</td>\n",
              "      <td>2019</td>\n",
              "      <td>1994.756098</td>\n",
              "      <td>465540</td>\n",
              "      <td>0.45534</td>\n",
              "      <td>821</td>\n",
              "      <td>422</td>\n",
              "      <td>386</td>\n",
              "      <td>2.1</td>\n",
              "      <td>37.5</td>\n",
              "      <td>2.7</td>\n",
              "      <td>335</td>\n",
              "      <td>0</td>\n",
              "      <td>2020-12-01</td>\n",
              "      <td>0</td>\n",
              "      <td>2</td>\n",
              "      <td>0</td>\n",
              "      <td>0</td>\n",
              "      <td>20</td>\n",
              "    </tr>\n",
              "    <tr>\n",
              "      <th>11760</th>\n",
              "      <td>45.69</td>\n",
              "      <td>-73.50</td>\n",
              "      <td>4</td>\n",
              "      <td>1</td>\n",
              "      <td>0</td>\n",
              "      <td>0</td>\n",
              "      <td>2</td>\n",
              "      <td>0</td>\n",
              "      <td>0</td>\n",
              "      <td>0</td>\n",
              "      <td>2</td>\n",
              "      <td>0</td>\n",
              "      <td>0</td>\n",
              "      <td>254</td>\n",
              "      <td>285</td>\n",
              "      <td>1959</td>\n",
              "      <td>2018</td>\n",
              "      <td>1999.281967</td>\n",
              "      <td>75473</td>\n",
              "      <td>2.99229</td>\n",
              "      <td>1350</td>\n",
              "      <td>519</td>\n",
              "      <td>518</td>\n",
              "      <td>2.6</td>\n",
              "      <td>38.5</td>\n",
              "      <td>2.9</td>\n",
              "      <td>580</td>\n",
              "      <td>0</td>\n",
              "      <td>2020-12-01</td>\n",
              "      <td>1</td>\n",
              "      <td>2</td>\n",
              "      <td>0</td>\n",
              "      <td>0</td>\n",
              "      <td>21</td>\n",
              "    </tr>\n",
              "    <tr>\n",
              "      <th>11784</th>\n",
              "      <td>45.69</td>\n",
              "      <td>-73.49</td>\n",
              "      <td>4</td>\n",
              "      <td>1</td>\n",
              "      <td>0</td>\n",
              "      <td>0</td>\n",
              "      <td>3</td>\n",
              "      <td>0</td>\n",
              "      <td>0</td>\n",
              "      <td>1</td>\n",
              "      <td>0</td>\n",
              "      <td>2</td>\n",
              "      <td>0</td>\n",
              "      <td>1754</td>\n",
              "      <td>1687</td>\n",
              "      <td>1925</td>\n",
              "      <td>2017</td>\n",
              "      <td>1990.051636</td>\n",
              "      <td>493065</td>\n",
              "      <td>0.20290</td>\n",
              "      <td>677</td>\n",
              "      <td>290</td>\n",
              "      <td>286</td>\n",
              "      <td>2.4</td>\n",
              "      <td>40.4</td>\n",
              "      <td>2.7</td>\n",
              "      <td>195</td>\n",
              "      <td>0</td>\n",
              "      <td>2020-12-01</td>\n",
              "      <td>0</td>\n",
              "      <td>0</td>\n",
              "      <td>1</td>\n",
              "      <td>0</td>\n",
              "      <td>21</td>\n",
              "    </tr>\n",
              "    <tr>\n",
              "      <th>11819</th>\n",
              "      <td>45.70</td>\n",
              "      <td>-73.49</td>\n",
              "      <td>4</td>\n",
              "      <td>1</td>\n",
              "      <td>0</td>\n",
              "      <td>0</td>\n",
              "      <td>1</td>\n",
              "      <td>0</td>\n",
              "      <td>0</td>\n",
              "      <td>0</td>\n",
              "      <td>0</td>\n",
              "      <td>1</td>\n",
              "      <td>0</td>\n",
              "      <td>933</td>\n",
              "      <td>805</td>\n",
              "      <td>1900</td>\n",
              "      <td>2019</td>\n",
              "      <td>1997.866756</td>\n",
              "      <td>177975</td>\n",
              "      <td>0.48567</td>\n",
              "      <td>645</td>\n",
              "      <td>255</td>\n",
              "      <td>249</td>\n",
              "      <td>2.6</td>\n",
              "      <td>41.3</td>\n",
              "      <td>2.9</td>\n",
              "      <td>170</td>\n",
              "      <td>1</td>\n",
              "      <td>2020-12-01</td>\n",
              "      <td>0</td>\n",
              "      <td>4</td>\n",
              "      <td>1</td>\n",
              "      <td>0</td>\n",
              "      <td>22</td>\n",
              "    </tr>\n",
              "  </tbody>\n",
              "</table>\n",
              "</div>"
            ],
            "text/plain": [
              "       latitude  longitude  ...  fire  distance\n",
              "11545     45.66     -73.51  ...     0        17\n",
              "11569     45.66     -73.50  ...     0        18\n",
              "11593     45.66     -73.49  ...     0        18\n",
              "11617     45.67     -73.55  ...     0        18\n",
              "11685     45.67     -73.51  ...     0        18\n",
              "11709     45.67     -73.50  ...     0        19\n",
              "11738     45.68     -73.50  ...     0        20\n",
              "11760     45.69     -73.50  ...     0        21\n",
              "11784     45.69     -73.49  ...     0        21\n",
              "11819     45.70     -73.49  ...     0        22\n",
              "\n",
              "[10 rows x 34 columns]"
            ]
          },
          "metadata": {
            "tags": []
          },
          "execution_count": 67
        }
      ]
    },
    {
      "cell_type": "code",
      "metadata": {
        "id": "lZXxle2xCeE2"
      },
      "source": [
        "df_new = df_new.drop(\"incendie_count\", axis=1)\n",
        "df_new = df_new.drop(\"last_date\", axis=1)\n",
        "dv_savepoint = df_new"
      ],
      "execution_count": null,
      "outputs": []
    },
    {
      "cell_type": "code",
      "metadata": {
        "id": "5oZUDtx5eUeA"
      },
      "source": [
        "df_new = df_new.drop(\"latitude\", axis=1)\n",
        "df_new = df_new.drop(\"longitude\", axis=1)\n",
        "\n",
        "df_new = df_new.drop(\"min_annee_construction\", axis=1)\n",
        "df_new = df_new.drop(\"max_annee_construction\", axis=1)\n",
        "\n",
        "df_new = df_new.drop(\"incendie_count_last_300\", axis=1)\n",
        "df_new = df_new.drop(\"incendie_count_last_100\", axis=1)\n",
        "df_new = df_new.drop(\"alarm_incendie_count_last_100\", axis=1)"
      ],
      "execution_count": null,
      "outputs": []
    },
    {
      "cell_type": "code",
      "metadata": {
        "id": "-LWydleGrmNu"
      },
      "source": [
        "y= df_new[\"fire\"].copy()\n",
        "X=df_new.drop(\"fire\", axis=1)"
      ],
      "execution_count": null,
      "outputs": []
    },
    {
      "cell_type": "code",
      "metadata": {
        "id": "P_QcyiBluE-j",
        "outputId": "e0feb444-a03c-41db-8a9b-179841ee1bf2",
        "colab": {
          "base_uri": "https://localhost:8080/"
        }
      },
      "source": [
        "len(X),len(y)"
      ],
      "execution_count": null,
      "outputs": [
        {
          "output_type": "execute_result",
          "data": {
            "text/plain": [
              "(11843, 11843)"
            ]
          },
          "metadata": {
            "tags": []
          },
          "execution_count": 72
        }
      ]
    },
    {
      "cell_type": "code",
      "metadata": {
        "id": "J4L5lv-9eigq",
        "outputId": "32659785-3ad7-4f9e-c9a7-4a75924ff291",
        "colab": {
          "base_uri": "https://localhost:8080/"
        }
      },
      "source": [
        "corr_matrix = df_new.corr()\n",
        "corr_matrix[\"fire\"].sort_values(ascending=False)"
      ],
      "execution_count": null,
      "outputs": [
        {
          "output_type": "execute_result",
          "data": {
            "text/plain": [
              "fire                            1.000000\n",
              "sum_nombre_logement             0.479032\n",
              "total_crimes                    0.429216\n",
              "sum_etage_hors_sol              0.420503\n",
              "alarmes_incendies_count         0.410367\n",
              "mefait_count                    0.399054\n",
              "introduction_count              0.395315\n",
              "vols_count                      0.312964\n",
              "vol_moteur_count                0.309208\n",
              "vol_de_vehicule_count           0.209143\n",
              "caserne_count                   0.158662\n",
              "max_annee_construction          0.119309\n",
              "sum_superficie_terrain          0.084048\n",
              "dwellings                       0.061831\n",
              "infractions_entrainant_count    0.052661\n",
              "households                      0.036779\n",
              "year                            0.014774\n",
              "quarter                        -0.031297\n",
              "averageage                     -0.038386\n",
              "population                     -0.051500\n",
              "averagesizeofcensusfamilies    -0.071044\n",
              "workers                        -0.083336\n",
              "averagehouseholdsize           -0.167736\n",
              "min_annee_construction         -0.172250\n",
              "area                           -0.202429\n",
              "avg_annee_construction         -0.207849\n",
              "distance                       -0.337583\n",
              "Name: fire, dtype: float64"
            ]
          },
          "metadata": {
            "tags": []
          },
          "execution_count": 102
        }
      ]
    },
    {
      "cell_type": "code",
      "metadata": {
        "id": "HWXc3Ixc112W"
      },
      "source": [
        "from sklearn.pipeline import Pipeline\n",
        "from sklearn.preprocessing import StandardScaler\n",
        "from sklearn.impute import SimpleImputer\n",
        "\n",
        "scaler = StandardScaler()\n",
        "scaler.fit(X)\n",
        "X=scaler.transform(X)"
      ],
      "execution_count": null,
      "outputs": []
    },
    {
      "cell_type": "code",
      "metadata": {
        "id": "oCvRc7bj2IWo"
      },
      "source": [
        "X=pd.DataFrame(X)\n",
        "X"
      ],
      "execution_count": null,
      "outputs": []
    },
    {
      "cell_type": "code",
      "metadata": {
        "id": "KHXaNIG7XNhh",
        "outputId": "727e1c46-e72b-4a09-de6b-daa85c2d0651",
        "colab": {
          "base_uri": "https://localhost:8080/"
        }
      },
      "source": [
        "# manually prepare test and train data \n",
        "\n",
        "X_train=X[df_new['year'] > 2] # choose 2019 data as train\n",
        "y_train = y[df_new['year'] > 2]\n",
        "\n",
        "X_test = X[df_new['year']*df_new['quarter'] == 2]\n",
        "y_test = y[df_new['year']*df_new['quarter'] == 2]\n",
        "\n",
        "len(X_train),len(X_test),len(y_train),len(y_test)"
      ],
      "execution_count": null,
      "outputs": [
        {
          "output_type": "stream",
          "text": [
            "/usr/local/lib/python3.6/dist-packages/ipykernel_launcher.py:3: UserWarning: Boolean Series key will be reindexed to match DataFrame index.\n",
            "  This is separate from the ipykernel package so we can avoid doing imports until\n",
            "/usr/local/lib/python3.6/dist-packages/ipykernel_launcher.py:6: UserWarning: Boolean Series key will be reindexed to match DataFrame index.\n",
            "  \n"
          ],
          "name": "stderr"
        },
        {
          "output_type": "execute_result",
          "data": {
            "text/plain": [
              "(7999, 985, 7999, 985)"
            ]
          },
          "metadata": {
            "tags": []
          },
          "execution_count": 76
        }
      ]
    },
    {
      "cell_type": "code",
      "metadata": {
        "id": "3PgUfC_hsPBi",
        "outputId": "0db096cf-4d3b-4f46-be9c-8b53a3e65dea",
        "colab": {
          "base_uri": "https://localhost:8080/"
        }
      },
      "source": [
        "from sklearn.model_selection import train_test_split\n",
        "train_set, test_set = train_test_split(df, test_size=0.2, random_state=42)\n",
        "\n",
        "#X_train, X_test, y_train, y_test = train_test_split(X, y,test_size=0.1,random_state=4)\n",
        "\n",
        "len(X_train),len(X_test),len(y_train),len(y_test)"
      ],
      "execution_count": null,
      "outputs": [
        {
          "output_type": "execute_result",
          "data": {
            "text/plain": [
              "(7999, 985, 7999, 985)"
            ]
          },
          "metadata": {
            "tags": []
          },
          "execution_count": 77
        }
      ]
    },
    {
      "cell_type": "code",
      "metadata": {
        "id": "BeJT2RRby8P0",
        "outputId": "d8c7b341-ab4c-4632-d6dc-8ed4f6490c10",
        "colab": {
          "base_uri": "https://localhost:8080/"
        }
      },
      "source": [
        "y_train.value_counts(), y_test.value_counts()"
      ],
      "execution_count": null,
      "outputs": [
        {
          "output_type": "execute_result",
          "data": {
            "text/plain": [
              "(0    5111\n",
              " 1    2730\n",
              " 2     158\n",
              " Name: fire, dtype: int64, 0    594\n",
              " 1    359\n",
              " 2     32\n",
              " Name: fire, dtype: int64)"
            ]
          },
          "metadata": {
            "tags": []
          },
          "execution_count": 78
        }
      ]
    },
    {
      "cell_type": "code",
      "metadata": {
        "id": "d8V1YFB-Q2AZ",
        "outputId": "916d5fa7-0a2f-4d36-b31f-e5f6d375237a",
        "colab": {
          "base_uri": "https://localhost:8080/"
        }
      },
      "source": [
        "## SVM with polynomial kernel \n",
        "\n",
        "\n",
        "from sklearn.pipeline import Pipeline\n",
        "from sklearn.preprocessing import PolynomialFeatures\n",
        "from sklearn.svm import LinearSVC\n",
        "\n",
        "polynomial_svm_clf = Pipeline([\n",
        "        (\"poly_features\", PolynomialFeatures(degree=3)),\n",
        "        (\"svm_clf\", LinearSVC(C=10, loss=\"hinge\", random_state=42, max_iter=3000))\n",
        "    ])\n",
        "\n",
        "polynomial_svm_clf.fit(X_train, y_train)"
      ],
      "execution_count": null,
      "outputs": [
        {
          "output_type": "stream",
          "text": [
            "/usr/local/lib/python3.6/dist-packages/sklearn/svm/_base.py:947: ConvergenceWarning: Liblinear failed to converge, increase the number of iterations.\n",
            "  \"the number of iterations.\", ConvergenceWarning)\n"
          ],
          "name": "stderr"
        },
        {
          "output_type": "execute_result",
          "data": {
            "text/plain": [
              "Pipeline(memory=None,\n",
              "         steps=[('poly_features',\n",
              "                 PolynomialFeatures(degree=3, include_bias=True,\n",
              "                                    interaction_only=False, order='C')),\n",
              "                ('svm_clf',\n",
              "                 LinearSVC(C=10, class_weight=None, dual=True,\n",
              "                           fit_intercept=True, intercept_scaling=1,\n",
              "                           loss='hinge', max_iter=3000, multi_class='ovr',\n",
              "                           penalty='l2', random_state=42, tol=0.0001,\n",
              "                           verbose=0))],\n",
              "         verbose=False)"
            ]
          },
          "metadata": {
            "tags": []
          },
          "execution_count": 98
        }
      ]
    },
    {
      "cell_type": "code",
      "metadata": {
        "id": "kFSjGFGdHSrL",
        "outputId": "d8b0a0a5-86b2-45a7-f0e0-090eb7c84daf",
        "colab": {
          "base_uri": "https://localhost:8080/"
        }
      },
      "source": [
        "y_predictions=polynomial_svm_clf.predict(X_test)\n",
        "tree_mse = mean_squared_error(y_test, y_predictions)\n",
        "tree_rmse = np.sqrt(tree_mse)\n",
        "print(tree_rmse)\n",
        "confusion_matrix_valid = confusion_matrix(y_test, y_predictions)\n",
        "print(confusion_matrix_valid)"
      ],
      "execution_count": null,
      "outputs": [
        {
          "output_type": "stream",
          "text": [
            "0.8029134765100293\n",
            "[[364 203  27]\n",
            " [225 116  18]\n",
            " [ 17  13   2]]\n"
          ],
          "name": "stdout"
        }
      ]
    },
    {
      "cell_type": "code",
      "metadata": {
        "id": "QzLrRO7-XK1X"
      },
      "source": [
        "## polynomial kernel ; kernel trick ??\n",
        "\n",
        "\n",
        "from sklearn.svm import SVC\n",
        "\n",
        "poly_kernel_svm_clf = Pipeline([\n",
        "        (\"svm_clf\", SVC(kernel=\"poly\", degree=5, coef0=10, C=5))\n",
        "    ])\n",
        "## poly_kernel_svm_clf.fit(X_train, y_train)## taking lot of time"
      ],
      "execution_count": null,
      "outputs": []
    },
    {
      "cell_type": "code",
      "metadata": {
        "id": "Nh4FwuFUoEW-",
        "outputId": "027a0dee-38a0-405f-8438-b51be34e9a88",
        "colab": {
          "base_uri": "https://localhost:8080/"
        }
      },
      "source": [
        "\n",
        "from sklearn.tree import DecisionTreeClassifier\n",
        "\n",
        "\n",
        "\n",
        "tree_clf = DecisionTreeClassifier(max_depth=100, random_state=42)\n",
        "tree_clf.fit(X_train, y_train)"
      ],
      "execution_count": null,
      "outputs": [
        {
          "output_type": "execute_result",
          "data": {
            "text/plain": [
              "DecisionTreeClassifier(ccp_alpha=0.0, class_weight=None, criterion='gini',\n",
              "                       max_depth=100, max_features=None, max_leaf_nodes=None,\n",
              "                       min_impurity_decrease=0.0, min_impurity_split=None,\n",
              "                       min_samples_leaf=1, min_samples_split=2,\n",
              "                       min_weight_fraction_leaf=0.0, presort='deprecated',\n",
              "                       random_state=42, splitter='best')"
            ]
          },
          "metadata": {
            "tags": []
          },
          "execution_count": 100
        }
      ]
    },
    {
      "cell_type": "code",
      "metadata": {
        "id": "me-iR_b2oMyF",
        "outputId": "5a566fb4-55d1-4e2e-a710-26769975f7e3",
        "colab": {
          "base_uri": "https://localhost:8080/"
        }
      },
      "source": [
        "y_predictions=tree_clf.predict(X_test)\n",
        "tree_mse = mean_squared_error(y_test, y_predictions)\n",
        "tree_rmse = np.sqrt(tree_mse)\n",
        "print(tree_rmse)\n",
        "confusion_matrix_valid = confusion_matrix(y_test, y_predictions)\n",
        "print(confusion_matrix_valid)"
      ],
      "execution_count": null,
      "outputs": [
        {
          "output_type": "stream",
          "text": [
            "0.7984757051887363\n",
            "[[355 224  15]\n",
            " [233 113  13]\n",
            " [ 22  10   0]]\n"
          ],
          "name": "stdout"
        }
      ]
    }
  ]
}