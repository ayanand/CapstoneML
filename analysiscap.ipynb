{
  "nbformat": 4,
  "nbformat_minor": 0,
  "metadata": {
    "colab": {
      "name": "analysiscap.ipynb",
      "provenance": [],
      "collapsed_sections": [],
      "include_colab_link": true
    },
    "kernelspec": {
      "display_name": "Python 3",
      "name": "python3"
    },
    "accelerator": "GPU"
  },
  "cells": [
    {
      "cell_type": "markdown",
      "metadata": {
        "id": "view-in-github",
        "colab_type": "text"
      },
      "source": [
        "<a href=\"https://colab.research.google.com/github/ayanand/CapstoneML/blob/main/analysiscap.ipynb\" target=\"_parent\"><img src=\"https://colab.research.google.com/assets/colab-badge.svg\" alt=\"Open In Colab\"/></a>"
      ]
    },
    {
      "cell_type": "markdown",
      "metadata": {
        "id": "HQI44picvWYs"
      },
      "source": [
        "<table align=\"left\">\n",
        "  <td>\n",
        "    <a target=\"_blank\" href=\"https://colab.research.google.com/github/ayanand/CapstoneML/blob/main/analysiscap.ipynb\"><img src=\"https://www.tensorflow.org/images/colab_logo_32px.png\" />Run in Google Colab</a>\n",
        "  </td>\n",
        "</table>"
      ]
    },
    {
      "cell_type": "code",
      "metadata": {
        "id": "_WCXOdd8KFCm",
        "outputId": "9549c6bd-728c-41db-d8f0-a0475fcf5afe",
        "colab": {
          "base_uri": "https://localhost:8080/"
        }
      },
      "source": [
        "import pandas as pd\n",
        "!pip install fsspec\n",
        "!pip install gcsfs \n",
        " \n",
        " \n"
      ],
      "execution_count": 35,
      "outputs": [
        {
          "output_type": "stream",
          "text": [
            "Requirement already satisfied: fsspec in /usr/local/lib/python3.6/dist-packages (0.8.4)\n",
            "Requirement already satisfied: gcsfs in /usr/local/lib/python3.6/dist-packages (0.7.1)\n",
            "Requirement already satisfied: aiohttp in /usr/local/lib/python3.6/dist-packages (from gcsfs) (3.7.2)\n",
            "Requirement already satisfied: fsspec>=0.8.0 in /usr/local/lib/python3.6/dist-packages (from gcsfs) (0.8.4)\n",
            "Requirement already satisfied: google-auth-oauthlib in /usr/local/lib/python3.6/dist-packages (from gcsfs) (0.4.2)\n",
            "Requirement already satisfied: requests in /usr/local/lib/python3.6/dist-packages (from gcsfs) (2.23.0)\n",
            "Requirement already satisfied: google-auth>=1.2 in /usr/local/lib/python3.6/dist-packages (from gcsfs) (1.17.2)\n",
            "Requirement already satisfied: decorator in /usr/local/lib/python3.6/dist-packages (from gcsfs) (4.4.2)\n",
            "Requirement already satisfied: idna-ssl>=1.0; python_version < \"3.7\" in /usr/local/lib/python3.6/dist-packages (from aiohttp->gcsfs) (1.1.0)\n",
            "Requirement already satisfied: chardet<4.0,>=2.0 in /usr/local/lib/python3.6/dist-packages (from aiohttp->gcsfs) (3.0.4)\n",
            "Requirement already satisfied: multidict<7.0,>=4.5 in /usr/local/lib/python3.6/dist-packages (from aiohttp->gcsfs) (5.0.2)\n",
            "Requirement already satisfied: typing-extensions>=3.6.5 in /usr/local/lib/python3.6/dist-packages (from aiohttp->gcsfs) (3.7.4.3)\n",
            "Requirement already satisfied: attrs>=17.3.0 in /usr/local/lib/python3.6/dist-packages (from aiohttp->gcsfs) (20.2.0)\n",
            "Requirement already satisfied: yarl<2.0,>=1.0 in /usr/local/lib/python3.6/dist-packages (from aiohttp->gcsfs) (1.6.2)\n",
            "Requirement already satisfied: async-timeout<4.0,>=3.0 in /usr/local/lib/python3.6/dist-packages (from aiohttp->gcsfs) (3.0.1)\n",
            "Requirement already satisfied: requests-oauthlib>=0.7.0 in /usr/local/lib/python3.6/dist-packages (from google-auth-oauthlib->gcsfs) (1.3.0)\n",
            "Requirement already satisfied: idna<3,>=2.5 in /usr/local/lib/python3.6/dist-packages (from requests->gcsfs) (2.10)\n",
            "Requirement already satisfied: certifi>=2017.4.17 in /usr/local/lib/python3.6/dist-packages (from requests->gcsfs) (2020.6.20)\n",
            "Requirement already satisfied: urllib3!=1.25.0,!=1.25.1,<1.26,>=1.21.1 in /usr/local/lib/python3.6/dist-packages (from requests->gcsfs) (1.24.3)\n",
            "Requirement already satisfied: setuptools>=40.3.0 in /usr/local/lib/python3.6/dist-packages (from google-auth>=1.2->gcsfs) (50.3.2)\n",
            "Requirement already satisfied: six>=1.9.0 in /usr/local/lib/python3.6/dist-packages (from google-auth>=1.2->gcsfs) (1.15.0)\n",
            "Requirement already satisfied: rsa<5,>=3.1.4; python_version >= \"3\" in /usr/local/lib/python3.6/dist-packages (from google-auth>=1.2->gcsfs) (4.6)\n",
            "Requirement already satisfied: pyasn1-modules>=0.2.1 in /usr/local/lib/python3.6/dist-packages (from google-auth>=1.2->gcsfs) (0.2.8)\n",
            "Requirement already satisfied: cachetools<5.0,>=2.0.0 in /usr/local/lib/python3.6/dist-packages (from google-auth>=1.2->gcsfs) (4.1.1)\n",
            "Requirement already satisfied: oauthlib>=3.0.0 in /usr/local/lib/python3.6/dist-packages (from requests-oauthlib>=0.7.0->google-auth-oauthlib->gcsfs) (3.1.0)\n",
            "Requirement already satisfied: pyasn1>=0.1.3 in /usr/local/lib/python3.6/dist-packages (from rsa<5,>=3.1.4; python_version >= \"3\"->google-auth>=1.2->gcsfs) (0.4.8)\n"
          ],
          "name": "stdout"
        }
      ]
    },
    {
      "cell_type": "code",
      "metadata": {
        "id": "ceLpAYLusrqu"
      },
      "source": [
        "df = pd.read_csv('gs://capstoragebucket2020/All_joined_v4.csv')"
      ],
      "execution_count": 44,
      "outputs": []
    },
    {
      "cell_type": "code",
      "metadata": {
        "id": "92U39KKyPT7O",
        "outputId": "ed9f563b-6d2e-406d-d650-6d587014a0cd",
        "colab": {
          "base_uri": "https://localhost:8080/",
          "height": 224
        }
      },
      "source": [
        "df.tail()"
      ],
      "execution_count": 43,
      "outputs": [
        {
          "output_type": "execute_result",
          "data": {
            "text/html": [
              "<div>\n",
              "<style scoped>\n",
              "    .dataframe tbody tr th:only-of-type {\n",
              "        vertical-align: middle;\n",
              "    }\n",
              "\n",
              "    .dataframe tbody tr th {\n",
              "        vertical-align: top;\n",
              "    }\n",
              "\n",
              "    .dataframe thead th {\n",
              "        text-align: right;\n",
              "    }\n",
              "</style>\n",
              "<table border=\"1\" class=\"dataframe\">\n",
              "  <thead>\n",
              "    <tr style=\"text-align: right;\">\n",
              "      <th></th>\n",
              "      <th>latitude</th>\n",
              "      <th>longitude</th>\n",
              "      <th>quarter</th>\n",
              "      <th>year</th>\n",
              "      <th>incendie_count</th>\n",
              "      <th>alarmes_incendies_count</th>\n",
              "      <th>total_crimes</th>\n",
              "      <th>vols_count</th>\n",
              "      <th>mefait_count</th>\n",
              "      <th>vol_de_vehicule_count</th>\n",
              "      <th>introduction_count</th>\n",
              "      <th>vol_moteur_count</th>\n",
              "      <th>infractions_entrainant_count</th>\n",
              "      <th>sum_etage_hors_sol</th>\n",
              "      <th>sum_nombre_logement</th>\n",
              "      <th>min_annee_construction</th>\n",
              "      <th>max_annee_construction</th>\n",
              "      <th>avg_annee_construction</th>\n",
              "      <th>sum_superficie_terrain</th>\n",
              "      <th>area</th>\n",
              "      <th>population</th>\n",
              "      <th>dwellings</th>\n",
              "      <th>households</th>\n",
              "      <th>averagehouseholdsize</th>\n",
              "      <th>averageage</th>\n",
              "      <th>averagesizeofcensusfamilies</th>\n",
              "      <th>workers</th>\n",
              "      <th>caserne_count</th>\n",
              "      <th>fire</th>\n",
              "      <th>distance</th>\n",
              "    </tr>\n",
              "  </thead>\n",
              "  <tbody>\n",
              "    <tr>\n",
              "      <th>11709</th>\n",
              "      <td>45.67</td>\n",
              "      <td>-73.50</td>\n",
              "      <td>4</td>\n",
              "      <td>1</td>\n",
              "      <td>0</td>\n",
              "      <td>0</td>\n",
              "      <td>2</td>\n",
              "      <td>0</td>\n",
              "      <td>0</td>\n",
              "      <td>0</td>\n",
              "      <td>1</td>\n",
              "      <td>1</td>\n",
              "      <td>0</td>\n",
              "      <td>1706</td>\n",
              "      <td>2237</td>\n",
              "      <td>1914</td>\n",
              "      <td>2019</td>\n",
              "      <td>1969.399127</td>\n",
              "      <td>518847</td>\n",
              "      <td>0.11503</td>\n",
              "      <td>505</td>\n",
              "      <td>285</td>\n",
              "      <td>273</td>\n",
              "      <td>1.8</td>\n",
              "      <td>43.2</td>\n",
              "      <td>2.6</td>\n",
              "      <td>100</td>\n",
              "      <td>0</td>\n",
              "      <td>0</td>\n",
              "      <td>0</td>\n",
              "    </tr>\n",
              "    <tr>\n",
              "      <th>11738</th>\n",
              "      <td>45.68</td>\n",
              "      <td>-73.50</td>\n",
              "      <td>4</td>\n",
              "      <td>1</td>\n",
              "      <td>0</td>\n",
              "      <td>0</td>\n",
              "      <td>5</td>\n",
              "      <td>0</td>\n",
              "      <td>1</td>\n",
              "      <td>3</td>\n",
              "      <td>0</td>\n",
              "      <td>1</td>\n",
              "      <td>0</td>\n",
              "      <td>1377</td>\n",
              "      <td>898</td>\n",
              "      <td>1959</td>\n",
              "      <td>2019</td>\n",
              "      <td>1994.756098</td>\n",
              "      <td>465540</td>\n",
              "      <td>0.45534</td>\n",
              "      <td>821</td>\n",
              "      <td>422</td>\n",
              "      <td>386</td>\n",
              "      <td>2.1</td>\n",
              "      <td>37.5</td>\n",
              "      <td>2.7</td>\n",
              "      <td>335</td>\n",
              "      <td>0</td>\n",
              "      <td>0</td>\n",
              "      <td>0</td>\n",
              "    </tr>\n",
              "    <tr>\n",
              "      <th>11760</th>\n",
              "      <td>45.69</td>\n",
              "      <td>-73.50</td>\n",
              "      <td>4</td>\n",
              "      <td>1</td>\n",
              "      <td>0</td>\n",
              "      <td>0</td>\n",
              "      <td>2</td>\n",
              "      <td>0</td>\n",
              "      <td>0</td>\n",
              "      <td>0</td>\n",
              "      <td>2</td>\n",
              "      <td>0</td>\n",
              "      <td>0</td>\n",
              "      <td>254</td>\n",
              "      <td>285</td>\n",
              "      <td>1959</td>\n",
              "      <td>2018</td>\n",
              "      <td>1999.281967</td>\n",
              "      <td>75473</td>\n",
              "      <td>2.99229</td>\n",
              "      <td>1350</td>\n",
              "      <td>519</td>\n",
              "      <td>518</td>\n",
              "      <td>2.6</td>\n",
              "      <td>38.5</td>\n",
              "      <td>2.9</td>\n",
              "      <td>580</td>\n",
              "      <td>0</td>\n",
              "      <td>0</td>\n",
              "      <td>0</td>\n",
              "    </tr>\n",
              "    <tr>\n",
              "      <th>11784</th>\n",
              "      <td>45.69</td>\n",
              "      <td>-73.49</td>\n",
              "      <td>4</td>\n",
              "      <td>1</td>\n",
              "      <td>0</td>\n",
              "      <td>0</td>\n",
              "      <td>3</td>\n",
              "      <td>0</td>\n",
              "      <td>0</td>\n",
              "      <td>1</td>\n",
              "      <td>0</td>\n",
              "      <td>2</td>\n",
              "      <td>0</td>\n",
              "      <td>1754</td>\n",
              "      <td>1687</td>\n",
              "      <td>1925</td>\n",
              "      <td>2017</td>\n",
              "      <td>1990.051636</td>\n",
              "      <td>493065</td>\n",
              "      <td>0.20290</td>\n",
              "      <td>677</td>\n",
              "      <td>290</td>\n",
              "      <td>286</td>\n",
              "      <td>2.4</td>\n",
              "      <td>40.4</td>\n",
              "      <td>2.7</td>\n",
              "      <td>195</td>\n",
              "      <td>0</td>\n",
              "      <td>0</td>\n",
              "      <td>0</td>\n",
              "    </tr>\n",
              "    <tr>\n",
              "      <th>11819</th>\n",
              "      <td>45.70</td>\n",
              "      <td>-73.49</td>\n",
              "      <td>4</td>\n",
              "      <td>1</td>\n",
              "      <td>0</td>\n",
              "      <td>0</td>\n",
              "      <td>1</td>\n",
              "      <td>0</td>\n",
              "      <td>0</td>\n",
              "      <td>0</td>\n",
              "      <td>0</td>\n",
              "      <td>1</td>\n",
              "      <td>0</td>\n",
              "      <td>933</td>\n",
              "      <td>805</td>\n",
              "      <td>1900</td>\n",
              "      <td>2019</td>\n",
              "      <td>1997.866756</td>\n",
              "      <td>177975</td>\n",
              "      <td>0.48567</td>\n",
              "      <td>645</td>\n",
              "      <td>255</td>\n",
              "      <td>249</td>\n",
              "      <td>2.6</td>\n",
              "      <td>41.3</td>\n",
              "      <td>2.9</td>\n",
              "      <td>170</td>\n",
              "      <td>1</td>\n",
              "      <td>0</td>\n",
              "      <td>0</td>\n",
              "    </tr>\n",
              "  </tbody>\n",
              "</table>\n",
              "</div>"
            ],
            "text/plain": [
              "       latitude  longitude  quarter  ...  caserne_count  fire  distance\n",
              "11709     45.67     -73.50        4  ...              0     0         0\n",
              "11738     45.68     -73.50        4  ...              0     0         0\n",
              "11760     45.69     -73.50        4  ...              0     0         0\n",
              "11784     45.69     -73.49        4  ...              0     0         0\n",
              "11819     45.70     -73.49        4  ...              1     0         0\n",
              "\n",
              "[5 rows x 30 columns]"
            ]
          },
          "metadata": {
            "tags": []
          },
          "execution_count": 43
        }
      ]
    },
    {
      "cell_type": "code",
      "metadata": {
        "id": "h4pz09PGUaDv"
      },
      "source": [
        "df=df.sort_values(by=['year', 'quarter','latitude','longitude'])"
      ],
      "execution_count": 45,
      "outputs": []
    },
    {
      "cell_type": "code",
      "metadata": {
        "id": "SmBmPxznXwOC",
        "outputId": "9e9a62aa-6ff5-4598-bb9a-884f1d7a1e26",
        "colab": {
          "base_uri": "https://localhost:8080/"
        }
      },
      "source": [
        "df['incendie_count'].value_counts()\n",
        "\n",
        "\n",
        "#Define three classes of fire risk by the summed number of fire incidence from 2015-2020\n",
        "#low risk < 5, moderate risk 5-15, high risk > 15\n",
        "df['fire'] = df['incendie_count']\n",
        "\n",
        "df['fire'][df['incendie_count']==0] = 0\n",
        "df['fire'][(df['incendie_count']>=1) & (df['incendie_count']<4)] = 1\n",
        "df['fire'][df['incendie_count']>=4] = 2\n",
        "\n",
        "\n",
        "\n",
        "  "
      ],
      "execution_count": 46,
      "outputs": [
        {
          "output_type": "stream",
          "text": [
            "/usr/local/lib/python3.6/dist-packages/ipykernel_launcher.py:8: SettingWithCopyWarning: \n",
            "A value is trying to be set on a copy of a slice from a DataFrame\n",
            "\n",
            "See the caveats in the documentation: https://pandas.pydata.org/pandas-docs/stable/user_guide/indexing.html#returning-a-view-versus-a-copy\n",
            "  \n",
            "/usr/local/lib/python3.6/dist-packages/ipykernel_launcher.py:9: SettingWithCopyWarning: \n",
            "A value is trying to be set on a copy of a slice from a DataFrame\n",
            "\n",
            "See the caveats in the documentation: https://pandas.pydata.org/pandas-docs/stable/user_guide/indexing.html#returning-a-view-versus-a-copy\n",
            "  if __name__ == '__main__':\n",
            "/usr/local/lib/python3.6/dist-packages/ipykernel_launcher.py:10: SettingWithCopyWarning: \n",
            "A value is trying to be set on a copy of a slice from a DataFrame\n",
            "\n",
            "See the caveats in the documentation: https://pandas.pydata.org/pandas-docs/stable/user_guide/indexing.html#returning-a-view-versus-a-copy\n",
            "  # Remove the CWD from sys.path while we load stuff.\n"
          ],
          "name": "stderr"
        }
      ]
    },
    {
      "cell_type": "code",
      "metadata": {
        "id": "JElOeWujjdd4"
      },
      "source": [
        "df_new = df\n",
        "df_new['year'] =2021- df_new['year']"
      ],
      "execution_count": 47,
      "outputs": []
    },
    {
      "cell_type": "code",
      "metadata": {
        "id": "tWvnjdPxnDVy"
      },
      "source": [
        "import geopy.distance\n",
        "\n",
        "def dist(x,y):\n",
        "  coords_1 = (45.504654, -73.56546)\n",
        "  coords_2 = (x, y)\n",
        "  return geopy.distance.vincenty(coords_1, coords_2).km\n"
      ],
      "execution_count": 48,
      "outputs": []
    },
    {
      "cell_type": "code",
      "metadata": {
        "id": "RcRq4GP7t2eZ"
      },
      "source": [
        "df_new['distance']=0"
      ],
      "execution_count": 49,
      "outputs": []
    },
    {
      "cell_type": "code",
      "metadata": {
        "id": "2vJyO2EXnPbJ",
        "outputId": "25eafa30-a5ff-4123-f1c8-6dbf2c69a00b",
        "colab": {
          "base_uri": "https://localhost:8080/"
        }
      },
      "source": [
        "for x in range(0,len(df_new)-1):\n",
        "  df_new['distance'][x]=dist(df_new['latitude'][x], df_new['longitude'][x])"
      ],
      "execution_count": 50,
      "outputs": [
        {
          "output_type": "stream",
          "text": [
            "/usr/local/lib/python3.6/dist-packages/ipykernel_launcher.py:2: SettingWithCopyWarning: \n",
            "A value is trying to be set on a copy of a slice from a DataFrame\n",
            "\n",
            "See the caveats in the documentation: https://pandas.pydata.org/pandas-docs/stable/user_guide/indexing.html#returning-a-view-versus-a-copy\n",
            "  \n"
          ],
          "name": "stderr"
        }
      ]
    },
    {
      "cell_type": "code",
      "metadata": {
        "id": "ZTR0Fs2Ul0Aa",
        "outputId": "f2122953-4fc3-4a9c-d2be-c1d8c61dbafd",
        "colab": {
          "base_uri": "https://localhost:8080/",
          "height": 379
        }
      },
      "source": [
        "df_new.tail(10)"
      ],
      "execution_count": 51,
      "outputs": [
        {
          "output_type": "execute_result",
          "data": {
            "text/html": [
              "<div>\n",
              "<style scoped>\n",
              "    .dataframe tbody tr th:only-of-type {\n",
              "        vertical-align: middle;\n",
              "    }\n",
              "\n",
              "    .dataframe tbody tr th {\n",
              "        vertical-align: top;\n",
              "    }\n",
              "\n",
              "    .dataframe thead th {\n",
              "        text-align: right;\n",
              "    }\n",
              "</style>\n",
              "<table border=\"1\" class=\"dataframe\">\n",
              "  <thead>\n",
              "    <tr style=\"text-align: right;\">\n",
              "      <th></th>\n",
              "      <th>latitude</th>\n",
              "      <th>longitude</th>\n",
              "      <th>quarter</th>\n",
              "      <th>year</th>\n",
              "      <th>incendie_count</th>\n",
              "      <th>alarmes_incendies_count</th>\n",
              "      <th>total_crimes</th>\n",
              "      <th>vols_count</th>\n",
              "      <th>mefait_count</th>\n",
              "      <th>vol_de_vehicule_count</th>\n",
              "      <th>introduction_count</th>\n",
              "      <th>vol_moteur_count</th>\n",
              "      <th>infractions_entrainant_count</th>\n",
              "      <th>sum_etage_hors_sol</th>\n",
              "      <th>sum_nombre_logement</th>\n",
              "      <th>min_annee_construction</th>\n",
              "      <th>max_annee_construction</th>\n",
              "      <th>avg_annee_construction</th>\n",
              "      <th>sum_superficie_terrain</th>\n",
              "      <th>area</th>\n",
              "      <th>population</th>\n",
              "      <th>dwellings</th>\n",
              "      <th>households</th>\n",
              "      <th>averagehouseholdsize</th>\n",
              "      <th>averageage</th>\n",
              "      <th>averagesizeofcensusfamilies</th>\n",
              "      <th>workers</th>\n",
              "      <th>caserne_count</th>\n",
              "      <th>fire</th>\n",
              "      <th>distance</th>\n",
              "    </tr>\n",
              "  </thead>\n",
              "  <tbody>\n",
              "    <tr>\n",
              "      <th>11545</th>\n",
              "      <td>45.66</td>\n",
              "      <td>-73.51</td>\n",
              "      <td>4</td>\n",
              "      <td>1</td>\n",
              "      <td>0</td>\n",
              "      <td>0</td>\n",
              "      <td>5</td>\n",
              "      <td>0</td>\n",
              "      <td>0</td>\n",
              "      <td>4</td>\n",
              "      <td>0</td>\n",
              "      <td>1</td>\n",
              "      <td>0</td>\n",
              "      <td>1207</td>\n",
              "      <td>1044</td>\n",
              "      <td>1941</td>\n",
              "      <td>2017</td>\n",
              "      <td>1984.169195</td>\n",
              "      <td>494180</td>\n",
              "      <td>0.28223</td>\n",
              "      <td>448</td>\n",
              "      <td>168</td>\n",
              "      <td>167</td>\n",
              "      <td>2.6</td>\n",
              "      <td>41.7</td>\n",
              "      <td>3.0</td>\n",
              "      <td>135</td>\n",
              "      <td>0</td>\n",
              "      <td>0</td>\n",
              "      <td>17</td>\n",
              "    </tr>\n",
              "    <tr>\n",
              "      <th>11569</th>\n",
              "      <td>45.66</td>\n",
              "      <td>-73.50</td>\n",
              "      <td>4</td>\n",
              "      <td>1</td>\n",
              "      <td>0</td>\n",
              "      <td>0</td>\n",
              "      <td>2</td>\n",
              "      <td>0</td>\n",
              "      <td>1</td>\n",
              "      <td>1</td>\n",
              "      <td>0</td>\n",
              "      <td>0</td>\n",
              "      <td>0</td>\n",
              "      <td>1953</td>\n",
              "      <td>1624</td>\n",
              "      <td>1925</td>\n",
              "      <td>2014</td>\n",
              "      <td>1976.802276</td>\n",
              "      <td>557374</td>\n",
              "      <td>0.30364</td>\n",
              "      <td>1090</td>\n",
              "      <td>395</td>\n",
              "      <td>388</td>\n",
              "      <td>2.8</td>\n",
              "      <td>39.9</td>\n",
              "      <td>3.0</td>\n",
              "      <td>290</td>\n",
              "      <td>0</td>\n",
              "      <td>0</td>\n",
              "      <td>18</td>\n",
              "    </tr>\n",
              "    <tr>\n",
              "      <th>11593</th>\n",
              "      <td>45.66</td>\n",
              "      <td>-73.49</td>\n",
              "      <td>4</td>\n",
              "      <td>1</td>\n",
              "      <td>0</td>\n",
              "      <td>0</td>\n",
              "      <td>1</td>\n",
              "      <td>0</td>\n",
              "      <td>0</td>\n",
              "      <td>1</td>\n",
              "      <td>0</td>\n",
              "      <td>0</td>\n",
              "      <td>0</td>\n",
              "      <td>490</td>\n",
              "      <td>542</td>\n",
              "      <td>1752</td>\n",
              "      <td>2018</td>\n",
              "      <td>1976.853933</td>\n",
              "      <td>178758</td>\n",
              "      <td>0.21275</td>\n",
              "      <td>487</td>\n",
              "      <td>212</td>\n",
              "      <td>210</td>\n",
              "      <td>2.2</td>\n",
              "      <td>47.9</td>\n",
              "      <td>2.6</td>\n",
              "      <td>110</td>\n",
              "      <td>0</td>\n",
              "      <td>0</td>\n",
              "      <td>18</td>\n",
              "    </tr>\n",
              "    <tr>\n",
              "      <th>11617</th>\n",
              "      <td>45.67</td>\n",
              "      <td>-73.55</td>\n",
              "      <td>4</td>\n",
              "      <td>1</td>\n",
              "      <td>0</td>\n",
              "      <td>0</td>\n",
              "      <td>1</td>\n",
              "      <td>0</td>\n",
              "      <td>0</td>\n",
              "      <td>1</td>\n",
              "      <td>0</td>\n",
              "      <td>0</td>\n",
              "      <td>0</td>\n",
              "      <td>874</td>\n",
              "      <td>607</td>\n",
              "      <td>1900</td>\n",
              "      <td>2017</td>\n",
              "      <td>1994.664671</td>\n",
              "      <td>196023</td>\n",
              "      <td>0.72304</td>\n",
              "      <td>453</td>\n",
              "      <td>158</td>\n",
              "      <td>154</td>\n",
              "      <td>2.7</td>\n",
              "      <td>43.1</td>\n",
              "      <td>2.7</td>\n",
              "      <td>75</td>\n",
              "      <td>0</td>\n",
              "      <td>0</td>\n",
              "      <td>18</td>\n",
              "    </tr>\n",
              "    <tr>\n",
              "      <th>11685</th>\n",
              "      <td>45.67</td>\n",
              "      <td>-73.51</td>\n",
              "      <td>4</td>\n",
              "      <td>1</td>\n",
              "      <td>0</td>\n",
              "      <td>2</td>\n",
              "      <td>2</td>\n",
              "      <td>0</td>\n",
              "      <td>0</td>\n",
              "      <td>0</td>\n",
              "      <td>0</td>\n",
              "      <td>2</td>\n",
              "      <td>0</td>\n",
              "      <td>459</td>\n",
              "      <td>576</td>\n",
              "      <td>1920</td>\n",
              "      <td>2015</td>\n",
              "      <td>1981.962264</td>\n",
              "      <td>338851</td>\n",
              "      <td>0.73267</td>\n",
              "      <td>720</td>\n",
              "      <td>345</td>\n",
              "      <td>343</td>\n",
              "      <td>2.0</td>\n",
              "      <td>47.3</td>\n",
              "      <td>2.7</td>\n",
              "      <td>165</td>\n",
              "      <td>1</td>\n",
              "      <td>0</td>\n",
              "      <td>18</td>\n",
              "    </tr>\n",
              "    <tr>\n",
              "      <th>11709</th>\n",
              "      <td>45.67</td>\n",
              "      <td>-73.50</td>\n",
              "      <td>4</td>\n",
              "      <td>1</td>\n",
              "      <td>0</td>\n",
              "      <td>0</td>\n",
              "      <td>2</td>\n",
              "      <td>0</td>\n",
              "      <td>0</td>\n",
              "      <td>0</td>\n",
              "      <td>1</td>\n",
              "      <td>1</td>\n",
              "      <td>0</td>\n",
              "      <td>1706</td>\n",
              "      <td>2237</td>\n",
              "      <td>1914</td>\n",
              "      <td>2019</td>\n",
              "      <td>1969.399127</td>\n",
              "      <td>518847</td>\n",
              "      <td>0.11503</td>\n",
              "      <td>505</td>\n",
              "      <td>285</td>\n",
              "      <td>273</td>\n",
              "      <td>1.8</td>\n",
              "      <td>43.2</td>\n",
              "      <td>2.6</td>\n",
              "      <td>100</td>\n",
              "      <td>0</td>\n",
              "      <td>0</td>\n",
              "      <td>19</td>\n",
              "    </tr>\n",
              "    <tr>\n",
              "      <th>11738</th>\n",
              "      <td>45.68</td>\n",
              "      <td>-73.50</td>\n",
              "      <td>4</td>\n",
              "      <td>1</td>\n",
              "      <td>0</td>\n",
              "      <td>0</td>\n",
              "      <td>5</td>\n",
              "      <td>0</td>\n",
              "      <td>1</td>\n",
              "      <td>3</td>\n",
              "      <td>0</td>\n",
              "      <td>1</td>\n",
              "      <td>0</td>\n",
              "      <td>1377</td>\n",
              "      <td>898</td>\n",
              "      <td>1959</td>\n",
              "      <td>2019</td>\n",
              "      <td>1994.756098</td>\n",
              "      <td>465540</td>\n",
              "      <td>0.45534</td>\n",
              "      <td>821</td>\n",
              "      <td>422</td>\n",
              "      <td>386</td>\n",
              "      <td>2.1</td>\n",
              "      <td>37.5</td>\n",
              "      <td>2.7</td>\n",
              "      <td>335</td>\n",
              "      <td>0</td>\n",
              "      <td>0</td>\n",
              "      <td>20</td>\n",
              "    </tr>\n",
              "    <tr>\n",
              "      <th>11760</th>\n",
              "      <td>45.69</td>\n",
              "      <td>-73.50</td>\n",
              "      <td>4</td>\n",
              "      <td>1</td>\n",
              "      <td>0</td>\n",
              "      <td>0</td>\n",
              "      <td>2</td>\n",
              "      <td>0</td>\n",
              "      <td>0</td>\n",
              "      <td>0</td>\n",
              "      <td>2</td>\n",
              "      <td>0</td>\n",
              "      <td>0</td>\n",
              "      <td>254</td>\n",
              "      <td>285</td>\n",
              "      <td>1959</td>\n",
              "      <td>2018</td>\n",
              "      <td>1999.281967</td>\n",
              "      <td>75473</td>\n",
              "      <td>2.99229</td>\n",
              "      <td>1350</td>\n",
              "      <td>519</td>\n",
              "      <td>518</td>\n",
              "      <td>2.6</td>\n",
              "      <td>38.5</td>\n",
              "      <td>2.9</td>\n",
              "      <td>580</td>\n",
              "      <td>0</td>\n",
              "      <td>0</td>\n",
              "      <td>21</td>\n",
              "    </tr>\n",
              "    <tr>\n",
              "      <th>11784</th>\n",
              "      <td>45.69</td>\n",
              "      <td>-73.49</td>\n",
              "      <td>4</td>\n",
              "      <td>1</td>\n",
              "      <td>0</td>\n",
              "      <td>0</td>\n",
              "      <td>3</td>\n",
              "      <td>0</td>\n",
              "      <td>0</td>\n",
              "      <td>1</td>\n",
              "      <td>0</td>\n",
              "      <td>2</td>\n",
              "      <td>0</td>\n",
              "      <td>1754</td>\n",
              "      <td>1687</td>\n",
              "      <td>1925</td>\n",
              "      <td>2017</td>\n",
              "      <td>1990.051636</td>\n",
              "      <td>493065</td>\n",
              "      <td>0.20290</td>\n",
              "      <td>677</td>\n",
              "      <td>290</td>\n",
              "      <td>286</td>\n",
              "      <td>2.4</td>\n",
              "      <td>40.4</td>\n",
              "      <td>2.7</td>\n",
              "      <td>195</td>\n",
              "      <td>0</td>\n",
              "      <td>0</td>\n",
              "      <td>21</td>\n",
              "    </tr>\n",
              "    <tr>\n",
              "      <th>11819</th>\n",
              "      <td>45.70</td>\n",
              "      <td>-73.49</td>\n",
              "      <td>4</td>\n",
              "      <td>1</td>\n",
              "      <td>0</td>\n",
              "      <td>0</td>\n",
              "      <td>1</td>\n",
              "      <td>0</td>\n",
              "      <td>0</td>\n",
              "      <td>0</td>\n",
              "      <td>0</td>\n",
              "      <td>1</td>\n",
              "      <td>0</td>\n",
              "      <td>933</td>\n",
              "      <td>805</td>\n",
              "      <td>1900</td>\n",
              "      <td>2019</td>\n",
              "      <td>1997.866756</td>\n",
              "      <td>177975</td>\n",
              "      <td>0.48567</td>\n",
              "      <td>645</td>\n",
              "      <td>255</td>\n",
              "      <td>249</td>\n",
              "      <td>2.6</td>\n",
              "      <td>41.3</td>\n",
              "      <td>2.9</td>\n",
              "      <td>170</td>\n",
              "      <td>1</td>\n",
              "      <td>0</td>\n",
              "      <td>22</td>\n",
              "    </tr>\n",
              "  </tbody>\n",
              "</table>\n",
              "</div>"
            ],
            "text/plain": [
              "       latitude  longitude  quarter  ...  caserne_count  fire  distance\n",
              "11545     45.66     -73.51        4  ...              0     0        17\n",
              "11569     45.66     -73.50        4  ...              0     0        18\n",
              "11593     45.66     -73.49        4  ...              0     0        18\n",
              "11617     45.67     -73.55        4  ...              0     0        18\n",
              "11685     45.67     -73.51        4  ...              1     0        18\n",
              "11709     45.67     -73.50        4  ...              0     0        19\n",
              "11738     45.68     -73.50        4  ...              0     0        20\n",
              "11760     45.69     -73.50        4  ...              0     0        21\n",
              "11784     45.69     -73.49        4  ...              0     0        21\n",
              "11819     45.70     -73.49        4  ...              1     0        22\n",
              "\n",
              "[10 rows x 30 columns]"
            ]
          },
          "metadata": {
            "tags": []
          },
          "execution_count": 51
        }
      ]
    },
    {
      "cell_type": "code",
      "metadata": {
        "id": "5oZUDtx5eUeA"
      },
      "source": [
        "\n",
        "df_new = df_new.drop(\"latitude\", axis=1)\n",
        "df_new = df_new.drop(\"longitude\", axis=1)"
      ],
      "execution_count": 52,
      "outputs": []
    },
    {
      "cell_type": "code",
      "metadata": {
        "id": "MvFyPMxEqvmb"
      },
      "source": [
        "df_new = df_new.drop(\"min_annee_construction\", axis=1)\n",
        "df_new = df_new.drop(\"max_annee_construction\", axis=1)\n",
        "df_new = df_new.drop(\"incendie_count\", axis=1)"
      ],
      "execution_count": 53,
      "outputs": []
    },
    {
      "cell_type": "code",
      "metadata": {
        "id": "-LWydleGrmNu"
      },
      "source": [
        "#y= df_new[\"incendie_count\"].copy()\n",
        "y= df_new[\"fire\"].copy()\n",
        "X=df_new.drop(\"fire\", axis=1)"
      ],
      "execution_count": 54,
      "outputs": []
    },
    {
      "cell_type": "code",
      "metadata": {
        "id": "JEGM3TeiYtCc",
        "outputId": "1aa92830-7a09-46aa-b4c0-c7cbd29e1549",
        "colab": {
          "base_uri": "https://localhost:8080/"
        }
      },
      "source": [
        "y.value_counts()"
      ],
      "execution_count": 55,
      "outputs": [
        {
          "output_type": "execute_result",
          "data": {
            "text/plain": [
              "0    7633\n",
              "1    3967\n",
              "2     243\n",
              "Name: fire, dtype: int64"
            ]
          },
          "metadata": {
            "tags": []
          },
          "execution_count": 55
        }
      ]
    },
    {
      "cell_type": "code",
      "metadata": {
        "id": "P_QcyiBluE-j",
        "outputId": "31687f29-0a60-4bc4-ead1-4d33dcbfe1d9",
        "colab": {
          "base_uri": "https://localhost:8080/"
        }
      },
      "source": [
        "len(X),len(y)"
      ],
      "execution_count": 56,
      "outputs": [
        {
          "output_type": "execute_result",
          "data": {
            "text/plain": [
              "(11843, 11843)"
            ]
          },
          "metadata": {
            "tags": []
          },
          "execution_count": 56
        }
      ]
    },
    {
      "cell_type": "code",
      "metadata": {
        "id": "J4L5lv-9eigq",
        "outputId": "13103c60-f8cd-41b2-e42e-d9b2b027b66d",
        "colab": {
          "base_uri": "https://localhost:8080/"
        }
      },
      "source": [
        "corr_matrix = df_new.corr()\n",
        "corr_matrix[\"fire\"].sort_values(ascending=False)"
      ],
      "execution_count": 57,
      "outputs": [
        {
          "output_type": "execute_result",
          "data": {
            "text/plain": [
              "fire                            1.000000\n",
              "sum_nombre_logement             0.479032\n",
              "total_crimes                    0.429216\n",
              "sum_etage_hors_sol              0.420503\n",
              "alarmes_incendies_count         0.410367\n",
              "mefait_count                    0.399054\n",
              "introduction_count              0.395315\n",
              "vols_count                      0.312964\n",
              "vol_moteur_count                0.309208\n",
              "vol_de_vehicule_count           0.209143\n",
              "caserne_count                   0.158662\n",
              "sum_superficie_terrain          0.084048\n",
              "dwellings                       0.061831\n",
              "infractions_entrainant_count    0.052661\n",
              "households                      0.036779\n",
              "year                            0.014774\n",
              "quarter                        -0.031297\n",
              "averageage                     -0.038386\n",
              "population                     -0.051500\n",
              "averagesizeofcensusfamilies    -0.071044\n",
              "workers                        -0.083336\n",
              "averagehouseholdsize           -0.167736\n",
              "area                           -0.202429\n",
              "avg_annee_construction         -0.207849\n",
              "distance                       -0.337583\n",
              "Name: fire, dtype: float64"
            ]
          },
          "metadata": {
            "tags": []
          },
          "execution_count": 57
        }
      ]
    },
    {
      "cell_type": "code",
      "metadata": {
        "id": "HWXc3Ixc112W",
        "outputId": "f81a1217-fbd3-4c19-a430-7d6f4acabb21",
        "colab": {
          "base_uri": "https://localhost:8080/"
        }
      },
      "source": [
        "from sklearn.pipeline import Pipeline\n",
        "from sklearn.preprocessing import StandardScaler\n",
        "from sklearn.impute import SimpleImputer\n",
        "\n",
        "scaler = StandardScaler()\n",
        "scaler.fit(X)"
      ],
      "execution_count": 58,
      "outputs": [
        {
          "output_type": "execute_result",
          "data": {
            "text/plain": [
              "StandardScaler(copy=True, with_mean=True, with_std=True)"
            ]
          },
          "metadata": {
            "tags": []
          },
          "execution_count": 58
        }
      ]
    },
    {
      "cell_type": "code",
      "metadata": {
        "id": "IHQmG7342l0R"
      },
      "source": [
        "X=scaler.transform(X)"
      ],
      "execution_count": 59,
      "outputs": []
    },
    {
      "cell_type": "code",
      "metadata": {
        "id": "oCvRc7bj2IWo",
        "outputId": "f3cea38c-4adc-4287-c491-1a34a8e865a0",
        "colab": {
          "base_uri": "https://localhost:8080/",
          "height": 439
        }
      },
      "source": [
        "X"
      ],
      "execution_count": 70,
      "outputs": [
        {
          "output_type": "execute_result",
          "data": {
            "text/html": [
              "<div>\n",
              "<style scoped>\n",
              "    .dataframe tbody tr th:only-of-type {\n",
              "        vertical-align: middle;\n",
              "    }\n",
              "\n",
              "    .dataframe tbody tr th {\n",
              "        vertical-align: top;\n",
              "    }\n",
              "\n",
              "    .dataframe thead th {\n",
              "        text-align: right;\n",
              "    }\n",
              "</style>\n",
              "<table border=\"1\" class=\"dataframe\">\n",
              "  <thead>\n",
              "    <tr style=\"text-align: right;\">\n",
              "      <th></th>\n",
              "      <th>0</th>\n",
              "      <th>1</th>\n",
              "      <th>2</th>\n",
              "      <th>3</th>\n",
              "      <th>4</th>\n",
              "      <th>5</th>\n",
              "      <th>6</th>\n",
              "      <th>7</th>\n",
              "      <th>8</th>\n",
              "      <th>9</th>\n",
              "      <th>10</th>\n",
              "      <th>11</th>\n",
              "      <th>12</th>\n",
              "      <th>13</th>\n",
              "      <th>14</th>\n",
              "      <th>15</th>\n",
              "      <th>16</th>\n",
              "      <th>17</th>\n",
              "      <th>18</th>\n",
              "      <th>19</th>\n",
              "      <th>20</th>\n",
              "      <th>21</th>\n",
              "      <th>22</th>\n",
              "      <th>23</th>\n",
              "    </tr>\n",
              "  </thead>\n",
              "  <tbody>\n",
              "    <tr>\n",
              "      <th>0</th>\n",
              "      <td>-1.337680</td>\n",
              "      <td>1.455784</td>\n",
              "      <td>-0.731833</td>\n",
              "      <td>-0.655565</td>\n",
              "      <td>-0.432903</td>\n",
              "      <td>-0.675203</td>\n",
              "      <td>-0.321695</td>\n",
              "      <td>-0.465661</td>\n",
              "      <td>-0.590038</td>\n",
              "      <td>-0.097931</td>\n",
              "      <td>-0.620745</td>\n",
              "      <td>-0.626044</td>\n",
              "      <td>-1.180331</td>\n",
              "      <td>-0.977545</td>\n",
              "      <td>-0.438656</td>\n",
              "      <td>-0.829859</td>\n",
              "      <td>-1.246526</td>\n",
              "      <td>-1.376535</td>\n",
              "      <td>-3.705581</td>\n",
              "      <td>5.128243</td>\n",
              "      <td>-4.794451</td>\n",
              "      <td>-1.199589</td>\n",
              "      <td>-0.381403</td>\n",
              "      <td>2.714514</td>\n",
              "    </tr>\n",
              "    <tr>\n",
              "      <th>1</th>\n",
              "      <td>-1.337680</td>\n",
              "      <td>1.455784</td>\n",
              "      <td>-0.615674</td>\n",
              "      <td>-0.785484</td>\n",
              "      <td>-0.432903</td>\n",
              "      <td>-0.675203</td>\n",
              "      <td>-0.772084</td>\n",
              "      <td>-0.631346</td>\n",
              "      <td>-0.590038</td>\n",
              "      <td>-0.097931</td>\n",
              "      <td>-1.260236</td>\n",
              "      <td>-1.027951</td>\n",
              "      <td>-3.159169</td>\n",
              "      <td>-2.271987</td>\n",
              "      <td>2.334588</td>\n",
              "      <td>0.817266</td>\n",
              "      <td>0.105745</td>\n",
              "      <td>0.165279</td>\n",
              "      <td>0.894062</td>\n",
              "      <td>-0.318333</td>\n",
              "      <td>0.436879</td>\n",
              "      <td>1.221259</td>\n",
              "      <td>-0.381403</td>\n",
              "      <td>2.714514</td>\n",
              "    </tr>\n",
              "    <tr>\n",
              "      <th>2</th>\n",
              "      <td>-1.337680</td>\n",
              "      <td>1.455784</td>\n",
              "      <td>-0.731833</td>\n",
              "      <td>-0.525645</td>\n",
              "      <td>-0.432903</td>\n",
              "      <td>-0.675203</td>\n",
              "      <td>-0.321695</td>\n",
              "      <td>-0.134291</td>\n",
              "      <td>-0.590038</td>\n",
              "      <td>-0.097931</td>\n",
              "      <td>-0.924547</td>\n",
              "      <td>-0.881451</td>\n",
              "      <td>-0.687748</td>\n",
              "      <td>0.029095</td>\n",
              "      <td>0.432053</td>\n",
              "      <td>-0.188305</td>\n",
              "      <td>-0.284027</td>\n",
              "      <td>-0.267349</td>\n",
              "      <td>0.418237</td>\n",
              "      <td>0.433956</td>\n",
              "      <td>0.268126</td>\n",
              "      <td>-0.204720</td>\n",
              "      <td>-0.381403</td>\n",
              "      <td>2.571448</td>\n",
              "    </tr>\n",
              "    <tr>\n",
              "      <th>3</th>\n",
              "      <td>-1.337680</td>\n",
              "      <td>1.455784</td>\n",
              "      <td>-0.731833</td>\n",
              "      <td>-0.720524</td>\n",
              "      <td>-0.432903</td>\n",
              "      <td>-0.675203</td>\n",
              "      <td>-0.772084</td>\n",
              "      <td>-0.465661</td>\n",
              "      <td>-0.590038</td>\n",
              "      <td>-0.097931</td>\n",
              "      <td>-0.954662</td>\n",
              "      <td>-0.904670</td>\n",
              "      <td>-0.343020</td>\n",
              "      <td>-0.146771</td>\n",
              "      <td>-0.357123</td>\n",
              "      <td>-0.310985</td>\n",
              "      <td>-0.558459</td>\n",
              "      <td>-0.580315</td>\n",
              "      <td>0.576845</td>\n",
              "      <td>1.065879</td>\n",
              "      <td>0.099374</td>\n",
              "      <td>-0.370531</td>\n",
              "      <td>-0.381403</td>\n",
              "      <td>2.428383</td>\n",
              "    </tr>\n",
              "    <tr>\n",
              "      <th>4</th>\n",
              "      <td>-1.337680</td>\n",
              "      <td>1.455784</td>\n",
              "      <td>-0.615674</td>\n",
              "      <td>-0.785484</td>\n",
              "      <td>-0.432903</td>\n",
              "      <td>-0.675203</td>\n",
              "      <td>-0.772084</td>\n",
              "      <td>-0.631346</td>\n",
              "      <td>-0.590038</td>\n",
              "      <td>-0.097931</td>\n",
              "      <td>-1.162806</td>\n",
              "      <td>-1.001415</td>\n",
              "      <td>1.894999</td>\n",
              "      <td>0.014570</td>\n",
              "      <td>0.432053</td>\n",
              "      <td>-0.188305</td>\n",
              "      <td>-0.284027</td>\n",
              "      <td>-0.267349</td>\n",
              "      <td>0.418237</td>\n",
              "      <td>0.433956</td>\n",
              "      <td>0.268126</td>\n",
              "      <td>-0.204720</td>\n",
              "      <td>-0.381403</td>\n",
              "      <td>2.571448</td>\n",
              "    </tr>\n",
              "    <tr>\n",
              "      <th>...</th>\n",
              "      <td>...</td>\n",
              "      <td>...</td>\n",
              "      <td>...</td>\n",
              "      <td>...</td>\n",
              "      <td>...</td>\n",
              "      <td>...</td>\n",
              "      <td>...</td>\n",
              "      <td>...</td>\n",
              "      <td>...</td>\n",
              "      <td>...</td>\n",
              "      <td>...</td>\n",
              "      <td>...</td>\n",
              "      <td>...</td>\n",
              "      <td>...</td>\n",
              "      <td>...</td>\n",
              "      <td>...</td>\n",
              "      <td>...</td>\n",
              "      <td>...</td>\n",
              "      <td>...</td>\n",
              "      <td>...</td>\n",
              "      <td>...</td>\n",
              "      <td>...</td>\n",
              "      <td>...</td>\n",
              "      <td>...</td>\n",
              "    </tr>\n",
              "    <tr>\n",
              "      <th>11838</th>\n",
              "      <td>1.359927</td>\n",
              "      <td>-1.491975</td>\n",
              "      <td>-0.731833</td>\n",
              "      <td>-0.655565</td>\n",
              "      <td>-0.432903</td>\n",
              "      <td>-0.675203</td>\n",
              "      <td>-0.772084</td>\n",
              "      <td>-0.465661</td>\n",
              "      <td>-0.403681</td>\n",
              "      <td>-0.097931</td>\n",
              "      <td>0.245491</td>\n",
              "      <td>0.207069</td>\n",
              "      <td>-0.065885</td>\n",
              "      <td>0.561445</td>\n",
              "      <td>-0.467969</td>\n",
              "      <td>-0.445731</td>\n",
              "      <td>-0.140845</td>\n",
              "      <td>-0.120072</td>\n",
              "      <td>-0.850630</td>\n",
              "      <td>0.273468</td>\n",
              "      <td>-0.406884</td>\n",
              "      <td>-0.536343</td>\n",
              "      <td>-0.381403</td>\n",
              "      <td>0.997727</td>\n",
              "    </tr>\n",
              "    <tr>\n",
              "      <th>11839</th>\n",
              "      <td>1.359927</td>\n",
              "      <td>-1.491975</td>\n",
              "      <td>-0.731833</td>\n",
              "      <td>-0.460685</td>\n",
              "      <td>-0.432903</td>\n",
              "      <td>-0.426990</td>\n",
              "      <td>0.579082</td>\n",
              "      <td>-0.631346</td>\n",
              "      <td>-0.403681</td>\n",
              "      <td>-0.097931</td>\n",
              "      <td>-0.045911</td>\n",
              "      <td>-0.533169</td>\n",
              "      <td>1.389358</td>\n",
              "      <td>0.252226</td>\n",
              "      <td>-0.363949</td>\n",
              "      <td>0.189790</td>\n",
              "      <td>0.404041</td>\n",
              "      <td>0.400003</td>\n",
              "      <td>-0.374805</td>\n",
              "      <td>-0.298272</td>\n",
              "      <td>-0.238132</td>\n",
              "      <td>1.022285</td>\n",
              "      <td>-0.381403</td>\n",
              "      <td>1.140792</td>\n",
              "    </tr>\n",
              "    <tr>\n",
              "      <th>11840</th>\n",
              "      <td>1.359927</td>\n",
              "      <td>-1.491975</td>\n",
              "      <td>-0.731833</td>\n",
              "      <td>-0.655565</td>\n",
              "      <td>-0.432903</td>\n",
              "      <td>-0.675203</td>\n",
              "      <td>-0.772084</td>\n",
              "      <td>-0.299976</td>\n",
              "      <td>-0.590038</td>\n",
              "      <td>-0.097931</td>\n",
              "      <td>-1.040577</td>\n",
              "      <td>-0.872053</td>\n",
              "      <td>1.649099</td>\n",
              "      <td>-2.010444</td>\n",
              "      <td>0.411506</td>\n",
              "      <td>1.253684</td>\n",
              "      <td>0.789836</td>\n",
              "      <td>1.007524</td>\n",
              "      <td>0.418237</td>\n",
              "      <td>-0.197967</td>\n",
              "      <td>0.099374</td>\n",
              "      <td>2.647238</td>\n",
              "      <td>-0.381403</td>\n",
              "      <td>1.283858</td>\n",
              "    </tr>\n",
              "    <tr>\n",
              "      <th>11841</th>\n",
              "      <td>1.359927</td>\n",
              "      <td>-1.491975</td>\n",
              "      <td>-0.731833</td>\n",
              "      <td>-0.590605</td>\n",
              "      <td>-0.432903</td>\n",
              "      <td>-0.675203</td>\n",
              "      <td>-0.321695</td>\n",
              "      <td>-0.631346</td>\n",
              "      <td>-0.217325</td>\n",
              "      <td>-0.097931</td>\n",
              "      <td>0.288006</td>\n",
              "      <td>-0.096987</td>\n",
              "      <td>1.119368</td>\n",
              "      <td>0.411890</td>\n",
              "      <td>-0.441111</td>\n",
              "      <td>-0.099815</td>\n",
              "      <td>-0.120959</td>\n",
              "      <td>-0.060240</td>\n",
              "      <td>0.101020</td>\n",
              "      <td>-0.007387</td>\n",
              "      <td>-0.238132</td>\n",
              "      <td>0.093741</td>\n",
              "      <td>-0.381403</td>\n",
              "      <td>1.283858</td>\n",
              "    </tr>\n",
              "    <tr>\n",
              "      <th>11842</th>\n",
              "      <td>1.359927</td>\n",
              "      <td>-1.491975</td>\n",
              "      <td>-0.731833</td>\n",
              "      <td>-0.720524</td>\n",
              "      <td>-0.432903</td>\n",
              "      <td>-0.675203</td>\n",
              "      <td>-0.772084</td>\n",
              "      <td>-0.631346</td>\n",
              "      <td>-0.403681</td>\n",
              "      <td>-0.097931</td>\n",
              "      <td>-0.439172</td>\n",
              "      <td>-0.584582</td>\n",
              "      <td>1.567879</td>\n",
              "      <td>-1.415859</td>\n",
              "      <td>-0.354678</td>\n",
              "      <td>-0.164171</td>\n",
              "      <td>-0.260163</td>\n",
              "      <td>-0.230530</td>\n",
              "      <td>0.418237</td>\n",
              "      <td>0.082888</td>\n",
              "      <td>0.099374</td>\n",
              "      <td>-0.072071</td>\n",
              "      <td>2.621895</td>\n",
              "      <td>1.426923</td>\n",
              "    </tr>\n",
              "  </tbody>\n",
              "</table>\n",
              "<p>11843 rows × 24 columns</p>\n",
              "</div>"
            ],
            "text/plain": [
              "             0         1         2   ...        21        22        23\n",
              "0     -1.337680  1.455784 -0.731833  ... -1.199589 -0.381403  2.714514\n",
              "1     -1.337680  1.455784 -0.615674  ...  1.221259 -0.381403  2.714514\n",
              "2     -1.337680  1.455784 -0.731833  ... -0.204720 -0.381403  2.571448\n",
              "3     -1.337680  1.455784 -0.731833  ... -0.370531 -0.381403  2.428383\n",
              "4     -1.337680  1.455784 -0.615674  ... -0.204720 -0.381403  2.571448\n",
              "...         ...       ...       ...  ...       ...       ...       ...\n",
              "11838  1.359927 -1.491975 -0.731833  ... -0.536343 -0.381403  0.997727\n",
              "11839  1.359927 -1.491975 -0.731833  ...  1.022285 -0.381403  1.140792\n",
              "11840  1.359927 -1.491975 -0.731833  ...  2.647238 -0.381403  1.283858\n",
              "11841  1.359927 -1.491975 -0.731833  ...  0.093741 -0.381403  1.283858\n",
              "11842  1.359927 -1.491975 -0.731833  ... -0.072071  2.621895  1.426923\n",
              "\n",
              "[11843 rows x 24 columns]"
            ]
          },
          "metadata": {
            "tags": []
          },
          "execution_count": 70
        }
      ]
    },
    {
      "cell_type": "code",
      "metadata": {
        "id": "McUjihhY3j6M"
      },
      "source": [
        "X=pd.DataFrame(X)"
      ],
      "execution_count": 71,
      "outputs": []
    },
    {
      "cell_type": "code",
      "metadata": {
        "id": "KHXaNIG7XNhh",
        "outputId": "6ebe8824-0428-414f-d4ff-e23554a4a6fe",
        "colab": {
          "base_uri": "https://localhost:8080/"
        }
      },
      "source": [
        "X_train=X[df_new['year'] > 2] # choose 2019 data as train\n",
        "X_test =X[df_new['year'] == 2] # choose 2019 data as validation\n",
        "y_train = y[df_new['year'] > 2]\n",
        "y_test = y[df_new['year'] == 2]"
      ],
      "execution_count": 62,
      "outputs": [
        {
          "output_type": "stream",
          "text": [
            "/usr/local/lib/python3.6/dist-packages/ipykernel_launcher.py:1: UserWarning: Boolean Series key will be reindexed to match DataFrame index.\n",
            "  \"\"\"Entry point for launching an IPython kernel.\n",
            "/usr/local/lib/python3.6/dist-packages/ipykernel_launcher.py:2: UserWarning: Boolean Series key will be reindexed to match DataFrame index.\n",
            "  \n"
          ],
          "name": "stderr"
        }
      ]
    },
    {
      "cell_type": "code",
      "metadata": {
        "id": "3PgUfC_hsPBi",
        "outputId": "0a2c9863-01e6-46a6-fbde-6313610882f7",
        "colab": {
          "base_uri": "https://localhost:8080/"
        }
      },
      "source": [
        "from sklearn.model_selection import train_test_split\n",
        "train_set, test_set = train_test_split(df, test_size=0.2, random_state=42)\n",
        "\n",
        "X_train, X_test, y_train, y_test = train_test_split(X, y,\n",
        "                                                    test_size=0.2,\n",
        "                                                    random_state=4)\n",
        "\n",
        "len(X_train),len(X_test),len(y_train),len(y_test)"
      ],
      "execution_count": 76,
      "outputs": [
        {
          "output_type": "execute_result",
          "data": {
            "text/plain": [
              "(9474, 2369, 9474, 2369)"
            ]
          },
          "metadata": {
            "tags": []
          },
          "execution_count": 76
        }
      ]
    },
    {
      "cell_type": "code",
      "metadata": {
        "id": "BeJT2RRby8P0",
        "outputId": "c0388671-b23c-4375-8365-9eef3c657c81",
        "colab": {
          "base_uri": "https://localhost:8080/"
        }
      },
      "source": [
        "y_train.value_counts(), y_test.value_counts()"
      ],
      "execution_count": 77,
      "outputs": [
        {
          "output_type": "execute_result",
          "data": {
            "text/plain": [
              "(0    6088\n",
              " 1    3190\n",
              " 2     196\n",
              " Name: fire, dtype: int64, 0    1545\n",
              " 1     777\n",
              " 2      47\n",
              " Name: fire, dtype: int64)"
            ]
          },
          "metadata": {
            "tags": []
          },
          "execution_count": 77
        }
      ]
    },
    {
      "cell_type": "code",
      "metadata": {
        "id": "iSo3kOA9uN6B",
        "outputId": "6065b797-0b88-40af-ecb6-1535f6735e19",
        "colab": {
          "base_uri": "https://localhost:8080/"
        }
      },
      "source": [
        "from sklearn.linear_model import LinearRegression\n",
        "\n",
        "lin_reg = LinearRegression()\n",
        "lin_reg.fit(X_train, y_train)"
      ],
      "execution_count": 78,
      "outputs": [
        {
          "output_type": "execute_result",
          "data": {
            "text/plain": [
              "LinearRegression(copy_X=True, fit_intercept=True, n_jobs=None, normalize=False)"
            ]
          },
          "metadata": {
            "tags": []
          },
          "execution_count": 78
        }
      ]
    },
    {
      "cell_type": "code",
      "metadata": {
        "id": "HFmjwgeqxTyz",
        "outputId": "032a0f6c-c7ca-43a8-e9a3-215dad51b8cd",
        "colab": {
          "base_uri": "https://localhost:8080/"
        }
      },
      "source": [
        "lin_reg.coef_"
      ],
      "execution_count": 79,
      "outputs": [
        {
          "output_type": "execute_result",
          "data": {
            "text/plain": [
              "array([-0.01897504,  0.00143743,  0.06965785,  0.01374782,  0.00798473,\n",
              "        0.04180543,  0.01188125,  0.01429123, -0.01516217, -0.00416957,\n",
              "       -0.02133139,  0.13960683, -0.00609208,  0.00342418, -0.02444003,\n",
              "        0.0370121 , -0.03242547,  0.01248774, -0.04995773, -0.03232264,\n",
              "        0.05802084, -0.03715717,  0.0066432 , -0.02205765])"
            ]
          },
          "metadata": {
            "tags": []
          },
          "execution_count": 79
        }
      ]
    },
    {
      "cell_type": "code",
      "metadata": {
        "id": "I27LC6U7xllU",
        "outputId": "4028ba3b-44dd-44ab-cd84-2bcdf9a0e4c3",
        "colab": {
          "base_uri": "https://localhost:8080/"
        }
      },
      "source": [
        "print(lin_reg.score(X_train, y_train))"
      ],
      "execution_count": 80,
      "outputs": [
        {
          "output_type": "stream",
          "text": [
            "0.259164032110604\n"
          ],
          "name": "stdout"
        }
      ]
    },
    {
      "cell_type": "code",
      "metadata": {
        "id": "srGbLKMTxs_w",
        "outputId": "5ffefda0-1947-42ec-cc42-eeaf0f918137",
        "colab": {
          "base_uri": "https://localhost:8080/"
        }
      },
      "source": [
        "\n",
        "print(lin_reg.score(X_test,y_test))"
      ],
      "execution_count": 81,
      "outputs": [
        {
          "output_type": "stream",
          "text": [
            "0.25054246528146895\n"
          ],
          "name": "stdout"
        }
      ]
    },
    {
      "cell_type": "code",
      "metadata": {
        "id": "U08h8hDnZD9f",
        "outputId": "2316bd5b-ffa9-4e03-ac01-a826f4f3564a",
        "colab": {
          "base_uri": "https://localhost:8080/"
        }
      },
      "source": [
        "from sklearn.tree import DecisionTreeRegressor\n",
        "\n",
        "tree_reg = DecisionTreeRegressor(random_state=42,max_depth=5)\n",
        "tree_reg.fit(X_train, y_train)"
      ],
      "execution_count": 82,
      "outputs": [
        {
          "output_type": "execute_result",
          "data": {
            "text/plain": [
              "DecisionTreeRegressor(ccp_alpha=0.0, criterion='mse', max_depth=5,\n",
              "                      max_features=None, max_leaf_nodes=None,\n",
              "                      min_impurity_decrease=0.0, min_impurity_split=None,\n",
              "                      min_samples_leaf=1, min_samples_split=2,\n",
              "                      min_weight_fraction_leaf=0.0, presort='deprecated',\n",
              "                      random_state=42, splitter='best')"
            ]
          },
          "metadata": {
            "tags": []
          },
          "execution_count": 82
        }
      ]
    },
    {
      "cell_type": "code",
      "metadata": {
        "id": "pPaowI3aZK6a",
        "outputId": "11a3a4a8-281f-4803-a1f4-7eb6d96e69a7",
        "colab": {
          "base_uri": "https://localhost:8080/"
        }
      },
      "source": [
        "from sklearn.metrics import mean_squared_error\n",
        "import numpy as np\n",
        "\n",
        "y_predictions = tree_reg.predict(X_test)\n",
        "tree_mse = mean_squared_error(y_test, y_predictions)\n",
        "tree_rmse = np.sqrt(tree_mse)\n",
        "tree_rmse"
      ],
      "execution_count": 83,
      "outputs": [
        {
          "output_type": "execute_result",
          "data": {
            "text/plain": [
              "0.4535348481859323"
            ]
          },
          "metadata": {
            "tags": []
          },
          "execution_count": 83
        }
      ]
    },
    {
      "cell_type": "code",
      "metadata": {
        "id": "vrkr_BGkww3w",
        "outputId": "b2733623-f5a9-4c9d-ad7c-9ec9f479fb17",
        "colab": {
          "base_uri": "https://localhost:8080/"
        }
      },
      "source": [
        "Xyz=pd.DataFrame(y_predictions)\n",
        "\n",
        "Xyz.value_counts(), y_test.value_counts()"
      ],
      "execution_count": 84,
      "outputs": [
        {
          "output_type": "execute_result",
          "data": {
            "text/plain": [
              "(0.128059    451\n",
              " 0.353621    330\n",
              " 0.557538    292\n",
              " 0.206512    268\n",
              " 0.928025    160\n",
              " 0.080670    159\n",
              " 0.670487    158\n",
              " 0.196147    141\n",
              " 0.387560     63\n",
              " 0.186335     49\n",
              " 0.867647     33\n",
              " 0.250000     33\n",
              " 0.500000     32\n",
              " 0.011905     31\n",
              " 0.210526     31\n",
              " 1.096774     26\n",
              " 0.479167     22\n",
              " 1.393617     21\n",
              " 0.317073     19\n",
              " 0.616667     12\n",
              " 0.309859     10\n",
              " 0.950000      7\n",
              " 0.111111      7\n",
              " 0.937500      5\n",
              " 1.000000      4\n",
              " 0.454545      3\n",
              " 0.666667      2\n",
              " dtype: int64, 0    1545\n",
              " 1     777\n",
              " 2      47\n",
              " Name: fire, dtype: int64)"
            ]
          },
          "metadata": {
            "tags": []
          },
          "execution_count": 84
        }
      ]
    },
    {
      "cell_type": "code",
      "metadata": {
        "id": "U8QdZB2lZuOc",
        "outputId": "3c35e6fb-02bf-4a18-f3ca-e814319ffa0d",
        "colab": {
          "base_uri": "https://localhost:8080/"
        }
      },
      "source": [
        "from sklearn.ensemble import RandomForestRegressor\n",
        "\n",
        "forest_reg = RandomForestRegressor(n_estimators=10, random_state=42, max_depth=10)\n",
        "forest_reg.fit(X_train, y_train)"
      ],
      "execution_count": 85,
      "outputs": [
        {
          "output_type": "execute_result",
          "data": {
            "text/plain": [
              "RandomForestRegressor(bootstrap=True, ccp_alpha=0.0, criterion='mse',\n",
              "                      max_depth=10, max_features='auto', max_leaf_nodes=None,\n",
              "                      max_samples=None, min_impurity_decrease=0.0,\n",
              "                      min_impurity_split=None, min_samples_leaf=1,\n",
              "                      min_samples_split=2, min_weight_fraction_leaf=0.0,\n",
              "                      n_estimators=10, n_jobs=None, oob_score=False,\n",
              "                      random_state=42, verbose=0, warm_start=False)"
            ]
          },
          "metadata": {
            "tags": []
          },
          "execution_count": 85
        }
      ]
    },
    {
      "cell_type": "code",
      "metadata": {
        "id": "DJyjTgkpZ8U5",
        "outputId": "d2911e3c-4027-410c-e8b0-694dc17f68c4",
        "colab": {
          "base_uri": "https://localhost:8080/"
        }
      },
      "source": [
        "print(str(forest_reg.score(X_train, y_train)) + \" \"+ str(forest_reg.score(X_test, y_test) ))"
      ],
      "execution_count": 86,
      "outputs": [
        {
          "output_type": "stream",
          "text": [
            "0.5167125782691818 0.23486385039973592\n"
          ],
          "name": "stdout"
        }
      ]
    },
    {
      "cell_type": "code",
      "metadata": {
        "id": "ZCYsAhUY5auE",
        "outputId": "405d536e-e12a-44bf-a3cc-2d1c8a589b88",
        "colab": {
          "base_uri": "https://localhost:8080/"
        }
      },
      "source": [
        "from numpy import mean\n",
        "from numpy import std\n",
        "from sklearn.datasets import make_classification\n",
        "from sklearn.model_selection import KFold\n",
        "from sklearn.model_selection import cross_val_score\n",
        "from xgboost import XGBClassifier\n",
        "# prepare the cross-validation procedure\n",
        "cv = KFold(n_splits=5, random_state=1, shuffle=True)\n",
        "# create model\n",
        "xgboost = XGBClassifier()\n",
        "# evaluate model\n",
        "xgboost_scores = cross_val_score(xgboost, X_train, y_train, scoring='accuracy', cv=cv, n_jobs=-1)\n",
        "print('Accuracy: %.3f (%.3f)' % (mean(xgboost_scores ), std(xgboost_scores )))"
      ],
      "execution_count": 88,
      "outputs": [
        {
          "output_type": "stream",
          "text": [
            "Accuracy: 0.720 (0.008)\n"
          ],
          "name": "stdout"
        }
      ]
    },
    {
      "cell_type": "code",
      "metadata": {
        "id": "DxISOaQb6VOf",
        "outputId": "1656ba0d-a296-47fe-e4f2-0b4939c3f66d",
        "colab": {
          "base_uri": "https://localhost:8080/"
        }
      },
      "source": [
        "\n",
        "xgboost.fit(X_train, y_train)"
      ],
      "execution_count": 89,
      "outputs": [
        {
          "output_type": "execute_result",
          "data": {
            "text/plain": [
              "XGBClassifier(base_score=0.5, booster='gbtree', colsample_bylevel=1,\n",
              "              colsample_bynode=1, colsample_bytree=1, gamma=0,\n",
              "              learning_rate=0.1, max_delta_step=0, max_depth=3,\n",
              "              min_child_weight=1, missing=None, n_estimators=100, n_jobs=1,\n",
              "              nthread=None, objective='multi:softprob', random_state=0,\n",
              "              reg_alpha=0, reg_lambda=1, scale_pos_weight=1, seed=None,\n",
              "              silent=None, subsample=1, verbosity=1)"
            ]
          },
          "metadata": {
            "tags": []
          },
          "execution_count": 89
        }
      ]
    },
    {
      "cell_type": "code",
      "metadata": {
        "id": "RINy6Ql06gud"
      },
      "source": [
        "y_test_pred = xgboost.predict(X_test)"
      ],
      "execution_count": 90,
      "outputs": []
    },
    {
      "cell_type": "code",
      "metadata": {
        "id": "nxYfZX9i6rIl",
        "outputId": "d80c0d2e-afdf-4d1f-beae-b7b2ec0a35a3",
        "colab": {
          "base_uri": "https://localhost:8080/"
        }
      },
      "source": [
        "\n",
        "print('Accuracy of XGboost classifier on test set: {:.2f}'.format(xgboost.score(X_test, y_test)))"
      ],
      "execution_count": 91,
      "outputs": [
        {
          "output_type": "stream",
          "text": [
            "Accuracy of XGboost classifier on test set: 0.72\n"
          ],
          "name": "stdout"
        }
      ]
    },
    {
      "cell_type": "code",
      "metadata": {
        "id": "A5l-PxxZ633b",
        "outputId": "583768a6-5b1e-44d6-d995-8b8ff76f37d1",
        "colab": {
          "base_uri": "https://localhost:8080/"
        }
      },
      "source": [
        "from sklearn.metrics import confusion_matrix\n",
        "confusion_matrix_valid = confusion_matrix(y_test, y_test_pred)\n",
        "print(confusion_matrix_valid)"
      ],
      "execution_count": 92,
      "outputs": [
        {
          "output_type": "stream",
          "text": [
            "[[1347  198    0]\n",
            " [ 408  367    2]\n",
            " [   2   45    0]]\n"
          ],
          "name": "stdout"
        }
      ]
    }
  ]
}