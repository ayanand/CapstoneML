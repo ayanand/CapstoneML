{
  "nbformat": 4,
  "nbformat_minor": 0,
  "metadata": {
    "colab": {
      "name": "analysiscap.ipynb",
      "provenance": [],
      "collapsed_sections": []
    },
    "kernelspec": {
      "display_name": "Python 3",
      "name": "python3"
    }
  },
  "cells": [
    {
      "cell_type": "code",
      "metadata": {
        "id": "_WCXOdd8KFCm",
        "outputId": "55624447-28ca-4179-eccb-56b034ba4d0b",
        "colab": {
          "base_uri": "https://localhost:8080/"
        }
      },
      "source": [
        "import pandas as pd\n",
        "!pip install fsspec\n",
        "!pip install gcsfs \n",
        " \n",
        " \n",
        "df = pd.read_csv('gs://capstoragebucket2020/All_joined_v3.csv')"
      ],
      "execution_count": null,
      "outputs": [
        {
          "output_type": "stream",
          "text": [
            "Requirement already satisfied: fsspec in /usr/local/lib/python3.6/dist-packages (0.8.4)\n",
            "Requirement already satisfied: gcsfs in /usr/local/lib/python3.6/dist-packages (0.7.1)\n",
            "Requirement already satisfied: google-auth-oauthlib in /usr/local/lib/python3.6/dist-packages (from gcsfs) (0.4.2)\n",
            "Requirement already satisfied: google-auth>=1.2 in /usr/local/lib/python3.6/dist-packages (from gcsfs) (1.17.2)\n",
            "Requirement already satisfied: requests in /usr/local/lib/python3.6/dist-packages (from gcsfs) (2.23.0)\n",
            "Requirement already satisfied: decorator in /usr/local/lib/python3.6/dist-packages (from gcsfs) (4.4.2)\n",
            "Requirement already satisfied: fsspec>=0.8.0 in /usr/local/lib/python3.6/dist-packages (from gcsfs) (0.8.4)\n",
            "Requirement already satisfied: aiohttp in /usr/local/lib/python3.6/dist-packages (from gcsfs) (3.7.2)\n",
            "Requirement already satisfied: requests-oauthlib>=0.7.0 in /usr/local/lib/python3.6/dist-packages (from google-auth-oauthlib->gcsfs) (1.3.0)\n",
            "Requirement already satisfied: pyasn1-modules>=0.2.1 in /usr/local/lib/python3.6/dist-packages (from google-auth>=1.2->gcsfs) (0.2.8)\n",
            "Requirement already satisfied: cachetools<5.0,>=2.0.0 in /usr/local/lib/python3.6/dist-packages (from google-auth>=1.2->gcsfs) (4.1.1)\n",
            "Requirement already satisfied: rsa<5,>=3.1.4; python_version >= \"3\" in /usr/local/lib/python3.6/dist-packages (from google-auth>=1.2->gcsfs) (4.6)\n",
            "Requirement already satisfied: setuptools>=40.3.0 in /usr/local/lib/python3.6/dist-packages (from google-auth>=1.2->gcsfs) (50.3.2)\n",
            "Requirement already satisfied: six>=1.9.0 in /usr/local/lib/python3.6/dist-packages (from google-auth>=1.2->gcsfs) (1.15.0)\n",
            "Requirement already satisfied: certifi>=2017.4.17 in /usr/local/lib/python3.6/dist-packages (from requests->gcsfs) (2020.6.20)\n",
            "Requirement already satisfied: urllib3!=1.25.0,!=1.25.1,<1.26,>=1.21.1 in /usr/local/lib/python3.6/dist-packages (from requests->gcsfs) (1.24.3)\n",
            "Requirement already satisfied: idna<3,>=2.5 in /usr/local/lib/python3.6/dist-packages (from requests->gcsfs) (2.10)\n",
            "Requirement already satisfied: chardet<4,>=3.0.2 in /usr/local/lib/python3.6/dist-packages (from requests->gcsfs) (3.0.4)\n",
            "Requirement already satisfied: async-timeout<4.0,>=3.0 in /usr/local/lib/python3.6/dist-packages (from aiohttp->gcsfs) (3.0.1)\n",
            "Requirement already satisfied: attrs>=17.3.0 in /usr/local/lib/python3.6/dist-packages (from aiohttp->gcsfs) (20.2.0)\n",
            "Requirement already satisfied: typing-extensions>=3.6.5 in /usr/local/lib/python3.6/dist-packages (from aiohttp->gcsfs) (3.7.4.3)\n",
            "Requirement already satisfied: yarl<2.0,>=1.0 in /usr/local/lib/python3.6/dist-packages (from aiohttp->gcsfs) (1.6.2)\n",
            "Requirement already satisfied: idna-ssl>=1.0; python_version < \"3.7\" in /usr/local/lib/python3.6/dist-packages (from aiohttp->gcsfs) (1.1.0)\n",
            "Requirement already satisfied: multidict<7.0,>=4.5 in /usr/local/lib/python3.6/dist-packages (from aiohttp->gcsfs) (5.0.0)\n",
            "Requirement already satisfied: oauthlib>=3.0.0 in /usr/local/lib/python3.6/dist-packages (from requests-oauthlib>=0.7.0->google-auth-oauthlib->gcsfs) (3.1.0)\n",
            "Requirement already satisfied: pyasn1<0.5.0,>=0.4.6 in /usr/local/lib/python3.6/dist-packages (from pyasn1-modules>=0.2.1->google-auth>=1.2->gcsfs) (0.4.8)\n"
          ],
          "name": "stdout"
        }
      ]
    },
    {
      "cell_type": "code",
      "metadata": {
        "id": "92U39KKyPT7O",
        "outputId": "1df0579d-1ad9-481a-ee33-ce43061a56ca",
        "colab": {
          "base_uri": "https://localhost:8080/",
          "height": 226
        }
      },
      "source": [
        "df.head()"
      ],
      "execution_count": null,
      "outputs": [
        {
          "output_type": "execute_result",
          "data": {
            "text/html": [
              "<div>\n",
              "<style scoped>\n",
              "    .dataframe tbody tr th:only-of-type {\n",
              "        vertical-align: middle;\n",
              "    }\n",
              "\n",
              "    .dataframe tbody tr th {\n",
              "        vertical-align: top;\n",
              "    }\n",
              "\n",
              "    .dataframe thead th {\n",
              "        text-align: right;\n",
              "    }\n",
              "</style>\n",
              "<table border=\"1\" class=\"dataframe\">\n",
              "  <thead>\n",
              "    <tr style=\"text-align: right;\">\n",
              "      <th></th>\n",
              "      <th>latitude</th>\n",
              "      <th>longitude</th>\n",
              "      <th>month</th>\n",
              "      <th>year</th>\n",
              "      <th>INCENDIE_count</th>\n",
              "      <th>ALARMES_INCENDIES_count</th>\n",
              "      <th>total_crimes</th>\n",
              "      <th>vols_count</th>\n",
              "      <th>Mefait_count</th>\n",
              "      <th>Vol_de_vehicule_count</th>\n",
              "      <th>Introduction_count</th>\n",
              "      <th>Vol_moteur_count</th>\n",
              "      <th>Infractions_entrainant_count</th>\n",
              "      <th>caserne_count</th>\n",
              "      <th>sum_etage_hors_sol</th>\n",
              "      <th>sum_nombre_logement</th>\n",
              "      <th>min_annee_construction</th>\n",
              "      <th>max_annee_construction</th>\n",
              "      <th>avg_annee_construction</th>\n",
              "      <th>sum_superficie_terrain</th>\n",
              "      <th>sum_superficie_batiment</th>\n",
              "      <th>area</th>\n",
              "      <th>population</th>\n",
              "      <th>dwellings</th>\n",
              "      <th>households</th>\n",
              "      <th>averagehouseholdsize</th>\n",
              "      <th>averageage</th>\n",
              "      <th>averagesizeofcensusfamilies</th>\n",
              "      <th>workers</th>\n",
              "    </tr>\n",
              "  </thead>\n",
              "  <tbody>\n",
              "    <tr>\n",
              "      <th>0</th>\n",
              "      <td>45.5</td>\n",
              "      <td>-73.75</td>\n",
              "      <td>1</td>\n",
              "      <td>2016</td>\n",
              "      <td>0</td>\n",
              "      <td>1</td>\n",
              "      <td>1</td>\n",
              "      <td>0</td>\n",
              "      <td>0</td>\n",
              "      <td>0</td>\n",
              "      <td>0</td>\n",
              "      <td>1</td>\n",
              "      <td>0</td>\n",
              "      <td>0</td>\n",
              "      <td>64</td>\n",
              "      <td>1</td>\n",
              "      <td>1959</td>\n",
              "      <td>2010</td>\n",
              "      <td>1981.980392</td>\n",
              "      <td>449902</td>\n",
              "      <td>132825</td>\n",
              "      <td>9.51679</td>\n",
              "      <td>1049</td>\n",
              "      <td>362</td>\n",
              "      <td>354</td>\n",
              "      <td>2.9</td>\n",
              "      <td>34.1</td>\n",
              "      <td>3.2</td>\n",
              "      <td>265</td>\n",
              "    </tr>\n",
              "    <tr>\n",
              "      <th>1</th>\n",
              "      <td>45.5</td>\n",
              "      <td>-73.75</td>\n",
              "      <td>10</td>\n",
              "      <td>2016</td>\n",
              "      <td>0</td>\n",
              "      <td>1</td>\n",
              "      <td>0</td>\n",
              "      <td>0</td>\n",
              "      <td>0</td>\n",
              "      <td>0</td>\n",
              "      <td>0</td>\n",
              "      <td>0</td>\n",
              "      <td>0</td>\n",
              "      <td>0</td>\n",
              "      <td>64</td>\n",
              "      <td>1</td>\n",
              "      <td>1959</td>\n",
              "      <td>2010</td>\n",
              "      <td>1981.980392</td>\n",
              "      <td>449902</td>\n",
              "      <td>132825</td>\n",
              "      <td>9.51679</td>\n",
              "      <td>1049</td>\n",
              "      <td>362</td>\n",
              "      <td>354</td>\n",
              "      <td>2.9</td>\n",
              "      <td>34.1</td>\n",
              "      <td>3.2</td>\n",
              "      <td>265</td>\n",
              "    </tr>\n",
              "    <tr>\n",
              "      <th>2</th>\n",
              "      <td>45.5</td>\n",
              "      <td>-73.75</td>\n",
              "      <td>6</td>\n",
              "      <td>2020</td>\n",
              "      <td>0</td>\n",
              "      <td>0</td>\n",
              "      <td>1</td>\n",
              "      <td>0</td>\n",
              "      <td>0</td>\n",
              "      <td>1</td>\n",
              "      <td>0</td>\n",
              "      <td>0</td>\n",
              "      <td>0</td>\n",
              "      <td>0</td>\n",
              "      <td>64</td>\n",
              "      <td>1</td>\n",
              "      <td>1959</td>\n",
              "      <td>2010</td>\n",
              "      <td>1981.980392</td>\n",
              "      <td>449902</td>\n",
              "      <td>132825</td>\n",
              "      <td>9.51679</td>\n",
              "      <td>1049</td>\n",
              "      <td>362</td>\n",
              "      <td>354</td>\n",
              "      <td>2.9</td>\n",
              "      <td>34.1</td>\n",
              "      <td>3.2</td>\n",
              "      <td>265</td>\n",
              "    </tr>\n",
              "    <tr>\n",
              "      <th>3</th>\n",
              "      <td>45.5</td>\n",
              "      <td>-73.75</td>\n",
              "      <td>2</td>\n",
              "      <td>2015</td>\n",
              "      <td>0</td>\n",
              "      <td>2</td>\n",
              "      <td>0</td>\n",
              "      <td>0</td>\n",
              "      <td>0</td>\n",
              "      <td>0</td>\n",
              "      <td>0</td>\n",
              "      <td>0</td>\n",
              "      <td>0</td>\n",
              "      <td>0</td>\n",
              "      <td>64</td>\n",
              "      <td>1</td>\n",
              "      <td>1959</td>\n",
              "      <td>2010</td>\n",
              "      <td>1981.980392</td>\n",
              "      <td>449902</td>\n",
              "      <td>132825</td>\n",
              "      <td>9.51679</td>\n",
              "      <td>1049</td>\n",
              "      <td>362</td>\n",
              "      <td>354</td>\n",
              "      <td>2.9</td>\n",
              "      <td>34.1</td>\n",
              "      <td>3.2</td>\n",
              "      <td>265</td>\n",
              "    </tr>\n",
              "    <tr>\n",
              "      <th>4</th>\n",
              "      <td>45.5</td>\n",
              "      <td>-73.75</td>\n",
              "      <td>8</td>\n",
              "      <td>2019</td>\n",
              "      <td>0</td>\n",
              "      <td>0</td>\n",
              "      <td>2</td>\n",
              "      <td>0</td>\n",
              "      <td>0</td>\n",
              "      <td>0</td>\n",
              "      <td>1</td>\n",
              "      <td>1</td>\n",
              "      <td>0</td>\n",
              "      <td>0</td>\n",
              "      <td>64</td>\n",
              "      <td>1</td>\n",
              "      <td>1959</td>\n",
              "      <td>2010</td>\n",
              "      <td>1981.980392</td>\n",
              "      <td>449902</td>\n",
              "      <td>132825</td>\n",
              "      <td>9.51679</td>\n",
              "      <td>1049</td>\n",
              "      <td>362</td>\n",
              "      <td>354</td>\n",
              "      <td>2.9</td>\n",
              "      <td>34.1</td>\n",
              "      <td>3.2</td>\n",
              "      <td>265</td>\n",
              "    </tr>\n",
              "  </tbody>\n",
              "</table>\n",
              "</div>"
            ],
            "text/plain": [
              "   latitude  longitude  month  ...  averageage  averagesizeofcensusfamilies  workers\n",
              "0      45.5     -73.75      1  ...        34.1                          3.2      265\n",
              "1      45.5     -73.75     10  ...        34.1                          3.2      265\n",
              "2      45.5     -73.75      6  ...        34.1                          3.2      265\n",
              "3      45.5     -73.75      2  ...        34.1                          3.2      265\n",
              "4      45.5     -73.75      8  ...        34.1                          3.2      265\n",
              "\n",
              "[5 rows x 29 columns]"
            ]
          },
          "metadata": {
            "tags": []
          },
          "execution_count": 39
        }
      ]
    },
    {
      "cell_type": "code",
      "metadata": {
        "id": "SmBmPxznXwOC",
        "outputId": "481d320b-5fa4-484e-d153-653b54a679ce",
        "colab": {
          "base_uri": "https://localhost:8080/"
        }
      },
      "source": [
        "df['INCENDIE_count'].value_counts()"
      ],
      "execution_count": null,
      "outputs": [
        {
          "output_type": "execute_result",
          "data": {
            "text/plain": [
              "0    25197\n",
              "1     4700\n",
              "2      766\n",
              "3      132\n",
              "4       26\n",
              "5        7\n",
              "6        2\n",
              "7        1\n",
              "Name: INCENDIE_count, dtype: int64"
            ]
          },
          "metadata": {
            "tags": []
          },
          "execution_count": 40
        }
      ]
    },
    {
      "cell_type": "code",
      "metadata": {
        "id": "cZW52Z6SpUDG",
        "outputId": "fa17be2e-ab01-40c2-fe0e-49b31ad183d4",
        "colab": {
          "base_uri": "https://localhost:8080/",
          "height": 320
        }
      },
      "source": [
        "df.describe()"
      ],
      "execution_count": null,
      "outputs": [
        {
          "output_type": "execute_result",
          "data": {
            "text/html": [
              "<div>\n",
              "<style scoped>\n",
              "    .dataframe tbody tr th:only-of-type {\n",
              "        vertical-align: middle;\n",
              "    }\n",
              "\n",
              "    .dataframe tbody tr th {\n",
              "        vertical-align: top;\n",
              "    }\n",
              "\n",
              "    .dataframe thead th {\n",
              "        text-align: right;\n",
              "    }\n",
              "</style>\n",
              "<table border=\"1\" class=\"dataframe\">\n",
              "  <thead>\n",
              "    <tr style=\"text-align: right;\">\n",
              "      <th></th>\n",
              "      <th>latitude</th>\n",
              "      <th>longitude</th>\n",
              "      <th>month</th>\n",
              "      <th>year</th>\n",
              "      <th>INCENDIE_count</th>\n",
              "      <th>ALARMES_INCENDIES_count</th>\n",
              "      <th>total_crimes</th>\n",
              "      <th>vols_count</th>\n",
              "      <th>Mefait_count</th>\n",
              "      <th>Vol_de_vehicule_count</th>\n",
              "      <th>Introduction_count</th>\n",
              "      <th>Vol_moteur_count</th>\n",
              "      <th>Infractions_entrainant_count</th>\n",
              "      <th>caserne_count</th>\n",
              "      <th>sum_etage_hors_sol</th>\n",
              "      <th>sum_nombre_logement</th>\n",
              "      <th>min_annee_construction</th>\n",
              "      <th>max_annee_construction</th>\n",
              "      <th>avg_annee_construction</th>\n",
              "      <th>sum_superficie_terrain</th>\n",
              "      <th>sum_superficie_batiment</th>\n",
              "      <th>area</th>\n",
              "      <th>population</th>\n",
              "      <th>dwellings</th>\n",
              "      <th>households</th>\n",
              "      <th>averagehouseholdsize</th>\n",
              "      <th>averageage</th>\n",
              "      <th>averagesizeofcensusfamilies</th>\n",
              "      <th>workers</th>\n",
              "    </tr>\n",
              "  </thead>\n",
              "  <tbody>\n",
              "    <tr>\n",
              "      <th>count</th>\n",
              "      <td>30831.000000</td>\n",
              "      <td>30831.000000</td>\n",
              "      <td>30831.000000</td>\n",
              "      <td>30831.000000</td>\n",
              "      <td>30831.000000</td>\n",
              "      <td>30831.000000</td>\n",
              "      <td>30831.000000</td>\n",
              "      <td>30831.000000</td>\n",
              "      <td>30831.000000</td>\n",
              "      <td>30831.000000</td>\n",
              "      <td>30831.000000</td>\n",
              "      <td>30831.000000</td>\n",
              "      <td>30831.000000</td>\n",
              "      <td>30831.000000</td>\n",
              "      <td>30831.000000</td>\n",
              "      <td>30831.000000</td>\n",
              "      <td>30831.000000</td>\n",
              "      <td>30831.000000</td>\n",
              "      <td>30831.000000</td>\n",
              "      <td>3.083100e+04</td>\n",
              "      <td>3.083100e+04</td>\n",
              "      <td>30831.000000</td>\n",
              "      <td>30831.000000</td>\n",
              "      <td>30831.000000</td>\n",
              "      <td>30831.000000</td>\n",
              "      <td>30831.000000</td>\n",
              "      <td>30831.000000</td>\n",
              "      <td>30831.000000</td>\n",
              "      <td>30831.000000</td>\n",
              "    </tr>\n",
              "    <tr>\n",
              "      <th>mean</th>\n",
              "      <td>45.521970</td>\n",
              "      <td>-73.658733</td>\n",
              "      <td>6.381337</td>\n",
              "      <td>2017.410528</td>\n",
              "      <td>0.220103</td>\n",
              "      <td>2.420097</td>\n",
              "      <td>4.644806</td>\n",
              "      <td>0.257565</td>\n",
              "      <td>1.044922</td>\n",
              "      <td>0.658493</td>\n",
              "      <td>1.463722</td>\n",
              "      <td>1.216211</td>\n",
              "      <td>0.003892</td>\n",
              "      <td>0.136745</td>\n",
              "      <td>1539.794395</td>\n",
              "      <td>2040.343518</td>\n",
              "      <td>1901.375466</td>\n",
              "      <td>2015.383218</td>\n",
              "      <td>1969.911896</td>\n",
              "      <td>4.327656e+05</td>\n",
              "      <td>6.085602e+05</td>\n",
              "      <td>1.432269</td>\n",
              "      <td>717.436671</td>\n",
              "      <td>322.750997</td>\n",
              "      <td>300.405112</td>\n",
              "      <td>2.308420</td>\n",
              "      <td>40.432526</td>\n",
              "      <td>2.829380</td>\n",
              "      <td>176.204470</td>\n",
              "    </tr>\n",
              "    <tr>\n",
              "      <th>std</th>\n",
              "      <td>0.066063</td>\n",
              "      <td>0.108458</td>\n",
              "      <td>3.383709</td>\n",
              "      <td>1.673232</td>\n",
              "      <td>0.514795</td>\n",
              "      <td>3.281905</td>\n",
              "      <td>5.677108</td>\n",
              "      <td>0.696306</td>\n",
              "      <td>1.687976</td>\n",
              "      <td>1.053534</td>\n",
              "      <td>2.413869</td>\n",
              "      <td>2.156997</td>\n",
              "      <td>0.064317</td>\n",
              "      <td>0.343584</td>\n",
              "      <td>1131.674422</td>\n",
              "      <td>1830.101362</td>\n",
              "      <td>60.197334</td>\n",
              "      <td>6.233986</td>\n",
              "      <td>17.411541</td>\n",
              "      <td>1.577753e+05</td>\n",
              "      <td>2.144041e+06</td>\n",
              "      <td>3.111724</td>\n",
              "      <td>487.278783</td>\n",
              "      <td>256.492223</td>\n",
              "      <td>219.826818</td>\n",
              "      <td>0.628306</td>\n",
              "      <td>9.998705</td>\n",
              "      <td>0.594489</td>\n",
              "      <td>147.235356</td>\n",
              "    </tr>\n",
              "    <tr>\n",
              "      <th>min</th>\n",
              "      <td>45.400000</td>\n",
              "      <td>-73.960000</td>\n",
              "      <td>1.000000</td>\n",
              "      <td>2015.000000</td>\n",
              "      <td>0.000000</td>\n",
              "      <td>0.000000</td>\n",
              "      <td>0.000000</td>\n",
              "      <td>0.000000</td>\n",
              "      <td>0.000000</td>\n",
              "      <td>0.000000</td>\n",
              "      <td>0.000000</td>\n",
              "      <td>0.000000</td>\n",
              "      <td>0.000000</td>\n",
              "      <td>0.000000</td>\n",
              "      <td>0.000000</td>\n",
              "      <td>0.000000</td>\n",
              "      <td>1600.000000</td>\n",
              "      <td>1900.000000</td>\n",
              "      <td>1900.000000</td>\n",
              "      <td>1.243000e+03</td>\n",
              "      <td>1.090000e+02</td>\n",
              "      <td>0.019040</td>\n",
              "      <td>0.000000</td>\n",
              "      <td>0.000000</td>\n",
              "      <td>0.000000</td>\n",
              "      <td>0.000000</td>\n",
              "      <td>0.000000</td>\n",
              "      <td>0.000000</td>\n",
              "      <td>0.000000</td>\n",
              "    </tr>\n",
              "    <tr>\n",
              "      <th>25%</th>\n",
              "      <td>45.470000</td>\n",
              "      <td>-73.720000</td>\n",
              "      <td>3.000000</td>\n",
              "      <td>2016.000000</td>\n",
              "      <td>0.000000</td>\n",
              "      <td>1.000000</td>\n",
              "      <td>1.000000</td>\n",
              "      <td>0.000000</td>\n",
              "      <td>0.000000</td>\n",
              "      <td>0.000000</td>\n",
              "      <td>0.000000</td>\n",
              "      <td>0.000000</td>\n",
              "      <td>0.000000</td>\n",
              "      <td>0.000000</td>\n",
              "      <td>728.000000</td>\n",
              "      <td>671.000000</td>\n",
              "      <td>1880.000000</td>\n",
              "      <td>2014.000000</td>\n",
              "      <td>1959.731745</td>\n",
              "      <td>3.509970e+05</td>\n",
              "      <td>1.321060e+05</td>\n",
              "      <td>0.082370</td>\n",
              "      <td>495.000000</td>\n",
              "      <td>200.000000</td>\n",
              "      <td>191.000000</td>\n",
              "      <td>2.000000</td>\n",
              "      <td>37.800000</td>\n",
              "      <td>2.700000</td>\n",
              "      <td>105.000000</td>\n",
              "    </tr>\n",
              "    <tr>\n",
              "      <th>50%</th>\n",
              "      <td>45.510000</td>\n",
              "      <td>-73.630000</td>\n",
              "      <td>6.000000</td>\n",
              "      <td>2017.000000</td>\n",
              "      <td>0.000000</td>\n",
              "      <td>1.000000</td>\n",
              "      <td>3.000000</td>\n",
              "      <td>0.000000</td>\n",
              "      <td>0.000000</td>\n",
              "      <td>0.000000</td>\n",
              "      <td>1.000000</td>\n",
              "      <td>1.000000</td>\n",
              "      <td>0.000000</td>\n",
              "      <td>0.000000</td>\n",
              "      <td>1432.000000</td>\n",
              "      <td>1486.000000</td>\n",
              "      <td>1910.000000</td>\n",
              "      <td>2018.000000</td>\n",
              "      <td>1969.912360</td>\n",
              "      <td>4.537330e+05</td>\n",
              "      <td>2.389450e+05</td>\n",
              "      <td>0.185670</td>\n",
              "      <td>586.000000</td>\n",
              "      <td>263.000000</td>\n",
              "      <td>243.000000</td>\n",
              "      <td>2.300000</td>\n",
              "      <td>40.400000</td>\n",
              "      <td>2.900000</td>\n",
              "      <td>145.000000</td>\n",
              "    </tr>\n",
              "    <tr>\n",
              "      <th>75%</th>\n",
              "      <td>45.570000</td>\n",
              "      <td>-73.580000</td>\n",
              "      <td>9.000000</td>\n",
              "      <td>2019.000000</td>\n",
              "      <td>0.000000</td>\n",
              "      <td>3.000000</td>\n",
              "      <td>6.000000</td>\n",
              "      <td>0.000000</td>\n",
              "      <td>1.000000</td>\n",
              "      <td>1.000000</td>\n",
              "      <td>2.000000</td>\n",
              "      <td>2.000000</td>\n",
              "      <td>0.000000</td>\n",
              "      <td>0.000000</td>\n",
              "      <td>2167.000000</td>\n",
              "      <td>3107.000000</td>\n",
              "      <td>1950.000000</td>\n",
              "      <td>2019.000000</td>\n",
              "      <td>1981.980392</td>\n",
              "      <td>5.232220e+05</td>\n",
              "      <td>4.541680e+05</td>\n",
              "      <td>0.871770</td>\n",
              "      <td>785.000000</td>\n",
              "      <td>362.000000</td>\n",
              "      <td>341.000000</td>\n",
              "      <td>2.700000</td>\n",
              "      <td>43.200000</td>\n",
              "      <td>3.100000</td>\n",
              "      <td>205.000000</td>\n",
              "    </tr>\n",
              "    <tr>\n",
              "      <th>max</th>\n",
              "      <td>45.700000</td>\n",
              "      <td>-73.480000</td>\n",
              "      <td>12.000000</td>\n",
              "      <td>2020.000000</td>\n",
              "      <td>7.000000</td>\n",
              "      <td>45.000000</td>\n",
              "      <td>63.000000</td>\n",
              "      <td>12.000000</td>\n",
              "      <td>26.000000</td>\n",
              "      <td>39.000000</td>\n",
              "      <td>30.000000</td>\n",
              "      <td>35.000000</td>\n",
              "      <td>2.000000</td>\n",
              "      <td>1.000000</td>\n",
              "      <td>5764.000000</td>\n",
              "      <td>11100.000000</td>\n",
              "      <td>1996.000000</td>\n",
              "      <td>2020.000000</td>\n",
              "      <td>2012.215104</td>\n",
              "      <td>3.790377e+06</td>\n",
              "      <td>4.144732e+07</td>\n",
              "      <td>15.997840</td>\n",
              "      <td>4669.000000</td>\n",
              "      <td>2596.000000</td>\n",
              "      <td>2111.000000</td>\n",
              "      <td>3.700000</td>\n",
              "      <td>91.600000</td>\n",
              "      <td>3.900000</td>\n",
              "      <td>1270.000000</td>\n",
              "    </tr>\n",
              "  </tbody>\n",
              "</table>\n",
              "</div>"
            ],
            "text/plain": [
              "           latitude     longitude  ...  averagesizeofcensusfamilies       workers\n",
              "count  30831.000000  30831.000000  ...                 30831.000000  30831.000000\n",
              "mean      45.521970    -73.658733  ...                     2.829380    176.204470\n",
              "std        0.066063      0.108458  ...                     0.594489    147.235356\n",
              "min       45.400000    -73.960000  ...                     0.000000      0.000000\n",
              "25%       45.470000    -73.720000  ...                     2.700000    105.000000\n",
              "50%       45.510000    -73.630000  ...                     2.900000    145.000000\n",
              "75%       45.570000    -73.580000  ...                     3.100000    205.000000\n",
              "max       45.700000    -73.480000  ...                     3.900000   1270.000000\n",
              "\n",
              "[8 rows x 29 columns]"
            ]
          },
          "metadata": {
            "tags": []
          },
          "execution_count": 41
        }
      ]
    },
    {
      "cell_type": "code",
      "metadata": {
        "id": "5oZUDtx5eUeA"
      },
      "source": [
        "corr_matrix = df.corr()"
      ],
      "execution_count": null,
      "outputs": []
    },
    {
      "cell_type": "code",
      "metadata": {
        "id": "J4L5lv-9eigq",
        "outputId": "a5857be1-f398-4071-c981-051e9c5ab68f",
        "colab": {
          "base_uri": "https://localhost:8080/"
        }
      },
      "source": [
        "corr_matrix[\"INCENDIE_count\"].sort_values(ascending=False)"
      ],
      "execution_count": null,
      "outputs": [
        {
          "output_type": "execute_result",
          "data": {
            "text/plain": [
              "INCENDIE_count                  1.000000\n",
              "sum_nombre_logement             0.345779\n",
              "sum_etage_hors_sol              0.296308\n",
              "total_crimes                    0.282805\n",
              "ALARMES_INCENDIES_count         0.277268\n",
              "Introduction_count              0.249569\n",
              "Mefait_count                    0.237519\n",
              "Vol_moteur_count                0.186271\n",
              "vols_count                      0.180177\n",
              "longitude                       0.140413\n",
              "caserne_count                   0.109855\n",
              "sum_superficie_batiment         0.083279\n",
              "max_annee_construction          0.077627\n",
              "Vol_de_vehicule_count           0.069761\n",
              "dwellings                       0.055430\n",
              "households                      0.035212\n",
              "sum_superficie_terrain          0.031230\n",
              "Infractions_entrainant_count    0.022128\n",
              "latitude                        0.019402\n",
              "year                            0.014955\n",
              "month                          -0.010032\n",
              "population                     -0.023563\n",
              "averageage                     -0.029906\n",
              "workers                        -0.039661\n",
              "averagesizeofcensusfamilies    -0.044341\n",
              "averagehouseholdsize           -0.109993\n",
              "area                           -0.117711\n",
              "min_annee_construction         -0.125862\n",
              "avg_annee_construction         -0.148518\n",
              "Name: INCENDIE_count, dtype: float64"
            ]
          },
          "metadata": {
            "tags": []
          },
          "execution_count": 43
        }
      ]
    },
    {
      "cell_type": "code",
      "metadata": {
        "id": "tHMxSRbPncAp",
        "outputId": "d119d82d-271e-4df9-b5cc-c37f8d0bb327",
        "colab": {
          "base_uri": "https://localhost:8080/",
          "height": 298
        }
      },
      "source": [
        "df.plot(kind=\"scatter\", x=\"sum_nombre_logement\", y=\"INCENDIE_count\",\n",
        "             alpha=0.1)\n"
      ],
      "execution_count": null,
      "outputs": [
        {
          "output_type": "execute_result",
          "data": {
            "text/plain": [
              "<matplotlib.axes._subplots.AxesSubplot at 0x7fd00c212588>"
            ]
          },
          "metadata": {
            "tags": []
          },
          "execution_count": 44
        },
        {
          "output_type": "display_data",
          "data": {
            "image/png": "[encoded data removed]",
            "text/plain": [
              "<Figure size 432x288 with 1 Axes>"
            ]
          },
          "metadata": {
            "tags": [],
            "needs_background": "light"
          }
        }
      ]
    },
    {
      "cell_type": "code",
      "metadata": {
        "id": "3PgUfC_hsPBi",
        "outputId": "553dae33-764f-4900-9c87-1fca6e708dfa",
        "colab": {
          "base_uri": "https://localhost:8080/"
        }
      },
      "source": [
        "from sklearn.model_selection import train_test_split\n",
        "\n",
        "train_set, test_set = train_test_split(df, test_size=0.2, random_state=42)\n",
        "\n",
        "len(train_set),len(test_set)"
      ],
      "execution_count": null,
      "outputs": [
        {
          "output_type": "execute_result",
          "data": {
            "text/plain": [
              "(24664, 6167)"
            ]
          },
          "metadata": {
            "tags": []
          },
          "execution_count": 45
        }
      ]
    },
    {
      "cell_type": "code",
      "metadata": {
        "id": "VjfYnhv6sSa2"
      },
      "source": [
        "train_set_n = train_set.drop(\"INCENDIE_count\", axis=1)"
      ],
      "execution_count": null,
      "outputs": []
    },
    {
      "cell_type": "code",
      "metadata": {
        "id": "4sbN_V-js0OA"
      },
      "source": [
        "train_labels = train_set[\"INCENDIE_count\"].copy()"
      ],
      "execution_count": null,
      "outputs": []
    },
    {
      "cell_type": "code",
      "metadata": {
        "id": "4FkNEPiJtX_G",
        "outputId": "dc695d9a-b3a2-488f-a886-a0693d8dd9bc",
        "colab": {
          "base_uri": "https://localhost:8080/",
          "height": 226
        }
      },
      "source": [
        "train_set_n.head()"
      ],
      "execution_count": null,
      "outputs": [
        {
          "output_type": "execute_result",
          "data": {
            "text/html": [
              "<div>\n",
              "<style scoped>\n",
              "    .dataframe tbody tr th:only-of-type {\n",
              "        vertical-align: middle;\n",
              "    }\n",
              "\n",
              "    .dataframe tbody tr th {\n",
              "        vertical-align: top;\n",
              "    }\n",
              "\n",
              "    .dataframe thead th {\n",
              "        text-align: right;\n",
              "    }\n",
              "</style>\n",
              "<table border=\"1\" class=\"dataframe\">\n",
              "  <thead>\n",
              "    <tr style=\"text-align: right;\">\n",
              "      <th></th>\n",
              "      <th>latitude</th>\n",
              "      <th>longitude</th>\n",
              "      <th>month</th>\n",
              "      <th>year</th>\n",
              "      <th>ALARMES_INCENDIES_count</th>\n",
              "      <th>total_crimes</th>\n",
              "      <th>vols_count</th>\n",
              "      <th>Mefait_count</th>\n",
              "      <th>Vol_de_vehicule_count</th>\n",
              "      <th>Introduction_count</th>\n",
              "      <th>Vol_moteur_count</th>\n",
              "      <th>Infractions_entrainant_count</th>\n",
              "      <th>caserne_count</th>\n",
              "      <th>sum_etage_hors_sol</th>\n",
              "      <th>sum_nombre_logement</th>\n",
              "      <th>min_annee_construction</th>\n",
              "      <th>max_annee_construction</th>\n",
              "      <th>avg_annee_construction</th>\n",
              "      <th>sum_superficie_terrain</th>\n",
              "      <th>sum_superficie_batiment</th>\n",
              "      <th>area</th>\n",
              "      <th>population</th>\n",
              "      <th>dwellings</th>\n",
              "      <th>households</th>\n",
              "      <th>averagehouseholdsize</th>\n",
              "      <th>averageage</th>\n",
              "      <th>averagesizeofcensusfamilies</th>\n",
              "      <th>workers</th>\n",
              "    </tr>\n",
              "  </thead>\n",
              "  <tbody>\n",
              "    <tr>\n",
              "      <th>21898</th>\n",
              "      <td>45.61</td>\n",
              "      <td>-73.61</td>\n",
              "      <td>9</td>\n",
              "      <td>2020</td>\n",
              "      <td>3</td>\n",
              "      <td>1</td>\n",
              "      <td>0</td>\n",
              "      <td>0</td>\n",
              "      <td>0</td>\n",
              "      <td>1</td>\n",
              "      <td>0</td>\n",
              "      <td>0</td>\n",
              "      <td>0</td>\n",
              "      <td>1214</td>\n",
              "      <td>2009</td>\n",
              "      <td>1956</td>\n",
              "      <td>2018</td>\n",
              "      <td>1968.432056</td>\n",
              "      <td>385522</td>\n",
              "      <td>209298</td>\n",
              "      <td>0.05855</td>\n",
              "      <td>997</td>\n",
              "      <td>511</td>\n",
              "      <td>470</td>\n",
              "      <td>2.1</td>\n",
              "      <td>38.8</td>\n",
              "      <td>2.9</td>\n",
              "      <td>165</td>\n",
              "    </tr>\n",
              "    <tr>\n",
              "      <th>29462</th>\n",
              "      <td>45.59</td>\n",
              "      <td>-73.51</td>\n",
              "      <td>4</td>\n",
              "      <td>2019</td>\n",
              "      <td>0</td>\n",
              "      <td>7</td>\n",
              "      <td>1</td>\n",
              "      <td>0</td>\n",
              "      <td>1</td>\n",
              "      <td>2</td>\n",
              "      <td>3</td>\n",
              "      <td>0</td>\n",
              "      <td>0</td>\n",
              "      <td>1493</td>\n",
              "      <td>1944</td>\n",
              "      <td>1898</td>\n",
              "      <td>2019</td>\n",
              "      <td>1966.467925</td>\n",
              "      <td>297075</td>\n",
              "      <td>447529</td>\n",
              "      <td>0.27338</td>\n",
              "      <td>338</td>\n",
              "      <td>176</td>\n",
              "      <td>160</td>\n",
              "      <td>1.9</td>\n",
              "      <td>40.4</td>\n",
              "      <td>2.6</td>\n",
              "      <td>70</td>\n",
              "    </tr>\n",
              "    <tr>\n",
              "      <th>4990</th>\n",
              "      <td>45.49</td>\n",
              "      <td>-73.56</td>\n",
              "      <td>1</td>\n",
              "      <td>2020</td>\n",
              "      <td>8</td>\n",
              "      <td>2</td>\n",
              "      <td>0</td>\n",
              "      <td>0</td>\n",
              "      <td>0</td>\n",
              "      <td>1</td>\n",
              "      <td>1</td>\n",
              "      <td>0</td>\n",
              "      <td>1</td>\n",
              "      <td>4282</td>\n",
              "      <td>4774</td>\n",
              "      <td>1859</td>\n",
              "      <td>2019</td>\n",
              "      <td>2012.215104</td>\n",
              "      <td>287266</td>\n",
              "      <td>199041</td>\n",
              "      <td>0.25935</td>\n",
              "      <td>1469</td>\n",
              "      <td>1155</td>\n",
              "      <td>911</td>\n",
              "      <td>1.6</td>\n",
              "      <td>34.3</td>\n",
              "      <td>2.4</td>\n",
              "      <td>650</td>\n",
              "    </tr>\n",
              "    <tr>\n",
              "      <th>23698</th>\n",
              "      <td>45.44</td>\n",
              "      <td>-73.59</td>\n",
              "      <td>9</td>\n",
              "      <td>2017</td>\n",
              "      <td>2</td>\n",
              "      <td>3</td>\n",
              "      <td>0</td>\n",
              "      <td>0</td>\n",
              "      <td>0</td>\n",
              "      <td>3</td>\n",
              "      <td>0</td>\n",
              "      <td>0</td>\n",
              "      <td>0</td>\n",
              "      <td>899</td>\n",
              "      <td>782</td>\n",
              "      <td>1900</td>\n",
              "      <td>2008</td>\n",
              "      <td>1951.588825</td>\n",
              "      <td>313912</td>\n",
              "      <td>72231</td>\n",
              "      <td>0.14873</td>\n",
              "      <td>872</td>\n",
              "      <td>286</td>\n",
              "      <td>279</td>\n",
              "      <td>2.4</td>\n",
              "      <td>49.8</td>\n",
              "      <td>2.9</td>\n",
              "      <td>225</td>\n",
              "    </tr>\n",
              "    <tr>\n",
              "      <th>10709</th>\n",
              "      <td>45.64</td>\n",
              "      <td>-73.52</td>\n",
              "      <td>10</td>\n",
              "      <td>2018</td>\n",
              "      <td>0</td>\n",
              "      <td>2</td>\n",
              "      <td>0</td>\n",
              "      <td>0</td>\n",
              "      <td>0</td>\n",
              "      <td>1</td>\n",
              "      <td>1</td>\n",
              "      <td>0</td>\n",
              "      <td>0</td>\n",
              "      <td>12</td>\n",
              "      <td>0</td>\n",
              "      <td>1953</td>\n",
              "      <td>2012</td>\n",
              "      <td>1994.187500</td>\n",
              "      <td>92659</td>\n",
              "      <td>14570</td>\n",
              "      <td>4.07349</td>\n",
              "      <td>702</td>\n",
              "      <td>162</td>\n",
              "      <td>158</td>\n",
              "      <td>2.8</td>\n",
              "      <td>56.7</td>\n",
              "      <td>3.0</td>\n",
              "      <td>160</td>\n",
              "    </tr>\n",
              "  </tbody>\n",
              "</table>\n",
              "</div>"
            ],
            "text/plain": [
              "       latitude  longitude  ...  averagesizeofcensusfamilies  workers\n",
              "21898     45.61     -73.61  ...                          2.9      165\n",
              "29462     45.59     -73.51  ...                          2.6       70\n",
              "4990      45.49     -73.56  ...                          2.4      650\n",
              "23698     45.44     -73.59  ...                          2.9      225\n",
              "10709     45.64     -73.52  ...                          3.0      160\n",
              "\n",
              "[5 rows x 28 columns]"
            ]
          },
          "metadata": {
            "tags": []
          },
          "execution_count": 48
        }
      ]
    },
    {
      "cell_type": "code",
      "metadata": {
        "id": "iSo3kOA9uN6B",
        "outputId": "46dd9df9-c737-4b1c-c18c-d27f839f240a",
        "colab": {
          "base_uri": "https://localhost:8080/"
        }
      },
      "source": [
        "from sklearn.linear_model import LinearRegression\n",
        "\n",
        "lin_reg = LinearRegression()\n",
        "lin_reg.fit(train_set_n, train_labels)"
      ],
      "execution_count": null,
      "outputs": [
        {
          "output_type": "execute_result",
          "data": {
            "text/plain": [
              "LinearRegression(copy_X=True, fit_intercept=True, n_jobs=None, normalize=False)"
            ]
          },
          "metadata": {
            "tags": []
          },
          "execution_count": 49
        }
      ]
    },
    {
      "cell_type": "code",
      "metadata": {
        "id": "HFmjwgeqxTyz",
        "outputId": "a4254035-4399-47c9-da32-54f8728f6cbb",
        "colab": {
          "base_uri": "https://localhost:8080/"
        }
      },
      "source": [
        "lin_reg.coef_"
      ],
      "execution_count": null,
      "outputs": [
        {
          "output_type": "execute_result",
          "data": {
            "text/plain": [
              "array([ 9.11920252e-02, -7.83247002e-02, -2.12253370e-03,  6.13280404e-03,\n",
              "        1.38795203e-02,  4.19131575e-03,  1.09189039e-02,  8.02533364e-03,\n",
              "       -1.48180361e-02,  4.19386363e-03, -3.12655004e-03, -1.00219935e-03,\n",
              "        1.94941440e-02, -1.83380367e-05,  7.64876886e-05,  3.38691387e-05,\n",
              "        2.55926206e-04, -6.26221940e-04, -4.83659229e-08,  2.13956055e-10,\n",
              "        1.21597201e-03,  7.38925269e-05,  8.22362787e-05, -1.40359087e-04,\n",
              "       -2.05237945e-02, -2.46365713e-03,  4.14621428e-02, -2.17692127e-04])"
            ]
          },
          "metadata": {
            "tags": []
          },
          "execution_count": 50
        }
      ]
    },
    {
      "cell_type": "code",
      "metadata": {
        "id": "I27LC6U7xllU",
        "outputId": "e9db0584-90f3-45ce-a2de-f82c068c9593",
        "colab": {
          "base_uri": "https://localhost:8080/"
        }
      },
      "source": [
        "print(lin_reg.score(train_set_n,train_labels))"
      ],
      "execution_count": null,
      "outputs": [
        {
          "output_type": "stream",
          "text": [
            "0.1342127525222565\n"
          ],
          "name": "stdout"
        }
      ]
    },
    {
      "cell_type": "code",
      "metadata": {
        "id": "srGbLKMTxs_w",
        "outputId": "b4abe2e4-fef6-4964-dcc4-a2ecd179b96e",
        "colab": {
          "base_uri": "https://localhost:8080/"
        }
      },
      "source": [
        "test_set_n = test_set.drop(\"INCENDIE_count\", axis=1)\n",
        "test_labels= test_set[\"INCENDIE_count\"].copy()\n",
        "print(lin_reg.score(test_set_n,test_labels))"
      ],
      "execution_count": null,
      "outputs": [
        {
          "output_type": "stream",
          "text": [
            "0.1285290041904229\n"
          ],
          "name": "stdout"
        }
      ]
    }
  ]
}