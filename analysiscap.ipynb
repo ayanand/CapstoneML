{
  "nbformat": 4,
  "nbformat_minor": 0,
  "metadata": {
    "colab": {
      "name": "analysiscap.ipynb",
      "provenance": [],
      "collapsed_sections": []
    },
    "kernelspec": {
      "display_name": "Python 3",
      "name": "python3"
    },
    "accelerator": "GPU"
  },
  "cells": [
    {
      "cell_type": "code",
      "metadata": {
        "id": "_WCXOdd8KFCm",
        "outputId": "69d19d8c-5cfa-4be0-bac9-ee40fbb14160",
        "colab": {
          "base_uri": "https://localhost:8080/"
        }
      },
      "source": [
        "import pandas as pd\n",
        "!pip install fsspec\n",
        "!pip install gcsfs \n",
        " \n",
        " \n",
        "df = pd.read_csv('gs://capstoragebucket2020/All_joined_v3.csv')"
      ],
      "execution_count": 1,
      "outputs": [
        {
          "output_type": "stream",
          "text": [
            "Collecting fsspec\n",
            "\u001b[?25l  Downloading https://files.pythonhosted.org/packages/a5/8b/1df260f860f17cb08698170153ef7db672c497c1840dcc8613ce26a8a005/fsspec-0.8.4-py3-none-any.whl (91kB)\n",
            "\r\u001b[K     |███▋                            | 10kB 23.8MB/s eta 0:00:01\r\u001b[K     |███████▏                        | 20kB 17.7MB/s eta 0:00:01\r\u001b[K     |██████████▉                     | 30kB 14.8MB/s eta 0:00:01\r\u001b[K     |██████████████▍                 | 40kB 13.5MB/s eta 0:00:01\r\u001b[K     |██████████████████              | 51kB 10.3MB/s eta 0:00:01\r\u001b[K     |█████████████████████▋          | 61kB 10.9MB/s eta 0:00:01\r\u001b[K     |█████████████████████████▏      | 71kB 10.7MB/s eta 0:00:01\r\u001b[K     |████████████████████████████▊   | 81kB 11.8MB/s eta 0:00:01\r\u001b[K     |████████████████████████████████| 92kB 6.1MB/s \n",
            "\u001b[?25hInstalling collected packages: fsspec\n",
            "Successfully installed fsspec-0.8.4\n",
            "Collecting gcsfs\n",
            "  Downloading https://files.pythonhosted.org/packages/85/75/3d669945d41e5aedd5c4333b9dc6192b7839d2bafd04b75b8222d4e92ae0/gcsfs-0.7.1-py2.py3-none-any.whl\n",
            "Requirement already satisfied: decorator in /usr/local/lib/python3.6/dist-packages (from gcsfs) (4.4.2)\n",
            "Collecting aiohttp\n",
            "\u001b[?25l  Downloading https://files.pythonhosted.org/packages/9c/c6/c518b46d9bf1ae08c1936d82eae4190455ab073bddbb70ddf371211d3151/aiohttp-3.7.2-cp36-cp36m-manylinux2014_x86_64.whl (1.3MB)\n",
            "\u001b[K     |████████████████████████████████| 1.3MB 11.1MB/s \n",
            "\u001b[?25hRequirement already satisfied: google-auth>=1.2 in /usr/local/lib/python3.6/dist-packages (from gcsfs) (1.17.2)\n",
            "Requirement already satisfied: google-auth-oauthlib in /usr/local/lib/python3.6/dist-packages (from gcsfs) (0.4.2)\n",
            "Requirement already satisfied: requests in /usr/local/lib/python3.6/dist-packages (from gcsfs) (2.23.0)\n",
            "Requirement already satisfied: fsspec>=0.8.0 in /usr/local/lib/python3.6/dist-packages (from gcsfs) (0.8.4)\n",
            "Requirement already satisfied: chardet<4.0,>=2.0 in /usr/local/lib/python3.6/dist-packages (from aiohttp->gcsfs) (3.0.4)\n",
            "Collecting yarl<2.0,>=1.0\n",
            "\u001b[?25l  Downloading https://files.pythonhosted.org/packages/25/8b/f4176c06233f7baed99dcb5aefcb010bfbbe769050579adda63083f2c326/yarl-1.6.2-cp36-cp36m-manylinux2014_x86_64.whl (295kB)\n",
            "\u001b[K     |████████████████████████████████| 296kB 30.5MB/s \n",
            "\u001b[?25hRequirement already satisfied: attrs>=17.3.0 in /usr/local/lib/python3.6/dist-packages (from aiohttp->gcsfs) (20.2.0)\n",
            "Collecting async-timeout<4.0,>=3.0\n",
            "  Downloading https://files.pythonhosted.org/packages/e1/1e/5a4441be21b0726c4464f3f23c8b19628372f606755a9d2e46c187e65ec4/async_timeout-3.0.1-py3-none-any.whl\n",
            "Collecting idna-ssl>=1.0; python_version < \"3.7\"\n",
            "  Downloading https://files.pythonhosted.org/packages/46/03/07c4894aae38b0de52b52586b24bf189bb83e4ddabfe2e2c8f2419eec6f4/idna-ssl-1.1.0.tar.gz\n",
            "Requirement already satisfied: typing-extensions>=3.6.5 in /usr/local/lib/python3.6/dist-packages (from aiohttp->gcsfs) (3.7.4.3)\n",
            "Collecting multidict<7.0,>=4.5\n",
            "\u001b[?25l  Downloading https://files.pythonhosted.org/packages/78/a0/7c0f5bf1bdcfe88da60d13ba1fead20cb960ae11a355adafae59907d9ae1/multidict-5.0.0-cp36-cp36m-manylinux2014_x86_64.whl (141kB)\n",
            "\u001b[K     |████████████████████████████████| 143kB 40.6MB/s \n",
            "\u001b[?25hRequirement already satisfied: six>=1.9.0 in /usr/local/lib/python3.6/dist-packages (from google-auth>=1.2->gcsfs) (1.15.0)\n",
            "Requirement already satisfied: cachetools<5.0,>=2.0.0 in /usr/local/lib/python3.6/dist-packages (from google-auth>=1.2->gcsfs) (4.1.1)\n",
            "Requirement already satisfied: rsa<5,>=3.1.4; python_version >= \"3\" in /usr/local/lib/python3.6/dist-packages (from google-auth>=1.2->gcsfs) (4.6)\n",
            "Requirement already satisfied: setuptools>=40.3.0 in /usr/local/lib/python3.6/dist-packages (from google-auth>=1.2->gcsfs) (50.3.2)\n",
            "Requirement already satisfied: pyasn1-modules>=0.2.1 in /usr/local/lib/python3.6/dist-packages (from google-auth>=1.2->gcsfs) (0.2.8)\n",
            "Requirement already satisfied: requests-oauthlib>=0.7.0 in /usr/local/lib/python3.6/dist-packages (from google-auth-oauthlib->gcsfs) (1.3.0)\n",
            "Requirement already satisfied: urllib3!=1.25.0,!=1.25.1,<1.26,>=1.21.1 in /usr/local/lib/python3.6/dist-packages (from requests->gcsfs) (1.24.3)\n",
            "Requirement already satisfied: certifi>=2017.4.17 in /usr/local/lib/python3.6/dist-packages (from requests->gcsfs) (2020.6.20)\n",
            "Requirement already satisfied: idna<3,>=2.5 in /usr/local/lib/python3.6/dist-packages (from requests->gcsfs) (2.10)\n",
            "Requirement already satisfied: pyasn1>=0.1.3 in /usr/local/lib/python3.6/dist-packages (from rsa<5,>=3.1.4; python_version >= \"3\"->google-auth>=1.2->gcsfs) (0.4.8)\n",
            "Requirement already satisfied: oauthlib>=3.0.0 in /usr/local/lib/python3.6/dist-packages (from requests-oauthlib>=0.7.0->google-auth-oauthlib->gcsfs) (3.1.0)\n",
            "Building wheels for collected packages: idna-ssl\n",
            "  Building wheel for idna-ssl (setup.py) ... \u001b[?25l\u001b[?25hdone\n",
            "  Created wheel for idna-ssl: filename=idna_ssl-1.1.0-cp36-none-any.whl size=3161 sha256=c9b42e3d5667831419b2784f1fbc21b40eae96f68af534d06a2eaac69c93e7b8\n",
            "  Stored in directory: /root/.cache/pip/wheels/d3/00/b3/32d613e19e08a739751dd6bf998cfed277728f8b2127ad4eb7\n",
            "Successfully built idna-ssl\n",
            "Installing collected packages: multidict, yarl, async-timeout, idna-ssl, aiohttp, gcsfs\n",
            "Successfully installed aiohttp-3.7.2 async-timeout-3.0.1 gcsfs-0.7.1 idna-ssl-1.1.0 multidict-5.0.0 yarl-1.6.2\n"
          ],
          "name": "stdout"
        }
      ]
    },
    {
      "cell_type": "code",
      "metadata": {
        "id": "92U39KKyPT7O",
        "outputId": "ed225d10-a2f7-409a-e507-15e18b887b7e",
        "colab": {
          "base_uri": "https://localhost:8080/",
          "height": 226
        }
      },
      "source": [
        "df.tail()"
      ],
      "execution_count": 2,
      "outputs": [
        {
          "output_type": "execute_result",
          "data": {
            "text/html": [
              "<div>\n",
              "<style scoped>\n",
              "    .dataframe tbody tr th:only-of-type {\n",
              "        vertical-align: middle;\n",
              "    }\n",
              "\n",
              "    .dataframe tbody tr th {\n",
              "        vertical-align: top;\n",
              "    }\n",
              "\n",
              "    .dataframe thead th {\n",
              "        text-align: right;\n",
              "    }\n",
              "</style>\n",
              "<table border=\"1\" class=\"dataframe\">\n",
              "  <thead>\n",
              "    <tr style=\"text-align: right;\">\n",
              "      <th></th>\n",
              "      <th>latitude</th>\n",
              "      <th>longitude</th>\n",
              "      <th>month</th>\n",
              "      <th>year</th>\n",
              "      <th>INCENDIE_count</th>\n",
              "      <th>ALARMES_INCENDIES_count</th>\n",
              "      <th>total_crimes</th>\n",
              "      <th>vols_count</th>\n",
              "      <th>Mefait_count</th>\n",
              "      <th>Vol_de_vehicule_count</th>\n",
              "      <th>Introduction_count</th>\n",
              "      <th>Vol_moteur_count</th>\n",
              "      <th>Infractions_entrainant_count</th>\n",
              "      <th>caserne_count</th>\n",
              "      <th>sum_etage_hors_sol</th>\n",
              "      <th>sum_nombre_logement</th>\n",
              "      <th>min_annee_construction</th>\n",
              "      <th>max_annee_construction</th>\n",
              "      <th>avg_annee_construction</th>\n",
              "      <th>sum_superficie_terrain</th>\n",
              "      <th>sum_superficie_batiment</th>\n",
              "      <th>area</th>\n",
              "      <th>population</th>\n",
              "      <th>dwellings</th>\n",
              "      <th>households</th>\n",
              "      <th>averagehouseholdsize</th>\n",
              "      <th>averageage</th>\n",
              "      <th>averagesizeofcensusfamilies</th>\n",
              "      <th>workers</th>\n",
              "    </tr>\n",
              "  </thead>\n",
              "  <tbody>\n",
              "    <tr>\n",
              "      <th>30826</th>\n",
              "      <td>45.67</td>\n",
              "      <td>-73.52</td>\n",
              "      <td>4</td>\n",
              "      <td>2015</td>\n",
              "      <td>0</td>\n",
              "      <td>0</td>\n",
              "      <td>1</td>\n",
              "      <td>0</td>\n",
              "      <td>0</td>\n",
              "      <td>0</td>\n",
              "      <td>1</td>\n",
              "      <td>0</td>\n",
              "      <td>0</td>\n",
              "      <td>0</td>\n",
              "      <td>85</td>\n",
              "      <td>83</td>\n",
              "      <td>1950</td>\n",
              "      <td>2007</td>\n",
              "      <td>1975.471429</td>\n",
              "      <td>44515</td>\n",
              "      <td>8443</td>\n",
              "      <td>5.56117</td>\n",
              "      <td>1626</td>\n",
              "      <td>590</td>\n",
              "      <td>586</td>\n",
              "      <td>2.7</td>\n",
              "      <td>35.6</td>\n",
              "      <td>3.1</td>\n",
              "      <td>515</td>\n",
              "    </tr>\n",
              "    <tr>\n",
              "      <th>30827</th>\n",
              "      <td>45.67</td>\n",
              "      <td>-73.52</td>\n",
              "      <td>5</td>\n",
              "      <td>2017</td>\n",
              "      <td>0</td>\n",
              "      <td>1</td>\n",
              "      <td>0</td>\n",
              "      <td>0</td>\n",
              "      <td>0</td>\n",
              "      <td>0</td>\n",
              "      <td>0</td>\n",
              "      <td>0</td>\n",
              "      <td>0</td>\n",
              "      <td>0</td>\n",
              "      <td>85</td>\n",
              "      <td>83</td>\n",
              "      <td>1950</td>\n",
              "      <td>2007</td>\n",
              "      <td>1975.471429</td>\n",
              "      <td>44515</td>\n",
              "      <td>8443</td>\n",
              "      <td>5.56117</td>\n",
              "      <td>1626</td>\n",
              "      <td>590</td>\n",
              "      <td>586</td>\n",
              "      <td>2.7</td>\n",
              "      <td>35.6</td>\n",
              "      <td>3.1</td>\n",
              "      <td>515</td>\n",
              "    </tr>\n",
              "    <tr>\n",
              "      <th>30828</th>\n",
              "      <td>45.67</td>\n",
              "      <td>-73.52</td>\n",
              "      <td>10</td>\n",
              "      <td>2017</td>\n",
              "      <td>0</td>\n",
              "      <td>0</td>\n",
              "      <td>1</td>\n",
              "      <td>0</td>\n",
              "      <td>0</td>\n",
              "      <td>0</td>\n",
              "      <td>1</td>\n",
              "      <td>0</td>\n",
              "      <td>0</td>\n",
              "      <td>0</td>\n",
              "      <td>85</td>\n",
              "      <td>83</td>\n",
              "      <td>1950</td>\n",
              "      <td>2007</td>\n",
              "      <td>1975.471429</td>\n",
              "      <td>44515</td>\n",
              "      <td>8443</td>\n",
              "      <td>5.56117</td>\n",
              "      <td>1626</td>\n",
              "      <td>590</td>\n",
              "      <td>586</td>\n",
              "      <td>2.7</td>\n",
              "      <td>35.6</td>\n",
              "      <td>3.1</td>\n",
              "      <td>515</td>\n",
              "    </tr>\n",
              "    <tr>\n",
              "      <th>30829</th>\n",
              "      <td>45.67</td>\n",
              "      <td>-73.52</td>\n",
              "      <td>1</td>\n",
              "      <td>2015</td>\n",
              "      <td>0</td>\n",
              "      <td>0</td>\n",
              "      <td>1</td>\n",
              "      <td>0</td>\n",
              "      <td>0</td>\n",
              "      <td>0</td>\n",
              "      <td>1</td>\n",
              "      <td>0</td>\n",
              "      <td>0</td>\n",
              "      <td>0</td>\n",
              "      <td>85</td>\n",
              "      <td>83</td>\n",
              "      <td>1950</td>\n",
              "      <td>2007</td>\n",
              "      <td>1975.471429</td>\n",
              "      <td>44515</td>\n",
              "      <td>8443</td>\n",
              "      <td>5.56117</td>\n",
              "      <td>1626</td>\n",
              "      <td>590</td>\n",
              "      <td>586</td>\n",
              "      <td>2.7</td>\n",
              "      <td>35.6</td>\n",
              "      <td>3.1</td>\n",
              "      <td>515</td>\n",
              "    </tr>\n",
              "    <tr>\n",
              "      <th>30830</th>\n",
              "      <td>45.67</td>\n",
              "      <td>-73.52</td>\n",
              "      <td>9</td>\n",
              "      <td>2016</td>\n",
              "      <td>0</td>\n",
              "      <td>0</td>\n",
              "      <td>1</td>\n",
              "      <td>0</td>\n",
              "      <td>0</td>\n",
              "      <td>1</td>\n",
              "      <td>0</td>\n",
              "      <td>0</td>\n",
              "      <td>0</td>\n",
              "      <td>0</td>\n",
              "      <td>85</td>\n",
              "      <td>83</td>\n",
              "      <td>1950</td>\n",
              "      <td>2007</td>\n",
              "      <td>1975.471429</td>\n",
              "      <td>44515</td>\n",
              "      <td>8443</td>\n",
              "      <td>5.56117</td>\n",
              "      <td>1626</td>\n",
              "      <td>590</td>\n",
              "      <td>586</td>\n",
              "      <td>2.7</td>\n",
              "      <td>35.6</td>\n",
              "      <td>3.1</td>\n",
              "      <td>515</td>\n",
              "    </tr>\n",
              "  </tbody>\n",
              "</table>\n",
              "</div>"
            ],
            "text/plain": [
              "       latitude  longitude  ...  averagesizeofcensusfamilies  workers\n",
              "30826     45.67     -73.52  ...                          3.1      515\n",
              "30827     45.67     -73.52  ...                          3.1      515\n",
              "30828     45.67     -73.52  ...                          3.1      515\n",
              "30829     45.67     -73.52  ...                          3.1      515\n",
              "30830     45.67     -73.52  ...                          3.1      515\n",
              "\n",
              "[5 rows x 29 columns]"
            ]
          },
          "metadata": {
            "tags": []
          },
          "execution_count": 2
        }
      ]
    },
    {
      "cell_type": "code",
      "metadata": {
        "id": "h4pz09PGUaDv"
      },
      "source": [
        "df=df.sort_values(by=['year', 'month','latitude','longitude'])"
      ],
      "execution_count": 3,
      "outputs": []
    },
    {
      "cell_type": "code",
      "metadata": {
        "id": "SmBmPxznXwOC",
        "outputId": "7e953e4c-6ec2-4f27-b48d-8a91c7631843",
        "colab": {
          "base_uri": "https://localhost:8080/"
        }
      },
      "source": [
        "df['INCENDIE_count'].value_counts()"
      ],
      "execution_count": 4,
      "outputs": [
        {
          "output_type": "execute_result",
          "data": {
            "text/plain": [
              "0    25197\n",
              "1     4700\n",
              "2      766\n",
              "3      132\n",
              "4       26\n",
              "5        7\n",
              "6        2\n",
              "7        1\n",
              "Name: INCENDIE_count, dtype: int64"
            ]
          },
          "metadata": {
            "tags": []
          },
          "execution_count": 4
        }
      ]
    },
    {
      "cell_type": "code",
      "metadata": {
        "id": "cZW52Z6SpUDG",
        "outputId": "4a989dfc-93b8-4fb5-9e5b-e78ba75055c2",
        "colab": {
          "base_uri": "https://localhost:8080/",
          "height": 320
        }
      },
      "source": [
        "df.describe()"
      ],
      "execution_count": 5,
      "outputs": [
        {
          "output_type": "execute_result",
          "data": {
            "text/html": [
              "<div>\n",
              "<style scoped>\n",
              "    .dataframe tbody tr th:only-of-type {\n",
              "        vertical-align: middle;\n",
              "    }\n",
              "\n",
              "    .dataframe tbody tr th {\n",
              "        vertical-align: top;\n",
              "    }\n",
              "\n",
              "    .dataframe thead th {\n",
              "        text-align: right;\n",
              "    }\n",
              "</style>\n",
              "<table border=\"1\" class=\"dataframe\">\n",
              "  <thead>\n",
              "    <tr style=\"text-align: right;\">\n",
              "      <th></th>\n",
              "      <th>latitude</th>\n",
              "      <th>longitude</th>\n",
              "      <th>month</th>\n",
              "      <th>year</th>\n",
              "      <th>INCENDIE_count</th>\n",
              "      <th>ALARMES_INCENDIES_count</th>\n",
              "      <th>total_crimes</th>\n",
              "      <th>vols_count</th>\n",
              "      <th>Mefait_count</th>\n",
              "      <th>Vol_de_vehicule_count</th>\n",
              "      <th>Introduction_count</th>\n",
              "      <th>Vol_moteur_count</th>\n",
              "      <th>Infractions_entrainant_count</th>\n",
              "      <th>caserne_count</th>\n",
              "      <th>sum_etage_hors_sol</th>\n",
              "      <th>sum_nombre_logement</th>\n",
              "      <th>min_annee_construction</th>\n",
              "      <th>max_annee_construction</th>\n",
              "      <th>avg_annee_construction</th>\n",
              "      <th>sum_superficie_terrain</th>\n",
              "      <th>sum_superficie_batiment</th>\n",
              "      <th>area</th>\n",
              "      <th>population</th>\n",
              "      <th>dwellings</th>\n",
              "      <th>households</th>\n",
              "      <th>averagehouseholdsize</th>\n",
              "      <th>averageage</th>\n",
              "      <th>averagesizeofcensusfamilies</th>\n",
              "      <th>workers</th>\n",
              "    </tr>\n",
              "  </thead>\n",
              "  <tbody>\n",
              "    <tr>\n",
              "      <th>count</th>\n",
              "      <td>30831.000000</td>\n",
              "      <td>30831.000000</td>\n",
              "      <td>30831.000000</td>\n",
              "      <td>30831.000000</td>\n",
              "      <td>30831.000000</td>\n",
              "      <td>30831.000000</td>\n",
              "      <td>30831.000000</td>\n",
              "      <td>30831.000000</td>\n",
              "      <td>30831.000000</td>\n",
              "      <td>30831.000000</td>\n",
              "      <td>30831.000000</td>\n",
              "      <td>30831.000000</td>\n",
              "      <td>30831.000000</td>\n",
              "      <td>30831.000000</td>\n",
              "      <td>30831.000000</td>\n",
              "      <td>30831.000000</td>\n",
              "      <td>30831.000000</td>\n",
              "      <td>30831.000000</td>\n",
              "      <td>30831.000000</td>\n",
              "      <td>3.083100e+04</td>\n",
              "      <td>3.083100e+04</td>\n",
              "      <td>30831.000000</td>\n",
              "      <td>30831.000000</td>\n",
              "      <td>30831.000000</td>\n",
              "      <td>30831.000000</td>\n",
              "      <td>30831.000000</td>\n",
              "      <td>30831.000000</td>\n",
              "      <td>30831.000000</td>\n",
              "      <td>30831.000000</td>\n",
              "    </tr>\n",
              "    <tr>\n",
              "      <th>mean</th>\n",
              "      <td>45.521970</td>\n",
              "      <td>-73.658733</td>\n",
              "      <td>6.381337</td>\n",
              "      <td>2017.410528</td>\n",
              "      <td>0.220103</td>\n",
              "      <td>2.420097</td>\n",
              "      <td>4.644806</td>\n",
              "      <td>0.257565</td>\n",
              "      <td>1.044922</td>\n",
              "      <td>0.658493</td>\n",
              "      <td>1.463722</td>\n",
              "      <td>1.216211</td>\n",
              "      <td>0.003892</td>\n",
              "      <td>0.136745</td>\n",
              "      <td>1539.794395</td>\n",
              "      <td>2040.343518</td>\n",
              "      <td>1901.375466</td>\n",
              "      <td>2015.383218</td>\n",
              "      <td>1969.911896</td>\n",
              "      <td>4.327656e+05</td>\n",
              "      <td>6.085602e+05</td>\n",
              "      <td>1.432269</td>\n",
              "      <td>717.436671</td>\n",
              "      <td>322.750997</td>\n",
              "      <td>300.405112</td>\n",
              "      <td>2.308420</td>\n",
              "      <td>40.432526</td>\n",
              "      <td>2.829380</td>\n",
              "      <td>176.204470</td>\n",
              "    </tr>\n",
              "    <tr>\n",
              "      <th>std</th>\n",
              "      <td>0.066063</td>\n",
              "      <td>0.108458</td>\n",
              "      <td>3.383709</td>\n",
              "      <td>1.673232</td>\n",
              "      <td>0.514795</td>\n",
              "      <td>3.281905</td>\n",
              "      <td>5.677108</td>\n",
              "      <td>0.696306</td>\n",
              "      <td>1.687976</td>\n",
              "      <td>1.053534</td>\n",
              "      <td>2.413869</td>\n",
              "      <td>2.156997</td>\n",
              "      <td>0.064317</td>\n",
              "      <td>0.343584</td>\n",
              "      <td>1131.674422</td>\n",
              "      <td>1830.101362</td>\n",
              "      <td>60.197334</td>\n",
              "      <td>6.233986</td>\n",
              "      <td>17.411541</td>\n",
              "      <td>1.577753e+05</td>\n",
              "      <td>2.144041e+06</td>\n",
              "      <td>3.111724</td>\n",
              "      <td>487.278783</td>\n",
              "      <td>256.492223</td>\n",
              "      <td>219.826818</td>\n",
              "      <td>0.628306</td>\n",
              "      <td>9.998705</td>\n",
              "      <td>0.594489</td>\n",
              "      <td>147.235356</td>\n",
              "    </tr>\n",
              "    <tr>\n",
              "      <th>min</th>\n",
              "      <td>45.400000</td>\n",
              "      <td>-73.960000</td>\n",
              "      <td>1.000000</td>\n",
              "      <td>2015.000000</td>\n",
              "      <td>0.000000</td>\n",
              "      <td>0.000000</td>\n",
              "      <td>0.000000</td>\n",
              "      <td>0.000000</td>\n",
              "      <td>0.000000</td>\n",
              "      <td>0.000000</td>\n",
              "      <td>0.000000</td>\n",
              "      <td>0.000000</td>\n",
              "      <td>0.000000</td>\n",
              "      <td>0.000000</td>\n",
              "      <td>0.000000</td>\n",
              "      <td>0.000000</td>\n",
              "      <td>1600.000000</td>\n",
              "      <td>1900.000000</td>\n",
              "      <td>1900.000000</td>\n",
              "      <td>1.243000e+03</td>\n",
              "      <td>1.090000e+02</td>\n",
              "      <td>0.019040</td>\n",
              "      <td>0.000000</td>\n",
              "      <td>0.000000</td>\n",
              "      <td>0.000000</td>\n",
              "      <td>0.000000</td>\n",
              "      <td>0.000000</td>\n",
              "      <td>0.000000</td>\n",
              "      <td>0.000000</td>\n",
              "    </tr>\n",
              "    <tr>\n",
              "      <th>25%</th>\n",
              "      <td>45.470000</td>\n",
              "      <td>-73.720000</td>\n",
              "      <td>3.000000</td>\n",
              "      <td>2016.000000</td>\n",
              "      <td>0.000000</td>\n",
              "      <td>1.000000</td>\n",
              "      <td>1.000000</td>\n",
              "      <td>0.000000</td>\n",
              "      <td>0.000000</td>\n",
              "      <td>0.000000</td>\n",
              "      <td>0.000000</td>\n",
              "      <td>0.000000</td>\n",
              "      <td>0.000000</td>\n",
              "      <td>0.000000</td>\n",
              "      <td>728.000000</td>\n",
              "      <td>671.000000</td>\n",
              "      <td>1880.000000</td>\n",
              "      <td>2014.000000</td>\n",
              "      <td>1959.731745</td>\n",
              "      <td>3.509970e+05</td>\n",
              "      <td>1.321060e+05</td>\n",
              "      <td>0.082370</td>\n",
              "      <td>495.000000</td>\n",
              "      <td>200.000000</td>\n",
              "      <td>191.000000</td>\n",
              "      <td>2.000000</td>\n",
              "      <td>37.800000</td>\n",
              "      <td>2.700000</td>\n",
              "      <td>105.000000</td>\n",
              "    </tr>\n",
              "    <tr>\n",
              "      <th>50%</th>\n",
              "      <td>45.510000</td>\n",
              "      <td>-73.630000</td>\n",
              "      <td>6.000000</td>\n",
              "      <td>2017.000000</td>\n",
              "      <td>0.000000</td>\n",
              "      <td>1.000000</td>\n",
              "      <td>3.000000</td>\n",
              "      <td>0.000000</td>\n",
              "      <td>0.000000</td>\n",
              "      <td>0.000000</td>\n",
              "      <td>1.000000</td>\n",
              "      <td>1.000000</td>\n",
              "      <td>0.000000</td>\n",
              "      <td>0.000000</td>\n",
              "      <td>1432.000000</td>\n",
              "      <td>1486.000000</td>\n",
              "      <td>1910.000000</td>\n",
              "      <td>2018.000000</td>\n",
              "      <td>1969.912360</td>\n",
              "      <td>4.537330e+05</td>\n",
              "      <td>2.389450e+05</td>\n",
              "      <td>0.185670</td>\n",
              "      <td>586.000000</td>\n",
              "      <td>263.000000</td>\n",
              "      <td>243.000000</td>\n",
              "      <td>2.300000</td>\n",
              "      <td>40.400000</td>\n",
              "      <td>2.900000</td>\n",
              "      <td>145.000000</td>\n",
              "    </tr>\n",
              "    <tr>\n",
              "      <th>75%</th>\n",
              "      <td>45.570000</td>\n",
              "      <td>-73.580000</td>\n",
              "      <td>9.000000</td>\n",
              "      <td>2019.000000</td>\n",
              "      <td>0.000000</td>\n",
              "      <td>3.000000</td>\n",
              "      <td>6.000000</td>\n",
              "      <td>0.000000</td>\n",
              "      <td>1.000000</td>\n",
              "      <td>1.000000</td>\n",
              "      <td>2.000000</td>\n",
              "      <td>2.000000</td>\n",
              "      <td>0.000000</td>\n",
              "      <td>0.000000</td>\n",
              "      <td>2167.000000</td>\n",
              "      <td>3107.000000</td>\n",
              "      <td>1950.000000</td>\n",
              "      <td>2019.000000</td>\n",
              "      <td>1981.980392</td>\n",
              "      <td>5.232220e+05</td>\n",
              "      <td>4.541680e+05</td>\n",
              "      <td>0.871770</td>\n",
              "      <td>785.000000</td>\n",
              "      <td>362.000000</td>\n",
              "      <td>341.000000</td>\n",
              "      <td>2.700000</td>\n",
              "      <td>43.200000</td>\n",
              "      <td>3.100000</td>\n",
              "      <td>205.000000</td>\n",
              "    </tr>\n",
              "    <tr>\n",
              "      <th>max</th>\n",
              "      <td>45.700000</td>\n",
              "      <td>-73.480000</td>\n",
              "      <td>12.000000</td>\n",
              "      <td>2020.000000</td>\n",
              "      <td>7.000000</td>\n",
              "      <td>45.000000</td>\n",
              "      <td>63.000000</td>\n",
              "      <td>12.000000</td>\n",
              "      <td>26.000000</td>\n",
              "      <td>39.000000</td>\n",
              "      <td>30.000000</td>\n",
              "      <td>35.000000</td>\n",
              "      <td>2.000000</td>\n",
              "      <td>1.000000</td>\n",
              "      <td>5764.000000</td>\n",
              "      <td>11100.000000</td>\n",
              "      <td>1996.000000</td>\n",
              "      <td>2020.000000</td>\n",
              "      <td>2012.215104</td>\n",
              "      <td>3.790377e+06</td>\n",
              "      <td>4.144732e+07</td>\n",
              "      <td>15.997840</td>\n",
              "      <td>4669.000000</td>\n",
              "      <td>2596.000000</td>\n",
              "      <td>2111.000000</td>\n",
              "      <td>3.700000</td>\n",
              "      <td>91.600000</td>\n",
              "      <td>3.900000</td>\n",
              "      <td>1270.000000</td>\n",
              "    </tr>\n",
              "  </tbody>\n",
              "</table>\n",
              "</div>"
            ],
            "text/plain": [
              "           latitude     longitude  ...  averagesizeofcensusfamilies       workers\n",
              "count  30831.000000  30831.000000  ...                 30831.000000  30831.000000\n",
              "mean      45.521970    -73.658733  ...                     2.829380    176.204470\n",
              "std        0.066063      0.108458  ...                     0.594489    147.235356\n",
              "min       45.400000    -73.960000  ...                     0.000000      0.000000\n",
              "25%       45.470000    -73.720000  ...                     2.700000    105.000000\n",
              "50%       45.510000    -73.630000  ...                     2.900000    145.000000\n",
              "75%       45.570000    -73.580000  ...                     3.100000    205.000000\n",
              "max       45.700000    -73.480000  ...                     3.900000   1270.000000\n",
              "\n",
              "[8 rows x 29 columns]"
            ]
          },
          "metadata": {
            "tags": []
          },
          "execution_count": 5
        }
      ]
    },
    {
      "cell_type": "code",
      "metadata": {
        "id": "5oZUDtx5eUeA"
      },
      "source": [
        "corr_matrix = df.corr()"
      ],
      "execution_count": 6,
      "outputs": []
    },
    {
      "cell_type": "code",
      "metadata": {
        "id": "J4L5lv-9eigq",
        "outputId": "98904c74-fea1-4fda-cdf4-6d6688cce945",
        "colab": {
          "base_uri": "https://localhost:8080/"
        }
      },
      "source": [
        "corr_matrix[\"INCENDIE_count\"].sort_values(ascending=False)"
      ],
      "execution_count": 7,
      "outputs": [
        {
          "output_type": "execute_result",
          "data": {
            "text/plain": [
              "INCENDIE_count                  1.000000\n",
              "sum_nombre_logement             0.345779\n",
              "sum_etage_hors_sol              0.296308\n",
              "total_crimes                    0.282805\n",
              "ALARMES_INCENDIES_count         0.277268\n",
              "Introduction_count              0.249569\n",
              "Mefait_count                    0.237519\n",
              "Vol_moteur_count                0.186271\n",
              "vols_count                      0.180177\n",
              "longitude                       0.140413\n",
              "caserne_count                   0.109855\n",
              "sum_superficie_batiment         0.083279\n",
              "max_annee_construction          0.077627\n",
              "Vol_de_vehicule_count           0.069761\n",
              "dwellings                       0.055430\n",
              "households                      0.035212\n",
              "sum_superficie_terrain          0.031230\n",
              "Infractions_entrainant_count    0.022128\n",
              "latitude                        0.019402\n",
              "year                            0.014955\n",
              "month                          -0.010032\n",
              "population                     -0.023563\n",
              "averageage                     -0.029906\n",
              "workers                        -0.039661\n",
              "averagesizeofcensusfamilies    -0.044341\n",
              "averagehouseholdsize           -0.109993\n",
              "area                           -0.117711\n",
              "min_annee_construction         -0.125862\n",
              "avg_annee_construction         -0.148518\n",
              "Name: INCENDIE_count, dtype: float64"
            ]
          },
          "metadata": {
            "tags": []
          },
          "execution_count": 7
        }
      ]
    },
    {
      "cell_type": "code",
      "metadata": {
        "id": "tHMxSRbPncAp",
        "outputId": "6b285708-0cc6-4308-d517-8191f1abe601",
        "colab": {
          "base_uri": "https://localhost:8080/",
          "height": 298
        }
      },
      "source": [
        "df.plot(kind=\"scatter\", x=\"sum_nombre_logement\", y=\"INCENDIE_count\",\n",
        "             alpha=0.1)\n"
      ],
      "execution_count": 8,
      "outputs": [
        {
          "output_type": "execute_result",
          "data": {
            "text/plain": [
              "<matplotlib.axes._subplots.AxesSubplot at 0x7f82df152ba8>"
            ]
          },
          "metadata": {
            "tags": []
          },
          "execution_count": 8
        },
        {
          "output_type": "display_data",
          "data": {
            "image/png": "[encoded data removed]",
            "text/plain": [
              "<Figure size 432x288 with 1 Axes>"
            ]
          },
          "metadata": {
            "tags": [],
            "needs_background": "light"
          }
        }
      ]
    },
    {
      "cell_type": "code",
      "metadata": {
        "id": "KHXaNIG7XNhh"
      },
      "source": [
        "train_set=df[df['year'] < 2019]\n",
        "test_set =df[df['year'] == 2019]"
      ],
      "execution_count": 9,
      "outputs": []
    },
    {
      "cell_type": "code",
      "metadata": {
        "id": "3PgUfC_hsPBi",
        "outputId": "57a2e8b7-4600-441a-f1b6-c68b99e95fd9",
        "colab": {
          "base_uri": "https://localhost:8080/"
        }
      },
      "source": [
        "#from sklearn.model_selection import train_test_split\n",
        "\n",
        "#train_set, test_set = train_test_split(df, test_size=0.2, random_state=42)\n",
        "\n",
        "len(train_set),len(test_set)"
      ],
      "execution_count": 10,
      "outputs": [
        {
          "output_type": "execute_result",
          "data": {
            "text/plain": [
              "(21306, 5252)"
            ]
          },
          "metadata": {
            "tags": []
          },
          "execution_count": 10
        }
      ]
    },
    {
      "cell_type": "code",
      "metadata": {
        "id": "VjfYnhv6sSa2"
      },
      "source": [
        "train_set_n = train_set.drop(\"INCENDIE_count\", axis=1)"
      ],
      "execution_count": 11,
      "outputs": []
    },
    {
      "cell_type": "code",
      "metadata": {
        "id": "4sbN_V-js0OA"
      },
      "source": [
        "train_labels = train_set[\"INCENDIE_count\"].copy()"
      ],
      "execution_count": 12,
      "outputs": []
    },
    {
      "cell_type": "code",
      "metadata": {
        "id": "4FkNEPiJtX_G",
        "outputId": "966c8960-5839-48a3-e095-a8f1567f3f7b",
        "colab": {
          "base_uri": "https://localhost:8080/",
          "height": 226
        }
      },
      "source": [
        "train_set_n.head()"
      ],
      "execution_count": 13,
      "outputs": [
        {
          "output_type": "execute_result",
          "data": {
            "text/html": [
              "<div>\n",
              "<style scoped>\n",
              "    .dataframe tbody tr th:only-of-type {\n",
              "        vertical-align: middle;\n",
              "    }\n",
              "\n",
              "    .dataframe tbody tr th {\n",
              "        vertical-align: top;\n",
              "    }\n",
              "\n",
              "    .dataframe thead th {\n",
              "        text-align: right;\n",
              "    }\n",
              "</style>\n",
              "<table border=\"1\" class=\"dataframe\">\n",
              "  <thead>\n",
              "    <tr style=\"text-align: right;\">\n",
              "      <th></th>\n",
              "      <th>latitude</th>\n",
              "      <th>longitude</th>\n",
              "      <th>month</th>\n",
              "      <th>year</th>\n",
              "      <th>ALARMES_INCENDIES_count</th>\n",
              "      <th>total_crimes</th>\n",
              "      <th>vols_count</th>\n",
              "      <th>Mefait_count</th>\n",
              "      <th>Vol_de_vehicule_count</th>\n",
              "      <th>Introduction_count</th>\n",
              "      <th>Vol_moteur_count</th>\n",
              "      <th>Infractions_entrainant_count</th>\n",
              "      <th>caserne_count</th>\n",
              "      <th>sum_etage_hors_sol</th>\n",
              "      <th>sum_nombre_logement</th>\n",
              "      <th>min_annee_construction</th>\n",
              "      <th>max_annee_construction</th>\n",
              "      <th>avg_annee_construction</th>\n",
              "      <th>sum_superficie_terrain</th>\n",
              "      <th>sum_superficie_batiment</th>\n",
              "      <th>area</th>\n",
              "      <th>population</th>\n",
              "      <th>dwellings</th>\n",
              "      <th>households</th>\n",
              "      <th>averagehouseholdsize</th>\n",
              "      <th>averageage</th>\n",
              "      <th>averagesizeofcensusfamilies</th>\n",
              "      <th>workers</th>\n",
              "    </tr>\n",
              "  </thead>\n",
              "  <tbody>\n",
              "    <tr>\n",
              "      <th>3181</th>\n",
              "      <td>45.41</td>\n",
              "      <td>-73.93</td>\n",
              "      <td>1</td>\n",
              "      <td>2015</td>\n",
              "      <td>0</td>\n",
              "      <td>1</td>\n",
              "      <td>0</td>\n",
              "      <td>0</td>\n",
              "      <td>0</td>\n",
              "      <td>1</td>\n",
              "      <td>0</td>\n",
              "      <td>0</td>\n",
              "      <td>0</td>\n",
              "      <td>385</td>\n",
              "      <td>268</td>\n",
              "      <td>1904</td>\n",
              "      <td>2019</td>\n",
              "      <td>1958.563433</td>\n",
              "      <td>427074</td>\n",
              "      <td>46210</td>\n",
              "      <td>3.05951</td>\n",
              "      <td>633</td>\n",
              "      <td>249</td>\n",
              "      <td>241</td>\n",
              "      <td>2.6</td>\n",
              "      <td>44.8</td>\n",
              "      <td>3.0</td>\n",
              "      <td>150</td>\n",
              "    </tr>\n",
              "    <tr>\n",
              "      <th>30561</th>\n",
              "      <td>45.42</td>\n",
              "      <td>-73.93</td>\n",
              "      <td>1</td>\n",
              "      <td>2015</td>\n",
              "      <td>1</td>\n",
              "      <td>0</td>\n",
              "      <td>0</td>\n",
              "      <td>0</td>\n",
              "      <td>0</td>\n",
              "      <td>0</td>\n",
              "      <td>0</td>\n",
              "      <td>0</td>\n",
              "      <td>0</td>\n",
              "      <td>116</td>\n",
              "      <td>51</td>\n",
              "      <td>1870</td>\n",
              "      <td>2019</td>\n",
              "      <td>2003.566667</td>\n",
              "      <td>424570</td>\n",
              "      <td>82010</td>\n",
              "      <td>3.05951</td>\n",
              "      <td>633</td>\n",
              "      <td>249</td>\n",
              "      <td>241</td>\n",
              "      <td>2.6</td>\n",
              "      <td>44.8</td>\n",
              "      <td>3.0</td>\n",
              "      <td>150</td>\n",
              "    </tr>\n",
              "    <tr>\n",
              "      <th>30280</th>\n",
              "      <td>45.42</td>\n",
              "      <td>-73.92</td>\n",
              "      <td>1</td>\n",
              "      <td>2015</td>\n",
              "      <td>2</td>\n",
              "      <td>2</td>\n",
              "      <td>0</td>\n",
              "      <td>0</td>\n",
              "      <td>0</td>\n",
              "      <td>2</td>\n",
              "      <td>0</td>\n",
              "      <td>0</td>\n",
              "      <td>0</td>\n",
              "      <td>150</td>\n",
              "      <td>190</td>\n",
              "      <td>1945</td>\n",
              "      <td>2017</td>\n",
              "      <td>1983.956204</td>\n",
              "      <td>470746</td>\n",
              "      <td>96326</td>\n",
              "      <td>3.05951</td>\n",
              "      <td>633</td>\n",
              "      <td>249</td>\n",
              "      <td>241</td>\n",
              "      <td>2.6</td>\n",
              "      <td>44.8</td>\n",
              "      <td>3.0</td>\n",
              "      <td>150</td>\n",
              "    </tr>\n",
              "    <tr>\n",
              "      <th>30069</th>\n",
              "      <td>45.42</td>\n",
              "      <td>-73.91</td>\n",
              "      <td>1</td>\n",
              "      <td>2015</td>\n",
              "      <td>2</td>\n",
              "      <td>0</td>\n",
              "      <td>0</td>\n",
              "      <td>0</td>\n",
              "      <td>0</td>\n",
              "      <td>0</td>\n",
              "      <td>0</td>\n",
              "      <td>0</td>\n",
              "      <td>1</td>\n",
              "      <td>352</td>\n",
              "      <td>204</td>\n",
              "      <td>1898</td>\n",
              "      <td>2019</td>\n",
              "      <td>1974.627907</td>\n",
              "      <td>631101</td>\n",
              "      <td>71370</td>\n",
              "      <td>0.32593</td>\n",
              "      <td>430</td>\n",
              "      <td>144</td>\n",
              "      <td>141</td>\n",
              "      <td>3.0</td>\n",
              "      <td>42.4</td>\n",
              "      <td>3.1</td>\n",
              "      <td>120</td>\n",
              "    </tr>\n",
              "    <tr>\n",
              "      <th>30165</th>\n",
              "      <td>45.42</td>\n",
              "      <td>-73.89</td>\n",
              "      <td>1</td>\n",
              "      <td>2015</td>\n",
              "      <td>1</td>\n",
              "      <td>0</td>\n",
              "      <td>0</td>\n",
              "      <td>0</td>\n",
              "      <td>0</td>\n",
              "      <td>0</td>\n",
              "      <td>0</td>\n",
              "      <td>0</td>\n",
              "      <td>0</td>\n",
              "      <td>835</td>\n",
              "      <td>592</td>\n",
              "      <td>1885</td>\n",
              "      <td>2019</td>\n",
              "      <td>1959.239057</td>\n",
              "      <td>645963</td>\n",
              "      <td>96281</td>\n",
              "      <td>0.26120</td>\n",
              "      <td>504</td>\n",
              "      <td>180</td>\n",
              "      <td>173</td>\n",
              "      <td>3.0</td>\n",
              "      <td>41.1</td>\n",
              "      <td>3.1</td>\n",
              "      <td>110</td>\n",
              "    </tr>\n",
              "  </tbody>\n",
              "</table>\n",
              "</div>"
            ],
            "text/plain": [
              "       latitude  longitude  ...  averagesizeofcensusfamilies  workers\n",
              "3181      45.41     -73.93  ...                          3.0      150\n",
              "30561     45.42     -73.93  ...                          3.0      150\n",
              "30280     45.42     -73.92  ...                          3.0      150\n",
              "30069     45.42     -73.91  ...                          3.1      120\n",
              "30165     45.42     -73.89  ...                          3.1      110\n",
              "\n",
              "[5 rows x 28 columns]"
            ]
          },
          "metadata": {
            "tags": []
          },
          "execution_count": 13
        }
      ]
    },
    {
      "cell_type": "code",
      "metadata": {
        "id": "iSo3kOA9uN6B",
        "outputId": "ad0b3392-8970-4daa-d2a1-4d4e2dd20e32",
        "colab": {
          "base_uri": "https://localhost:8080/"
        }
      },
      "source": [
        "from sklearn.linear_model import LinearRegression\n",
        "\n",
        "lin_reg = LinearRegression()\n",
        "lin_reg.fit(train_set_n, train_labels)"
      ],
      "execution_count": 14,
      "outputs": [
        {
          "output_type": "execute_result",
          "data": {
            "text/plain": [
              "LinearRegression(copy_X=True, fit_intercept=True, n_jobs=None, normalize=False)"
            ]
          },
          "metadata": {
            "tags": []
          },
          "execution_count": 14
        }
      ]
    },
    {
      "cell_type": "code",
      "metadata": {
        "id": "HFmjwgeqxTyz",
        "outputId": "cbeb43ad-ffc8-49a2-8cfa-f12e68e8f677",
        "colab": {
          "base_uri": "https://localhost:8080/"
        }
      },
      "source": [
        "lin_reg.coef_"
      ],
      "execution_count": 15,
      "outputs": [
        {
          "output_type": "execute_result",
          "data": {
            "text/plain": [
              "array([ 1.16058569e-01, -1.03117933e-01, -5.73247414e-04,  1.58180439e-03,\n",
              "        1.19590132e-02,  1.59923359e-02, -2.87872515e-03, -5.53653859e-03,\n",
              "       -2.19643187e-02, -7.73078440e-03, -1.73770136e-02,  7.14797164e-02,\n",
              "        1.70985458e-02, -1.56399831e-05,  7.56604216e-05,  7.75435758e-05,\n",
              "        5.08483458e-04, -6.95243029e-04, -4.34113860e-08,  3.51279321e-10,\n",
              "        6.88915922e-04,  9.94571226e-05,  1.32504591e-04, -2.55399544e-04,\n",
              "       -4.25421970e-02, -2.43810026e-03,  5.18964321e-02, -1.95868793e-04])"
            ]
          },
          "metadata": {
            "tags": []
          },
          "execution_count": 15
        }
      ]
    },
    {
      "cell_type": "code",
      "metadata": {
        "id": "I27LC6U7xllU",
        "outputId": "77462c0f-fe97-41eb-a6f5-8abddb939924",
        "colab": {
          "base_uri": "https://localhost:8080/"
        }
      },
      "source": [
        "print(lin_reg.score(train_set_n,train_labels))"
      ],
      "execution_count": 16,
      "outputs": [
        {
          "output_type": "stream",
          "text": [
            "0.13162503990986985\n"
          ],
          "name": "stdout"
        }
      ]
    },
    {
      "cell_type": "code",
      "metadata": {
        "id": "srGbLKMTxs_w",
        "outputId": "4eae2ed0-6438-4824-a2eb-7659c3d436c8",
        "colab": {
          "base_uri": "https://localhost:8080/"
        }
      },
      "source": [
        "test_set_n = test_set.drop(\"INCENDIE_count\", axis=1)\n",
        "test_labels= test_set[\"INCENDIE_count\"].copy()\n",
        "print(lin_reg.score(test_set_n,test_labels))"
      ],
      "execution_count": 17,
      "outputs": [
        {
          "output_type": "stream",
          "text": [
            "0.13883589279289754\n"
          ],
          "name": "stdout"
        }
      ]
    },
    {
      "cell_type": "code",
      "metadata": {
        "id": "U08h8hDnZD9f",
        "outputId": "63b5495b-21ba-415e-ee5c-4214df446753",
        "colab": {
          "base_uri": "https://localhost:8080/"
        }
      },
      "source": [
        "from sklearn.tree import DecisionTreeRegressor\n",
        "\n",
        "tree_reg = DecisionTreeRegressor(random_state=42)\n",
        "tree_reg.fit(train_set_n, train_labels)"
      ],
      "execution_count": 18,
      "outputs": [
        {
          "output_type": "execute_result",
          "data": {
            "text/plain": [
              "DecisionTreeRegressor(ccp_alpha=0.0, criterion='mse', max_depth=None,\n",
              "                      max_features=None, max_leaf_nodes=None,\n",
              "                      min_impurity_decrease=0.0, min_impurity_split=None,\n",
              "                      min_samples_leaf=1, min_samples_split=2,\n",
              "                      min_weight_fraction_leaf=0.0, presort='deprecated',\n",
              "                      random_state=42, splitter='best')"
            ]
          },
          "metadata": {
            "tags": []
          },
          "execution_count": 18
        }
      ]
    },
    {
      "cell_type": "code",
      "metadata": {
        "id": "pPaowI3aZK6a",
        "outputId": "4fc73194-44d3-4cb4-ba51-a4fbec0451ca",
        "colab": {
          "base_uri": "https://localhost:8080/"
        }
      },
      "source": [
        "from sklearn.metrics import mean_squared_error\n",
        "import numpy as np\n",
        "\n",
        "train_predictions = tree_reg.predict(train_set_n)\n",
        "tree_mse = mean_squared_error(train_labels, train_predictions)\n",
        "tree_rmse = np.sqrt(tree_mse)\n",
        "tree_rmse"
      ],
      "execution_count": 19,
      "outputs": [
        {
          "output_type": "execute_result",
          "data": {
            "text/plain": [
              "0.0"
            ]
          },
          "metadata": {
            "tags": []
          },
          "execution_count": 19
        }
      ]
    },
    {
      "cell_type": "code",
      "metadata": {
        "id": "U8QdZB2lZuOc",
        "outputId": "f3db9071-a49d-4aea-9d7d-7b836265d39a",
        "colab": {
          "base_uri": "https://localhost:8080/"
        }
      },
      "source": [
        "from sklearn.ensemble import RandomForestRegressor\n",
        "\n",
        "forest_reg = RandomForestRegressor(n_estimators=100, random_state=42)\n",
        "forest_reg.fit(train_set_n, train_labels)"
      ],
      "execution_count": 20,
      "outputs": [
        {
          "output_type": "execute_result",
          "data": {
            "text/plain": [
              "RandomForestRegressor(bootstrap=True, ccp_alpha=0.0, criterion='mse',\n",
              "                      max_depth=None, max_features='auto', max_leaf_nodes=None,\n",
              "                      max_samples=None, min_impurity_decrease=0.0,\n",
              "                      min_impurity_split=None, min_samples_leaf=1,\n",
              "                      min_samples_split=2, min_weight_fraction_leaf=0.0,\n",
              "                      n_estimators=100, n_jobs=None, oob_score=False,\n",
              "                      random_state=42, verbose=0, warm_start=False)"
            ]
          },
          "metadata": {
            "tags": []
          },
          "execution_count": 20
        }
      ]
    },
    {
      "cell_type": "code",
      "metadata": {
        "id": "DJyjTgkpZ8U5",
        "outputId": "2f526366-ff96-4c12-cc99-59b795d2eddc",
        "colab": {
          "base_uri": "https://localhost:8080/"
        }
      },
      "source": [
        "print(forest_reg.score(test_set_n,test_labels))"
      ],
      "execution_count": 21,
      "outputs": [
        {
          "output_type": "stream",
          "text": [
            "0.07880468777546246\n"
          ],
          "name": "stdout"
        }
      ]
    },
    {
      "cell_type": "code",
      "metadata": {
        "id": "6nbqElXCaBEI"
      },
      "source": [
        "from sklearn.svm import SVR\n",
        "\n",
        "svm_reg = SVR(kernel=\"linear\")\n",
        "svm_reg.fit(train_set_n, train_labels)\n",
        "train_predictions = svm_reg.predict(train_set_n)\n",
        "svm_mse = mean_squared_error(train_labels, train_predictions)\n",
        "svm_rmse = np.sqrt(svm_mse)\n",
        "svm_rmse"
      ],
      "execution_count": null,
      "outputs": []
    }
  ]
}