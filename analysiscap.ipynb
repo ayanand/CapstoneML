{
  "nbformat": 4,
  "nbformat_minor": 0,
  "metadata": {
    "colab": {
      "name": "analysiscap.ipynb",
      "provenance": [],
      "collapsed_sections": [],
      "include_colab_link": true
    },
    "kernelspec": {
      "display_name": "Python 3",
      "name": "python3"
    },
    "accelerator": "GPU"
  },
  "cells": [
    {
      "cell_type": "markdown",
      "metadata": {
        "id": "view-in-github",
        "colab_type": "text"
      },
      "source": [
        "<a href=\"https://colab.research.google.com/github/ayanand/CapstoneML/blob/main/analysiscap.ipynb\" target=\"_parent\"><img src=\"https://colab.research.google.com/assets/colab-badge.svg\" alt=\"Open In Colab\"/></a>"
      ]
    },
    {
      "cell_type": "markdown",
      "metadata": {
        "id": "HQI44picvWYs"
      },
      "source": [
        "<table align=\"left\">\n",
        "  <td>\n",
        "    <a target=\"_blank\" href=\"https://colab.research.google.com/github/ayanand/CapstoneML/blob/main/analysiscap.ipynb\"><img src=\"https://www.tensorflow.org/images/colab_logo_32px.png\" />Run in Google Colab</a>\n",
        "  </td>\n",
        "</table>"
      ]
    },
    {
      "cell_type": "code",
      "metadata": {
        "id": "_WCXOdd8KFCm",
        "outputId": "d760697e-a157-4a89-a5fe-212ef7bf1a29",
        "colab": {
          "base_uri": "https://localhost:8080/"
        }
      },
      "source": [
        "import pandas as pd\n",
        "!pip install fsspec\n",
        "!pip install gcsfs \n",
        " \n",
        " \n"
      ],
      "execution_count": null,
      "outputs": [
        {
          "output_type": "stream",
          "text": [
            "Requirement already satisfied: fsspec in /usr/local/lib/python3.6/dist-packages (0.8.4)\n",
            "Requirement already satisfied: gcsfs in /usr/local/lib/python3.6/dist-packages (0.7.1)\n",
            "Requirement already satisfied: aiohttp in /usr/local/lib/python3.6/dist-packages (from gcsfs) (3.7.2)\n",
            "Requirement already satisfied: google-auth>=1.2 in /usr/local/lib/python3.6/dist-packages (from gcsfs) (1.17.2)\n",
            "Requirement already satisfied: google-auth-oauthlib in /usr/local/lib/python3.6/dist-packages (from gcsfs) (0.4.2)\n",
            "Requirement already satisfied: fsspec>=0.8.0 in /usr/local/lib/python3.6/dist-packages (from gcsfs) (0.8.4)\n",
            "Requirement already satisfied: decorator in /usr/local/lib/python3.6/dist-packages (from gcsfs) (4.4.2)\n",
            "Requirement already satisfied: requests in /usr/local/lib/python3.6/dist-packages (from gcsfs) (2.23.0)\n",
            "Requirement already satisfied: multidict<7.0,>=4.5 in /usr/local/lib/python3.6/dist-packages (from aiohttp->gcsfs) (5.0.0)\n",
            "Requirement already satisfied: async-timeout<4.0,>=3.0 in /usr/local/lib/python3.6/dist-packages (from aiohttp->gcsfs) (3.0.1)\n",
            "Requirement already satisfied: attrs>=17.3.0 in /usr/local/lib/python3.6/dist-packages (from aiohttp->gcsfs) (20.2.0)\n",
            "Requirement already satisfied: chardet<4.0,>=2.0 in /usr/local/lib/python3.6/dist-packages (from aiohttp->gcsfs) (3.0.4)\n",
            "Requirement already satisfied: idna-ssl>=1.0; python_version < \"3.7\" in /usr/local/lib/python3.6/dist-packages (from aiohttp->gcsfs) (1.1.0)\n",
            "Requirement already satisfied: typing-extensions>=3.6.5 in /usr/local/lib/python3.6/dist-packages (from aiohttp->gcsfs) (3.7.4.3)\n",
            "Requirement already satisfied: yarl<2.0,>=1.0 in /usr/local/lib/python3.6/dist-packages (from aiohttp->gcsfs) (1.6.2)\n",
            "Requirement already satisfied: rsa<5,>=3.1.4; python_version >= \"3\" in /usr/local/lib/python3.6/dist-packages (from google-auth>=1.2->gcsfs) (4.6)\n",
            "Requirement already satisfied: six>=1.9.0 in /usr/local/lib/python3.6/dist-packages (from google-auth>=1.2->gcsfs) (1.15.0)\n",
            "Requirement already satisfied: setuptools>=40.3.0 in /usr/local/lib/python3.6/dist-packages (from google-auth>=1.2->gcsfs) (50.3.2)\n",
            "Requirement already satisfied: cachetools<5.0,>=2.0.0 in /usr/local/lib/python3.6/dist-packages (from google-auth>=1.2->gcsfs) (4.1.1)\n",
            "Requirement already satisfied: pyasn1-modules>=0.2.1 in /usr/local/lib/python3.6/dist-packages (from google-auth>=1.2->gcsfs) (0.2.8)\n",
            "Requirement already satisfied: requests-oauthlib>=0.7.0 in /usr/local/lib/python3.6/dist-packages (from google-auth-oauthlib->gcsfs) (1.3.0)\n",
            "Requirement already satisfied: idna<3,>=2.5 in /usr/local/lib/python3.6/dist-packages (from requests->gcsfs) (2.10)\n",
            "Requirement already satisfied: urllib3!=1.25.0,!=1.25.1,<1.26,>=1.21.1 in /usr/local/lib/python3.6/dist-packages (from requests->gcsfs) (1.24.3)\n",
            "Requirement already satisfied: certifi>=2017.4.17 in /usr/local/lib/python3.6/dist-packages (from requests->gcsfs) (2020.6.20)\n",
            "Requirement already satisfied: pyasn1>=0.1.3 in /usr/local/lib/python3.6/dist-packages (from rsa<5,>=3.1.4; python_version >= \"3\"->google-auth>=1.2->gcsfs) (0.4.8)\n",
            "Requirement already satisfied: oauthlib>=3.0.0 in /usr/local/lib/python3.6/dist-packages (from requests-oauthlib>=0.7.0->google-auth-oauthlib->gcsfs) (3.1.0)\n"
          ],
          "name": "stdout"
        }
      ]
    },
    {
      "cell_type": "code",
      "metadata": {
        "id": "ceLpAYLusrqu"
      },
      "source": [
        "df = pd.read_csv('gs://capstoragebucket2020/All_joined_v3.csv')"
      ],
      "execution_count": null,
      "outputs": []
    },
    {
      "cell_type": "code",
      "metadata": {
        "id": "92U39KKyPT7O",
        "outputId": "504a9e2b-2c9e-4381-9660-202e9abbbd0f",
        "colab": {
          "base_uri": "https://localhost:8080/",
          "height": 226
        }
      },
      "source": [
        "df.tail()"
      ],
      "execution_count": null,
      "outputs": [
        {
          "output_type": "execute_result",
          "data": {
            "text/html": [
              "<div>\n",
              "<style scoped>\n",
              "    .dataframe tbody tr th:only-of-type {\n",
              "        vertical-align: middle;\n",
              "    }\n",
              "\n",
              "    .dataframe tbody tr th {\n",
              "        vertical-align: top;\n",
              "    }\n",
              "\n",
              "    .dataframe thead th {\n",
              "        text-align: right;\n",
              "    }\n",
              "</style>\n",
              "<table border=\"1\" class=\"dataframe\">\n",
              "  <thead>\n",
              "    <tr style=\"text-align: right;\">\n",
              "      <th></th>\n",
              "      <th>latitude</th>\n",
              "      <th>longitude</th>\n",
              "      <th>month</th>\n",
              "      <th>year</th>\n",
              "      <th>INCENDIE_count</th>\n",
              "      <th>ALARMES_INCENDIES_count</th>\n",
              "      <th>total_crimes</th>\n",
              "      <th>vols_count</th>\n",
              "      <th>Mefait_count</th>\n",
              "      <th>Vol_de_vehicule_count</th>\n",
              "      <th>Introduction_count</th>\n",
              "      <th>Vol_moteur_count</th>\n",
              "      <th>Infractions_entrainant_count</th>\n",
              "      <th>caserne_count</th>\n",
              "      <th>sum_etage_hors_sol</th>\n",
              "      <th>sum_nombre_logement</th>\n",
              "      <th>min_annee_construction</th>\n",
              "      <th>max_annee_construction</th>\n",
              "      <th>avg_annee_construction</th>\n",
              "      <th>sum_superficie_terrain</th>\n",
              "      <th>sum_superficie_batiment</th>\n",
              "      <th>area</th>\n",
              "      <th>population</th>\n",
              "      <th>dwellings</th>\n",
              "      <th>households</th>\n",
              "      <th>averagehouseholdsize</th>\n",
              "      <th>averageage</th>\n",
              "      <th>averagesizeofcensusfamilies</th>\n",
              "      <th>workers</th>\n",
              "    </tr>\n",
              "  </thead>\n",
              "  <tbody>\n",
              "    <tr>\n",
              "      <th>30826</th>\n",
              "      <td>45.67</td>\n",
              "      <td>-73.52</td>\n",
              "      <td>4</td>\n",
              "      <td>2015</td>\n",
              "      <td>0</td>\n",
              "      <td>0</td>\n",
              "      <td>1</td>\n",
              "      <td>0</td>\n",
              "      <td>0</td>\n",
              "      <td>0</td>\n",
              "      <td>1</td>\n",
              "      <td>0</td>\n",
              "      <td>0</td>\n",
              "      <td>0</td>\n",
              "      <td>85</td>\n",
              "      <td>83</td>\n",
              "      <td>1950</td>\n",
              "      <td>2007</td>\n",
              "      <td>1975.471429</td>\n",
              "      <td>44515</td>\n",
              "      <td>8443</td>\n",
              "      <td>5.56117</td>\n",
              "      <td>1626</td>\n",
              "      <td>590</td>\n",
              "      <td>586</td>\n",
              "      <td>2.7</td>\n",
              "      <td>35.6</td>\n",
              "      <td>3.1</td>\n",
              "      <td>515</td>\n",
              "    </tr>\n",
              "    <tr>\n",
              "      <th>30827</th>\n",
              "      <td>45.67</td>\n",
              "      <td>-73.52</td>\n",
              "      <td>5</td>\n",
              "      <td>2017</td>\n",
              "      <td>0</td>\n",
              "      <td>1</td>\n",
              "      <td>0</td>\n",
              "      <td>0</td>\n",
              "      <td>0</td>\n",
              "      <td>0</td>\n",
              "      <td>0</td>\n",
              "      <td>0</td>\n",
              "      <td>0</td>\n",
              "      <td>0</td>\n",
              "      <td>85</td>\n",
              "      <td>83</td>\n",
              "      <td>1950</td>\n",
              "      <td>2007</td>\n",
              "      <td>1975.471429</td>\n",
              "      <td>44515</td>\n",
              "      <td>8443</td>\n",
              "      <td>5.56117</td>\n",
              "      <td>1626</td>\n",
              "      <td>590</td>\n",
              "      <td>586</td>\n",
              "      <td>2.7</td>\n",
              "      <td>35.6</td>\n",
              "      <td>3.1</td>\n",
              "      <td>515</td>\n",
              "    </tr>\n",
              "    <tr>\n",
              "      <th>30828</th>\n",
              "      <td>45.67</td>\n",
              "      <td>-73.52</td>\n",
              "      <td>10</td>\n",
              "      <td>2017</td>\n",
              "      <td>0</td>\n",
              "      <td>0</td>\n",
              "      <td>1</td>\n",
              "      <td>0</td>\n",
              "      <td>0</td>\n",
              "      <td>0</td>\n",
              "      <td>1</td>\n",
              "      <td>0</td>\n",
              "      <td>0</td>\n",
              "      <td>0</td>\n",
              "      <td>85</td>\n",
              "      <td>83</td>\n",
              "      <td>1950</td>\n",
              "      <td>2007</td>\n",
              "      <td>1975.471429</td>\n",
              "      <td>44515</td>\n",
              "      <td>8443</td>\n",
              "      <td>5.56117</td>\n",
              "      <td>1626</td>\n",
              "      <td>590</td>\n",
              "      <td>586</td>\n",
              "      <td>2.7</td>\n",
              "      <td>35.6</td>\n",
              "      <td>3.1</td>\n",
              "      <td>515</td>\n",
              "    </tr>\n",
              "    <tr>\n",
              "      <th>30829</th>\n",
              "      <td>45.67</td>\n",
              "      <td>-73.52</td>\n",
              "      <td>1</td>\n",
              "      <td>2015</td>\n",
              "      <td>0</td>\n",
              "      <td>0</td>\n",
              "      <td>1</td>\n",
              "      <td>0</td>\n",
              "      <td>0</td>\n",
              "      <td>0</td>\n",
              "      <td>1</td>\n",
              "      <td>0</td>\n",
              "      <td>0</td>\n",
              "      <td>0</td>\n",
              "      <td>85</td>\n",
              "      <td>83</td>\n",
              "      <td>1950</td>\n",
              "      <td>2007</td>\n",
              "      <td>1975.471429</td>\n",
              "      <td>44515</td>\n",
              "      <td>8443</td>\n",
              "      <td>5.56117</td>\n",
              "      <td>1626</td>\n",
              "      <td>590</td>\n",
              "      <td>586</td>\n",
              "      <td>2.7</td>\n",
              "      <td>35.6</td>\n",
              "      <td>3.1</td>\n",
              "      <td>515</td>\n",
              "    </tr>\n",
              "    <tr>\n",
              "      <th>30830</th>\n",
              "      <td>45.67</td>\n",
              "      <td>-73.52</td>\n",
              "      <td>9</td>\n",
              "      <td>2016</td>\n",
              "      <td>0</td>\n",
              "      <td>0</td>\n",
              "      <td>1</td>\n",
              "      <td>0</td>\n",
              "      <td>0</td>\n",
              "      <td>1</td>\n",
              "      <td>0</td>\n",
              "      <td>0</td>\n",
              "      <td>0</td>\n",
              "      <td>0</td>\n",
              "      <td>85</td>\n",
              "      <td>83</td>\n",
              "      <td>1950</td>\n",
              "      <td>2007</td>\n",
              "      <td>1975.471429</td>\n",
              "      <td>44515</td>\n",
              "      <td>8443</td>\n",
              "      <td>5.56117</td>\n",
              "      <td>1626</td>\n",
              "      <td>590</td>\n",
              "      <td>586</td>\n",
              "      <td>2.7</td>\n",
              "      <td>35.6</td>\n",
              "      <td>3.1</td>\n",
              "      <td>515</td>\n",
              "    </tr>\n",
              "  </tbody>\n",
              "</table>\n",
              "</div>"
            ],
            "text/plain": [
              "       latitude  longitude  ...  averagesizeofcensusfamilies  workers\n",
              "30826     45.67     -73.52  ...                          3.1      515\n",
              "30827     45.67     -73.52  ...                          3.1      515\n",
              "30828     45.67     -73.52  ...                          3.1      515\n",
              "30829     45.67     -73.52  ...                          3.1      515\n",
              "30830     45.67     -73.52  ...                          3.1      515\n",
              "\n",
              "[5 rows x 29 columns]"
            ]
          },
          "metadata": {
            "tags": []
          },
          "execution_count": 84
        }
      ]
    },
    {
      "cell_type": "code",
      "metadata": {
        "id": "h4pz09PGUaDv"
      },
      "source": [
        "df=df.sort_values(by=['year', 'month','latitude','longitude'])"
      ],
      "execution_count": null,
      "outputs": []
    },
    {
      "cell_type": "code",
      "metadata": {
        "id": "SmBmPxznXwOC",
        "outputId": "cc83dfd3-206a-443d-d4cd-df4f9f091993",
        "colab": {
          "base_uri": "https://localhost:8080/"
        }
      },
      "source": [
        "df['INCENDIE_count'].value_counts()"
      ],
      "execution_count": null,
      "outputs": [
        {
          "output_type": "execute_result",
          "data": {
            "text/plain": [
              "0    25197\n",
              "1     4700\n",
              "2      766\n",
              "3      132\n",
              "4       26\n",
              "5        7\n",
              "6        2\n",
              "7        1\n",
              "Name: INCENDIE_count, dtype: int64"
            ]
          },
          "metadata": {
            "tags": []
          },
          "execution_count": 120
        }
      ]
    },
    {
      "cell_type": "code",
      "metadata": {
        "id": "cZW52Z6SpUDG",
        "outputId": "a7f0d82f-0a01-4724-d648-cb0cf1379b50",
        "colab": {
          "base_uri": "https://localhost:8080/",
          "height": 320
        }
      },
      "source": [
        "df_new.describe()"
      ],
      "execution_count": null,
      "outputs": [
        {
          "output_type": "execute_result",
          "data": {
            "text/html": [
              "<div>\n",
              "<style scoped>\n",
              "    .dataframe tbody tr th:only-of-type {\n",
              "        vertical-align: middle;\n",
              "    }\n",
              "\n",
              "    .dataframe tbody tr th {\n",
              "        vertical-align: top;\n",
              "    }\n",
              "\n",
              "    .dataframe thead th {\n",
              "        text-align: right;\n",
              "    }\n",
              "</style>\n",
              "<table border=\"1\" class=\"dataframe\">\n",
              "  <thead>\n",
              "    <tr style=\"text-align: right;\">\n",
              "      <th></th>\n",
              "      <th>month</th>\n",
              "      <th>year</th>\n",
              "      <th>INCENDIE_count</th>\n",
              "      <th>ALARMES_INCENDIES_count</th>\n",
              "      <th>total_crimes</th>\n",
              "      <th>vols_count</th>\n",
              "      <th>Mefait_count</th>\n",
              "      <th>Vol_de_vehicule_count</th>\n",
              "      <th>Introduction_count</th>\n",
              "      <th>Vol_moteur_count</th>\n",
              "      <th>Infractions_entrainant_count</th>\n",
              "      <th>caserne_count</th>\n",
              "      <th>sum_etage_hors_sol</th>\n",
              "      <th>sum_nombre_logement</th>\n",
              "      <th>avg_annee_construction</th>\n",
              "      <th>sum_superficie_terrain</th>\n",
              "      <th>sum_superficie_batiment</th>\n",
              "      <th>area</th>\n",
              "      <th>population</th>\n",
              "      <th>dwellings</th>\n",
              "      <th>households</th>\n",
              "      <th>averagehouseholdsize</th>\n",
              "      <th>averageage</th>\n",
              "      <th>averagesizeofcensusfamilies</th>\n",
              "      <th>workers</th>\n",
              "      <th>distance</th>\n",
              "    </tr>\n",
              "  </thead>\n",
              "  <tbody>\n",
              "    <tr>\n",
              "      <th>count</th>\n",
              "      <td>30831.000000</td>\n",
              "      <td>30831.000000</td>\n",
              "      <td>30831.000000</td>\n",
              "      <td>30831.000000</td>\n",
              "      <td>30831.000000</td>\n",
              "      <td>30831.000000</td>\n",
              "      <td>30831.000000</td>\n",
              "      <td>30831.000000</td>\n",
              "      <td>30831.000000</td>\n",
              "      <td>30831.000000</td>\n",
              "      <td>30831.000000</td>\n",
              "      <td>30831.000000</td>\n",
              "      <td>30831.000000</td>\n",
              "      <td>30831.000000</td>\n",
              "      <td>30831.000000</td>\n",
              "      <td>3.083100e+04</td>\n",
              "      <td>3.083100e+04</td>\n",
              "      <td>30831.000000</td>\n",
              "      <td>30831.000000</td>\n",
              "      <td>30831.000000</td>\n",
              "      <td>30831.000000</td>\n",
              "      <td>30831.000000</td>\n",
              "      <td>30831.000000</td>\n",
              "      <td>30831.000000</td>\n",
              "      <td>30831.000000</td>\n",
              "      <td>30831.000000</td>\n",
              "    </tr>\n",
              "    <tr>\n",
              "      <th>mean</th>\n",
              "      <td>6.381337</td>\n",
              "      <td>3.589472</td>\n",
              "      <td>0.220103</td>\n",
              "      <td>2.420097</td>\n",
              "      <td>4.644806</td>\n",
              "      <td>0.257565</td>\n",
              "      <td>1.044922</td>\n",
              "      <td>0.658493</td>\n",
              "      <td>1.463722</td>\n",
              "      <td>1.216211</td>\n",
              "      <td>0.003892</td>\n",
              "      <td>0.136745</td>\n",
              "      <td>1539.794395</td>\n",
              "      <td>2040.343518</td>\n",
              "      <td>1969.911896</td>\n",
              "      <td>4.327656e+05</td>\n",
              "      <td>6.085602e+05</td>\n",
              "      <td>1.432269</td>\n",
              "      <td>717.436671</td>\n",
              "      <td>322.750997</td>\n",
              "      <td>300.405112</td>\n",
              "      <td>2.308420</td>\n",
              "      <td>40.432526</td>\n",
              "      <td>2.829380</td>\n",
              "      <td>176.204470</td>\n",
              "      <td>24.675067</td>\n",
              "    </tr>\n",
              "    <tr>\n",
              "      <th>std</th>\n",
              "      <td>3.383709</td>\n",
              "      <td>1.673232</td>\n",
              "      <td>0.514795</td>\n",
              "      <td>3.281905</td>\n",
              "      <td>5.677108</td>\n",
              "      <td>0.696306</td>\n",
              "      <td>1.687976</td>\n",
              "      <td>1.053534</td>\n",
              "      <td>2.413869</td>\n",
              "      <td>2.156997</td>\n",
              "      <td>0.064317</td>\n",
              "      <td>0.343584</td>\n",
              "      <td>1131.674422</td>\n",
              "      <td>1830.101362</td>\n",
              "      <td>17.411541</td>\n",
              "      <td>1.577753e+05</td>\n",
              "      <td>2.144041e+06</td>\n",
              "      <td>3.111724</td>\n",
              "      <td>487.278783</td>\n",
              "      <td>256.492223</td>\n",
              "      <td>219.826818</td>\n",
              "      <td>0.628306</td>\n",
              "      <td>9.998705</td>\n",
              "      <td>0.594489</td>\n",
              "      <td>147.235356</td>\n",
              "      <td>10.024351</td>\n",
              "    </tr>\n",
              "    <tr>\n",
              "      <th>min</th>\n",
              "      <td>1.000000</td>\n",
              "      <td>1.000000</td>\n",
              "      <td>0.000000</td>\n",
              "      <td>0.000000</td>\n",
              "      <td>0.000000</td>\n",
              "      <td>0.000000</td>\n",
              "      <td>0.000000</td>\n",
              "      <td>0.000000</td>\n",
              "      <td>0.000000</td>\n",
              "      <td>0.000000</td>\n",
              "      <td>0.000000</td>\n",
              "      <td>0.000000</td>\n",
              "      <td>0.000000</td>\n",
              "      <td>0.000000</td>\n",
              "      <td>1900.000000</td>\n",
              "      <td>1.243000e+03</td>\n",
              "      <td>1.090000e+02</td>\n",
              "      <td>0.019040</td>\n",
              "      <td>0.000000</td>\n",
              "      <td>0.000000</td>\n",
              "      <td>0.000000</td>\n",
              "      <td>0.000000</td>\n",
              "      <td>0.000000</td>\n",
              "      <td>0.000000</td>\n",
              "      <td>0.000000</td>\n",
              "      <td>0.000000</td>\n",
              "    </tr>\n",
              "    <tr>\n",
              "      <th>25%</th>\n",
              "      <td>3.000000</td>\n",
              "      <td>2.000000</td>\n",
              "      <td>0.000000</td>\n",
              "      <td>1.000000</td>\n",
              "      <td>1.000000</td>\n",
              "      <td>0.000000</td>\n",
              "      <td>0.000000</td>\n",
              "      <td>0.000000</td>\n",
              "      <td>0.000000</td>\n",
              "      <td>0.000000</td>\n",
              "      <td>0.000000</td>\n",
              "      <td>0.000000</td>\n",
              "      <td>728.000000</td>\n",
              "      <td>671.000000</td>\n",
              "      <td>1959.731745</td>\n",
              "      <td>3.509970e+05</td>\n",
              "      <td>1.321060e+05</td>\n",
              "      <td>0.082370</td>\n",
              "      <td>495.000000</td>\n",
              "      <td>200.000000</td>\n",
              "      <td>191.000000</td>\n",
              "      <td>2.000000</td>\n",
              "      <td>37.800000</td>\n",
              "      <td>2.700000</td>\n",
              "      <td>105.000000</td>\n",
              "      <td>17.000000</td>\n",
              "    </tr>\n",
              "    <tr>\n",
              "      <th>50%</th>\n",
              "      <td>6.000000</td>\n",
              "      <td>4.000000</td>\n",
              "      <td>0.000000</td>\n",
              "      <td>1.000000</td>\n",
              "      <td>3.000000</td>\n",
              "      <td>0.000000</td>\n",
              "      <td>0.000000</td>\n",
              "      <td>0.000000</td>\n",
              "      <td>1.000000</td>\n",
              "      <td>1.000000</td>\n",
              "      <td>0.000000</td>\n",
              "      <td>0.000000</td>\n",
              "      <td>1432.000000</td>\n",
              "      <td>1486.000000</td>\n",
              "      <td>1969.912360</td>\n",
              "      <td>4.537330e+05</td>\n",
              "      <td>2.389450e+05</td>\n",
              "      <td>0.185670</td>\n",
              "      <td>586.000000</td>\n",
              "      <td>263.000000</td>\n",
              "      <td>243.000000</td>\n",
              "      <td>2.300000</td>\n",
              "      <td>40.400000</td>\n",
              "      <td>2.900000</td>\n",
              "      <td>145.000000</td>\n",
              "      <td>25.000000</td>\n",
              "    </tr>\n",
              "    <tr>\n",
              "      <th>75%</th>\n",
              "      <td>9.000000</td>\n",
              "      <td>5.000000</td>\n",
              "      <td>0.000000</td>\n",
              "      <td>3.000000</td>\n",
              "      <td>6.000000</td>\n",
              "      <td>0.000000</td>\n",
              "      <td>1.000000</td>\n",
              "      <td>1.000000</td>\n",
              "      <td>2.000000</td>\n",
              "      <td>2.000000</td>\n",
              "      <td>0.000000</td>\n",
              "      <td>0.000000</td>\n",
              "      <td>2167.000000</td>\n",
              "      <td>3107.000000</td>\n",
              "      <td>1981.980392</td>\n",
              "      <td>5.232220e+05</td>\n",
              "      <td>4.541680e+05</td>\n",
              "      <td>0.871770</td>\n",
              "      <td>785.000000</td>\n",
              "      <td>362.000000</td>\n",
              "      <td>341.000000</td>\n",
              "      <td>2.700000</td>\n",
              "      <td>43.200000</td>\n",
              "      <td>3.100000</td>\n",
              "      <td>205.000000</td>\n",
              "      <td>32.000000</td>\n",
              "    </tr>\n",
              "    <tr>\n",
              "      <th>max</th>\n",
              "      <td>12.000000</td>\n",
              "      <td>6.000000</td>\n",
              "      <td>7.000000</td>\n",
              "      <td>45.000000</td>\n",
              "      <td>63.000000</td>\n",
              "      <td>12.000000</td>\n",
              "      <td>26.000000</td>\n",
              "      <td>39.000000</td>\n",
              "      <td>30.000000</td>\n",
              "      <td>35.000000</td>\n",
              "      <td>2.000000</td>\n",
              "      <td>1.000000</td>\n",
              "      <td>5764.000000</td>\n",
              "      <td>11100.000000</td>\n",
              "      <td>2012.215104</td>\n",
              "      <td>3.790377e+06</td>\n",
              "      <td>4.144732e+07</td>\n",
              "      <td>15.997840</td>\n",
              "      <td>4669.000000</td>\n",
              "      <td>2596.000000</td>\n",
              "      <td>2111.000000</td>\n",
              "      <td>3.700000</td>\n",
              "      <td>91.600000</td>\n",
              "      <td>3.900000</td>\n",
              "      <td>1270.000000</td>\n",
              "      <td>50.000000</td>\n",
              "    </tr>\n",
              "  </tbody>\n",
              "</table>\n",
              "</div>"
            ],
            "text/plain": [
              "              month          year  ...       workers      distance\n",
              "count  30831.000000  30831.000000  ...  30831.000000  30831.000000\n",
              "mean       6.381337      3.589472  ...    176.204470     24.675067\n",
              "std        3.383709      1.673232  ...    147.235356     10.024351\n",
              "min        1.000000      1.000000  ...      0.000000      0.000000\n",
              "25%        3.000000      2.000000  ...    105.000000     17.000000\n",
              "50%        6.000000      4.000000  ...    145.000000     25.000000\n",
              "75%        9.000000      5.000000  ...    205.000000     32.000000\n",
              "max       12.000000      6.000000  ...   1270.000000     50.000000\n",
              "\n",
              "[8 rows x 26 columns]"
            ]
          },
          "metadata": {
            "tags": []
          },
          "execution_count": 121
        }
      ]
    },
    {
      "cell_type": "code",
      "metadata": {
        "id": "JElOeWujjdd4"
      },
      "source": [
        "df_new = df\n",
        "df_new['year'] =2021- df_new['year']"
      ],
      "execution_count": null,
      "outputs": []
    },
    {
      "cell_type": "code",
      "metadata": {
        "id": "tWvnjdPxnDVy"
      },
      "source": [
        "import geopy.distance\n",
        "\n",
        "def dist(x,y):\n",
        "  coords_1 = (45.70, -73.47)\n",
        "  coords_2 = (x, y)\n",
        "  return geopy.distance.vincenty(coords_1, coords_2).km\n"
      ],
      "execution_count": null,
      "outputs": []
    },
    {
      "cell_type": "code",
      "metadata": {
        "id": "RcRq4GP7t2eZ"
      },
      "source": [
        "df_new['distance']=0"
      ],
      "execution_count": null,
      "outputs": []
    },
    {
      "cell_type": "code",
      "metadata": {
        "id": "2vJyO2EXnPbJ",
        "outputId": "55c9d3fd-a7c9-40a6-81a3-a07a0d383144",
        "colab": {
          "base_uri": "https://localhost:8080/"
        }
      },
      "source": [
        "for x in range(0,len(df_new)-1):\n",
        "  df_new['distance'][x]=dist(df_new['latitude'][x], df_new['longitude'][x])"
      ],
      "execution_count": null,
      "outputs": [
        {
          "output_type": "stream",
          "text": [
            "/usr/local/lib/python3.6/dist-packages/ipykernel_launcher.py:2: SettingWithCopyWarning: \n",
            "A value is trying to be set on a copy of a slice from a DataFrame\n",
            "\n",
            "See the caveats in the documentation: https://pandas.pydata.org/pandas-docs/stable/user_guide/indexing.html#returning-a-view-versus-a-copy\n",
            "  \n"
          ],
          "name": "stderr"
        }
      ]
    },
    {
      "cell_type": "code",
      "metadata": {
        "id": "ZTR0Fs2Ul0Aa",
        "outputId": "973c5403-0c3d-41bd-d726-0476bb4852d7",
        "colab": {
          "base_uri": "https://localhost:8080/",
          "height": 383
        }
      },
      "source": [
        "df_new.tail(10)"
      ],
      "execution_count": null,
      "outputs": [
        {
          "output_type": "execute_result",
          "data": {
            "text/html": [
              "<div>\n",
              "<style scoped>\n",
              "    .dataframe tbody tr th:only-of-type {\n",
              "        vertical-align: middle;\n",
              "    }\n",
              "\n",
              "    .dataframe tbody tr th {\n",
              "        vertical-align: top;\n",
              "    }\n",
              "\n",
              "    .dataframe thead th {\n",
              "        text-align: right;\n",
              "    }\n",
              "</style>\n",
              "<table border=\"1\" class=\"dataframe\">\n",
              "  <thead>\n",
              "    <tr style=\"text-align: right;\">\n",
              "      <th></th>\n",
              "      <th>latitude</th>\n",
              "      <th>longitude</th>\n",
              "      <th>month</th>\n",
              "      <th>year</th>\n",
              "      <th>INCENDIE_count</th>\n",
              "      <th>ALARMES_INCENDIES_count</th>\n",
              "      <th>total_crimes</th>\n",
              "      <th>vols_count</th>\n",
              "      <th>Mefait_count</th>\n",
              "      <th>Vol_de_vehicule_count</th>\n",
              "      <th>Introduction_count</th>\n",
              "      <th>Vol_moteur_count</th>\n",
              "      <th>Infractions_entrainant_count</th>\n",
              "      <th>caserne_count</th>\n",
              "      <th>sum_etage_hors_sol</th>\n",
              "      <th>sum_nombre_logement</th>\n",
              "      <th>min_annee_construction</th>\n",
              "      <th>max_annee_construction</th>\n",
              "      <th>avg_annee_construction</th>\n",
              "      <th>sum_superficie_terrain</th>\n",
              "      <th>sum_superficie_batiment</th>\n",
              "      <th>area</th>\n",
              "      <th>population</th>\n",
              "      <th>dwellings</th>\n",
              "      <th>households</th>\n",
              "      <th>averagehouseholdsize</th>\n",
              "      <th>averageage</th>\n",
              "      <th>averagesizeofcensusfamilies</th>\n",
              "      <th>workers</th>\n",
              "      <th>distance</th>\n",
              "    </tr>\n",
              "  </thead>\n",
              "  <tbody>\n",
              "    <tr>\n",
              "      <th>3490</th>\n",
              "      <td>45.66</td>\n",
              "      <td>-73.51</td>\n",
              "      <td>10</td>\n",
              "      <td>1</td>\n",
              "      <td>0</td>\n",
              "      <td>0</td>\n",
              "      <td>5</td>\n",
              "      <td>0</td>\n",
              "      <td>0</td>\n",
              "      <td>4</td>\n",
              "      <td>0</td>\n",
              "      <td>1</td>\n",
              "      <td>0</td>\n",
              "      <td>0</td>\n",
              "      <td>1207</td>\n",
              "      <td>1044</td>\n",
              "      <td>1941</td>\n",
              "      <td>2017</td>\n",
              "      <td>1984.169195</td>\n",
              "      <td>494180</td>\n",
              "      <td>279413</td>\n",
              "      <td>0.28223</td>\n",
              "      <td>448</td>\n",
              "      <td>168</td>\n",
              "      <td>167</td>\n",
              "      <td>2.6</td>\n",
              "      <td>41.7</td>\n",
              "      <td>3.0</td>\n",
              "      <td>135</td>\n",
              "      <td>5</td>\n",
              "    </tr>\n",
              "    <tr>\n",
              "      <th>3215</th>\n",
              "      <td>45.66</td>\n",
              "      <td>-73.50</td>\n",
              "      <td>10</td>\n",
              "      <td>1</td>\n",
              "      <td>0</td>\n",
              "      <td>0</td>\n",
              "      <td>2</td>\n",
              "      <td>0</td>\n",
              "      <td>1</td>\n",
              "      <td>1</td>\n",
              "      <td>0</td>\n",
              "      <td>0</td>\n",
              "      <td>0</td>\n",
              "      <td>0</td>\n",
              "      <td>1953</td>\n",
              "      <td>1624</td>\n",
              "      <td>1925</td>\n",
              "      <td>2014</td>\n",
              "      <td>1976.802276</td>\n",
              "      <td>557374</td>\n",
              "      <td>231982</td>\n",
              "      <td>0.30364</td>\n",
              "      <td>1090</td>\n",
              "      <td>395</td>\n",
              "      <td>388</td>\n",
              "      <td>2.8</td>\n",
              "      <td>39.9</td>\n",
              "      <td>3.0</td>\n",
              "      <td>290</td>\n",
              "      <td>5</td>\n",
              "    </tr>\n",
              "    <tr>\n",
              "      <th>3531</th>\n",
              "      <td>45.66</td>\n",
              "      <td>-73.49</td>\n",
              "      <td>10</td>\n",
              "      <td>1</td>\n",
              "      <td>0</td>\n",
              "      <td>0</td>\n",
              "      <td>1</td>\n",
              "      <td>0</td>\n",
              "      <td>0</td>\n",
              "      <td>1</td>\n",
              "      <td>0</td>\n",
              "      <td>0</td>\n",
              "      <td>0</td>\n",
              "      <td>0</td>\n",
              "      <td>490</td>\n",
              "      <td>542</td>\n",
              "      <td>1752</td>\n",
              "      <td>2018</td>\n",
              "      <td>1976.853933</td>\n",
              "      <td>178758</td>\n",
              "      <td>63592</td>\n",
              "      <td>0.21275</td>\n",
              "      <td>487</td>\n",
              "      <td>212</td>\n",
              "      <td>210</td>\n",
              "      <td>2.2</td>\n",
              "      <td>47.9</td>\n",
              "      <td>2.6</td>\n",
              "      <td>110</td>\n",
              "      <td>4</td>\n",
              "    </tr>\n",
              "    <tr>\n",
              "      <th>30665</th>\n",
              "      <td>45.67</td>\n",
              "      <td>-73.55</td>\n",
              "      <td>10</td>\n",
              "      <td>1</td>\n",
              "      <td>0</td>\n",
              "      <td>0</td>\n",
              "      <td>1</td>\n",
              "      <td>0</td>\n",
              "      <td>0</td>\n",
              "      <td>1</td>\n",
              "      <td>0</td>\n",
              "      <td>0</td>\n",
              "      <td>0</td>\n",
              "      <td>0</td>\n",
              "      <td>874</td>\n",
              "      <td>607</td>\n",
              "      <td>1900</td>\n",
              "      <td>2017</td>\n",
              "      <td>1994.664671</td>\n",
              "      <td>196023</td>\n",
              "      <td>239448</td>\n",
              "      <td>0.72304</td>\n",
              "      <td>453</td>\n",
              "      <td>158</td>\n",
              "      <td>154</td>\n",
              "      <td>2.7</td>\n",
              "      <td>43.1</td>\n",
              "      <td>2.7</td>\n",
              "      <td>75</td>\n",
              "      <td>7</td>\n",
              "    </tr>\n",
              "    <tr>\n",
              "      <th>30708</th>\n",
              "      <td>45.67</td>\n",
              "      <td>-73.51</td>\n",
              "      <td>10</td>\n",
              "      <td>1</td>\n",
              "      <td>0</td>\n",
              "      <td>2</td>\n",
              "      <td>2</td>\n",
              "      <td>0</td>\n",
              "      <td>0</td>\n",
              "      <td>0</td>\n",
              "      <td>0</td>\n",
              "      <td>2</td>\n",
              "      <td>0</td>\n",
              "      <td>1</td>\n",
              "      <td>459</td>\n",
              "      <td>576</td>\n",
              "      <td>1920</td>\n",
              "      <td>2015</td>\n",
              "      <td>1981.962264</td>\n",
              "      <td>338851</td>\n",
              "      <td>52183</td>\n",
              "      <td>0.73267</td>\n",
              "      <td>720</td>\n",
              "      <td>345</td>\n",
              "      <td>343</td>\n",
              "      <td>2.0</td>\n",
              "      <td>47.3</td>\n",
              "      <td>2.7</td>\n",
              "      <td>165</td>\n",
              "      <td>4</td>\n",
              "    </tr>\n",
              "    <tr>\n",
              "      <th>30567</th>\n",
              "      <td>45.67</td>\n",
              "      <td>-73.50</td>\n",
              "      <td>10</td>\n",
              "      <td>1</td>\n",
              "      <td>0</td>\n",
              "      <td>0</td>\n",
              "      <td>2</td>\n",
              "      <td>0</td>\n",
              "      <td>0</td>\n",
              "      <td>0</td>\n",
              "      <td>1</td>\n",
              "      <td>1</td>\n",
              "      <td>0</td>\n",
              "      <td>0</td>\n",
              "      <td>1706</td>\n",
              "      <td>2237</td>\n",
              "      <td>1914</td>\n",
              "      <td>2019</td>\n",
              "      <td>1969.399127</td>\n",
              "      <td>518847</td>\n",
              "      <td>182697</td>\n",
              "      <td>0.11503</td>\n",
              "      <td>505</td>\n",
              "      <td>285</td>\n",
              "      <td>273</td>\n",
              "      <td>1.8</td>\n",
              "      <td>43.2</td>\n",
              "      <td>2.6</td>\n",
              "      <td>100</td>\n",
              "      <td>4</td>\n",
              "    </tr>\n",
              "    <tr>\n",
              "      <th>27222</th>\n",
              "      <td>45.68</td>\n",
              "      <td>-73.50</td>\n",
              "      <td>10</td>\n",
              "      <td>1</td>\n",
              "      <td>0</td>\n",
              "      <td>0</td>\n",
              "      <td>5</td>\n",
              "      <td>0</td>\n",
              "      <td>1</td>\n",
              "      <td>3</td>\n",
              "      <td>0</td>\n",
              "      <td>1</td>\n",
              "      <td>0</td>\n",
              "      <td>0</td>\n",
              "      <td>1377</td>\n",
              "      <td>898</td>\n",
              "      <td>1959</td>\n",
              "      <td>2019</td>\n",
              "      <td>1994.756098</td>\n",
              "      <td>465540</td>\n",
              "      <td>362871</td>\n",
              "      <td>0.45534</td>\n",
              "      <td>821</td>\n",
              "      <td>422</td>\n",
              "      <td>386</td>\n",
              "      <td>2.1</td>\n",
              "      <td>37.5</td>\n",
              "      <td>2.7</td>\n",
              "      <td>335</td>\n",
              "      <td>3</td>\n",
              "    </tr>\n",
              "    <tr>\n",
              "      <th>23755</th>\n",
              "      <td>45.69</td>\n",
              "      <td>-73.50</td>\n",
              "      <td>10</td>\n",
              "      <td>1</td>\n",
              "      <td>0</td>\n",
              "      <td>0</td>\n",
              "      <td>2</td>\n",
              "      <td>0</td>\n",
              "      <td>0</td>\n",
              "      <td>0</td>\n",
              "      <td>2</td>\n",
              "      <td>0</td>\n",
              "      <td>0</td>\n",
              "      <td>0</td>\n",
              "      <td>254</td>\n",
              "      <td>285</td>\n",
              "      <td>1959</td>\n",
              "      <td>2018</td>\n",
              "      <td>1999.281967</td>\n",
              "      <td>75473</td>\n",
              "      <td>59941</td>\n",
              "      <td>2.99229</td>\n",
              "      <td>1350</td>\n",
              "      <td>519</td>\n",
              "      <td>518</td>\n",
              "      <td>2.6</td>\n",
              "      <td>38.5</td>\n",
              "      <td>2.9</td>\n",
              "      <td>580</td>\n",
              "      <td>2</td>\n",
              "    </tr>\n",
              "    <tr>\n",
              "      <th>23850</th>\n",
              "      <td>45.69</td>\n",
              "      <td>-73.49</td>\n",
              "      <td>10</td>\n",
              "      <td>1</td>\n",
              "      <td>0</td>\n",
              "      <td>0</td>\n",
              "      <td>3</td>\n",
              "      <td>0</td>\n",
              "      <td>0</td>\n",
              "      <td>1</td>\n",
              "      <td>0</td>\n",
              "      <td>2</td>\n",
              "      <td>0</td>\n",
              "      <td>0</td>\n",
              "      <td>1754</td>\n",
              "      <td>1687</td>\n",
              "      <td>1925</td>\n",
              "      <td>2017</td>\n",
              "      <td>1990.051636</td>\n",
              "      <td>493065</td>\n",
              "      <td>933935</td>\n",
              "      <td>0.20290</td>\n",
              "      <td>677</td>\n",
              "      <td>290</td>\n",
              "      <td>286</td>\n",
              "      <td>2.4</td>\n",
              "      <td>40.4</td>\n",
              "      <td>2.7</td>\n",
              "      <td>195</td>\n",
              "      <td>1</td>\n",
              "    </tr>\n",
              "    <tr>\n",
              "      <th>19863</th>\n",
              "      <td>45.70</td>\n",
              "      <td>-73.49</td>\n",
              "      <td>10</td>\n",
              "      <td>1</td>\n",
              "      <td>0</td>\n",
              "      <td>0</td>\n",
              "      <td>1</td>\n",
              "      <td>0</td>\n",
              "      <td>0</td>\n",
              "      <td>0</td>\n",
              "      <td>0</td>\n",
              "      <td>1</td>\n",
              "      <td>0</td>\n",
              "      <td>1</td>\n",
              "      <td>933</td>\n",
              "      <td>805</td>\n",
              "      <td>1900</td>\n",
              "      <td>2019</td>\n",
              "      <td>1997.866756</td>\n",
              "      <td>177975</td>\n",
              "      <td>75296</td>\n",
              "      <td>0.48567</td>\n",
              "      <td>645</td>\n",
              "      <td>255</td>\n",
              "      <td>249</td>\n",
              "      <td>2.6</td>\n",
              "      <td>41.3</td>\n",
              "      <td>2.9</td>\n",
              "      <td>170</td>\n",
              "      <td>1</td>\n",
              "    </tr>\n",
              "  </tbody>\n",
              "</table>\n",
              "</div>"
            ],
            "text/plain": [
              "       latitude  longitude  ...  workers  distance\n",
              "3490      45.66     -73.51  ...      135         5\n",
              "3215      45.66     -73.50  ...      290         5\n",
              "3531      45.66     -73.49  ...      110         4\n",
              "30665     45.67     -73.55  ...       75         7\n",
              "30708     45.67     -73.51  ...      165         4\n",
              "30567     45.67     -73.50  ...      100         4\n",
              "27222     45.68     -73.50  ...      335         3\n",
              "23755     45.69     -73.50  ...      580         2\n",
              "23850     45.69     -73.49  ...      195         1\n",
              "19863     45.70     -73.49  ...      170         1\n",
              "\n",
              "[10 rows x 30 columns]"
            ]
          },
          "metadata": {
            "tags": []
          },
          "execution_count": 126
        }
      ]
    },
    {
      "cell_type": "code",
      "metadata": {
        "id": "5oZUDtx5eUeA"
      },
      "source": [
        "\n",
        "df_new = df_new.drop(\"latitude\", axis=1)\n",
        "df_new = df_new.drop(\"longitude\", axis=1)"
      ],
      "execution_count": null,
      "outputs": []
    },
    {
      "cell_type": "code",
      "metadata": {
        "id": "MvFyPMxEqvmb"
      },
      "source": [
        "df_new = df_new.drop(\"min_annee_construction\", axis=1)\n",
        "df_new = df_new.drop(\"max_annee_construction\", axis=1)"
      ],
      "execution_count": null,
      "outputs": []
    },
    {
      "cell_type": "code",
      "metadata": {
        "id": "-LWydleGrmNu"
      },
      "source": [
        "y= df_new[\"INCENDIE_count\"].copy()\n",
        "X=df_new.drop(\"INCENDIE_count\", axis=1)"
      ],
      "execution_count": null,
      "outputs": []
    },
    {
      "cell_type": "code",
      "metadata": {
        "id": "P_QcyiBluE-j",
        "outputId": "d51dd52b-52f4-4369-c102-339ee14769dc",
        "colab": {
          "base_uri": "https://localhost:8080/"
        }
      },
      "source": [
        "len(X),len(y)"
      ],
      "execution_count": null,
      "outputs": [
        {
          "output_type": "execute_result",
          "data": {
            "text/plain": [
              "(30831, 30831)"
            ]
          },
          "metadata": {
            "tags": []
          },
          "execution_count": 156
        }
      ]
    },
    {
      "cell_type": "code",
      "metadata": {
        "id": "HWXc3Ixc112W",
        "outputId": "c37bf3b9-44b7-4c34-beac-932dc3e59242",
        "colab": {
          "base_uri": "https://localhost:8080/"
        }
      },
      "source": [
        "from sklearn.pipeline import Pipeline\n",
        "from sklearn.preprocessing import StandardScaler\n",
        "from sklearn.impute import SimpleImputer\n",
        "\n",
        "scaler = StandardScaler()\n",
        "scaler.fit(X)"
      ],
      "execution_count": null,
      "outputs": [
        {
          "output_type": "execute_result",
          "data": {
            "text/plain": [
              "StandardScaler(copy=True, with_mean=True, with_std=True)"
            ]
          },
          "metadata": {
            "tags": []
          },
          "execution_count": 148
        }
      ]
    },
    {
      "cell_type": "code",
      "metadata": {
        "id": "IHQmG7342l0R"
      },
      "source": [
        "X=scaler.transform(X)"
      ],
      "execution_count": null,
      "outputs": []
    },
    {
      "cell_type": "code",
      "metadata": {
        "id": "oCvRc7bj2IWo",
        "outputId": "b24286c6-8f65-422a-d724-e626f78e0195",
        "colab": {
          "base_uri": "https://localhost:8080/",
          "height": 444
        }
      },
      "source": [
        "X"
      ],
      "execution_count": null,
      "outputs": [
        {
          "output_type": "execute_result",
          "data": {
            "text/html": [
              "<div>\n",
              "<style scoped>\n",
              "    .dataframe tbody tr th:only-of-type {\n",
              "        vertical-align: middle;\n",
              "    }\n",
              "\n",
              "    .dataframe tbody tr th {\n",
              "        vertical-align: top;\n",
              "    }\n",
              "\n",
              "    .dataframe thead th {\n",
              "        text-align: right;\n",
              "    }\n",
              "</style>\n",
              "<table border=\"1\" class=\"dataframe\">\n",
              "  <thead>\n",
              "    <tr style=\"text-align: right;\">\n",
              "      <th></th>\n",
              "      <th>0</th>\n",
              "      <th>1</th>\n",
              "      <th>2</th>\n",
              "      <th>3</th>\n",
              "      <th>4</th>\n",
              "      <th>5</th>\n",
              "      <th>6</th>\n",
              "      <th>7</th>\n",
              "      <th>8</th>\n",
              "      <th>9</th>\n",
              "      <th>10</th>\n",
              "      <th>11</th>\n",
              "      <th>12</th>\n",
              "      <th>13</th>\n",
              "      <th>14</th>\n",
              "      <th>15</th>\n",
              "      <th>16</th>\n",
              "      <th>17</th>\n",
              "      <th>18</th>\n",
              "      <th>19</th>\n",
              "      <th>20</th>\n",
              "      <th>21</th>\n",
              "      <th>22</th>\n",
              "      <th>23</th>\n",
              "      <th>24</th>\n",
              "    </tr>\n",
              "  </thead>\n",
              "  <tbody>\n",
              "    <tr>\n",
              "      <th>0</th>\n",
              "      <td>-1.590392</td>\n",
              "      <td>1.440665</td>\n",
              "      <td>-0.737418</td>\n",
              "      <td>-0.642028</td>\n",
              "      <td>-0.369909</td>\n",
              "      <td>-0.619049</td>\n",
              "      <td>-0.625043</td>\n",
              "      <td>-0.192110</td>\n",
              "      <td>-0.563854</td>\n",
              "      <td>-0.060517</td>\n",
              "      <td>-0.398004</td>\n",
              "      <td>-1.020446</td>\n",
              "      <td>-0.968456</td>\n",
              "      <td>-0.651789</td>\n",
              "      <td>-0.036074</td>\n",
              "      <td>-0.262289</td>\n",
              "      <td>0.522947</td>\n",
              "      <td>-0.173285</td>\n",
              "      <td>-0.287542</td>\n",
              "      <td>-0.270240</td>\n",
              "      <td>0.464081</td>\n",
              "      <td>0.436811</td>\n",
              "      <td>0.287008</td>\n",
              "      <td>-0.177980</td>\n",
              "      <td>2.326865</td>\n",
              "    </tr>\n",
              "    <tr>\n",
              "      <th>1</th>\n",
              "      <td>-1.590392</td>\n",
              "      <td>1.440665</td>\n",
              "      <td>-0.432712</td>\n",
              "      <td>-0.818177</td>\n",
              "      <td>-0.369909</td>\n",
              "      <td>-0.619049</td>\n",
              "      <td>-0.625043</td>\n",
              "      <td>-0.606390</td>\n",
              "      <td>-0.563854</td>\n",
              "      <td>-0.060517</td>\n",
              "      <td>-0.398004</td>\n",
              "      <td>-1.258151</td>\n",
              "      <td>-1.087030</td>\n",
              "      <td>1.932931</td>\n",
              "      <td>-0.051945</td>\n",
              "      <td>-0.245592</td>\n",
              "      <td>0.522947</td>\n",
              "      <td>-0.173285</td>\n",
              "      <td>-0.287542</td>\n",
              "      <td>-0.270240</td>\n",
              "      <td>0.464081</td>\n",
              "      <td>0.436811</td>\n",
              "      <td>0.287008</td>\n",
              "      <td>-0.177980</td>\n",
              "      <td>2.227106</td>\n",
              "    </tr>\n",
              "    <tr>\n",
              "      <th>2</th>\n",
              "      <td>-1.590392</td>\n",
              "      <td>1.440665</td>\n",
              "      <td>-0.128006</td>\n",
              "      <td>-0.465880</td>\n",
              "      <td>-0.369909</td>\n",
              "      <td>-0.619049</td>\n",
              "      <td>-0.625043</td>\n",
              "      <td>0.222169</td>\n",
              "      <td>-0.563854</td>\n",
              "      <td>-0.060517</td>\n",
              "      <td>-0.398004</td>\n",
              "      <td>-1.228107</td>\n",
              "      <td>-1.011077</td>\n",
              "      <td>0.806622</td>\n",
              "      <td>0.240729</td>\n",
              "      <td>-0.238915</td>\n",
              "      <td>0.522947</td>\n",
              "      <td>-0.173285</td>\n",
              "      <td>-0.287542</td>\n",
              "      <td>-0.270240</td>\n",
              "      <td>0.464081</td>\n",
              "      <td>0.436811</td>\n",
              "      <td>0.287008</td>\n",
              "      <td>-0.177980</td>\n",
              "      <td>2.127348</td>\n",
              "    </tr>\n",
              "    <tr>\n",
              "      <th>3</th>\n",
              "      <td>-1.590392</td>\n",
              "      <td>1.440665</td>\n",
              "      <td>-0.128006</td>\n",
              "      <td>-0.818177</td>\n",
              "      <td>-0.369909</td>\n",
              "      <td>-0.619049</td>\n",
              "      <td>-0.625043</td>\n",
              "      <td>-0.606390</td>\n",
              "      <td>-0.563854</td>\n",
              "      <td>-0.060517</td>\n",
              "      <td>2.512540</td>\n",
              "      <td>-1.049607</td>\n",
              "      <td>-1.003427</td>\n",
              "      <td>0.270860</td>\n",
              "      <td>1.257095</td>\n",
              "      <td>-0.250554</td>\n",
              "      <td>-0.355545</td>\n",
              "      <td>-0.589891</td>\n",
              "      <td>-0.696917</td>\n",
              "      <td>-0.725151</td>\n",
              "      <td>1.100724</td>\n",
              "      <td>0.196776</td>\n",
              "      <td>0.455222</td>\n",
              "      <td>-0.381738</td>\n",
              "      <td>2.127348</td>\n",
              "    </tr>\n",
              "    <tr>\n",
              "      <th>4</th>\n",
              "      <td>-1.590392</td>\n",
              "      <td>1.440665</td>\n",
              "      <td>-0.432712</td>\n",
              "      <td>-0.818177</td>\n",
              "      <td>-0.369909</td>\n",
              "      <td>-0.619049</td>\n",
              "      <td>-0.625043</td>\n",
              "      <td>-0.606390</td>\n",
              "      <td>-0.563854</td>\n",
              "      <td>-0.060517</td>\n",
              "      <td>-0.398004</td>\n",
              "      <td>-0.622799</td>\n",
              "      <td>-0.791414</td>\n",
              "      <td>-0.612985</td>\n",
              "      <td>1.351294</td>\n",
              "      <td>-0.238935</td>\n",
              "      <td>-0.376347</td>\n",
              "      <td>-0.438025</td>\n",
              "      <td>-0.556560</td>\n",
              "      <td>-0.579580</td>\n",
              "      <td>1.100724</td>\n",
              "      <td>0.066757</td>\n",
              "      <td>0.455222</td>\n",
              "      <td>-0.449658</td>\n",
              "      <td>2.027589</td>\n",
              "    </tr>\n",
              "    <tr>\n",
              "      <th>...</th>\n",
              "      <td>...</td>\n",
              "      <td>...</td>\n",
              "      <td>...</td>\n",
              "      <td>...</td>\n",
              "      <td>...</td>\n",
              "      <td>...</td>\n",
              "      <td>...</td>\n",
              "      <td>...</td>\n",
              "      <td>...</td>\n",
              "      <td>...</td>\n",
              "      <td>...</td>\n",
              "      <td>...</td>\n",
              "      <td>...</td>\n",
              "      <td>...</td>\n",
              "      <td>...</td>\n",
              "      <td>...</td>\n",
              "      <td>...</td>\n",
              "      <td>...</td>\n",
              "      <td>...</td>\n",
              "      <td>...</td>\n",
              "      <td>...</td>\n",
              "      <td>...</td>\n",
              "      <td>...</td>\n",
              "      <td>...</td>\n",
              "      <td>...</td>\n",
              "    </tr>\n",
              "    <tr>\n",
              "      <th>30826</th>\n",
              "      <td>1.069454</td>\n",
              "      <td>-1.547612</td>\n",
              "      <td>-0.737418</td>\n",
              "      <td>-0.465880</td>\n",
              "      <td>-0.369909</td>\n",
              "      <td>-0.619049</td>\n",
              "      <td>-0.625043</td>\n",
              "      <td>-0.192110</td>\n",
              "      <td>-0.100239</td>\n",
              "      <td>-0.060517</td>\n",
              "      <td>-0.398004</td>\n",
              "      <td>0.146869</td>\n",
              "      <td>0.107458</td>\n",
              "      <td>-0.029450</td>\n",
              "      <td>0.545604</td>\n",
              "      <td>-0.198630</td>\n",
              "      <td>-0.423322</td>\n",
              "      <td>-0.435972</td>\n",
              "      <td>-0.147184</td>\n",
              "      <td>-0.124669</td>\n",
              "      <td>-0.809206</td>\n",
              "      <td>0.276788</td>\n",
              "      <td>-0.385849</td>\n",
              "      <td>-0.517577</td>\n",
              "      <td>-2.062518</td>\n",
              "    </tr>\n",
              "    <tr>\n",
              "      <th>30827</th>\n",
              "      <td>1.069454</td>\n",
              "      <td>-1.547612</td>\n",
              "      <td>-0.737418</td>\n",
              "      <td>0.062567</td>\n",
              "      <td>-0.369909</td>\n",
              "      <td>-0.026614</td>\n",
              "      <td>2.222562</td>\n",
              "      <td>-0.606390</td>\n",
              "      <td>-0.100239</td>\n",
              "      <td>-0.060517</td>\n",
              "      <td>-0.398004</td>\n",
              "      <td>-0.143855</td>\n",
              "      <td>-0.624207</td>\n",
              "      <td>1.426904</td>\n",
              "      <td>0.207732</td>\n",
              "      <td>-0.114594</td>\n",
              "      <td>-0.313956</td>\n",
              "      <td>0.212537</td>\n",
              "      <td>0.386954</td>\n",
              "      <td>0.389381</td>\n",
              "      <td>-0.331723</td>\n",
              "      <td>-0.293295</td>\n",
              "      <td>-0.217635</td>\n",
              "      <td>1.078532</td>\n",
              "      <td>-2.162277</td>\n",
              "    </tr>\n",
              "    <tr>\n",
              "      <th>30828</th>\n",
              "      <td>1.069454</td>\n",
              "      <td>-1.547612</td>\n",
              "      <td>-0.737418</td>\n",
              "      <td>-0.465880</td>\n",
              "      <td>-0.369909</td>\n",
              "      <td>-0.619049</td>\n",
              "      <td>-0.625043</td>\n",
              "      <td>0.222169</td>\n",
              "      <td>-0.563854</td>\n",
              "      <td>-0.060517</td>\n",
              "      <td>-0.398004</td>\n",
              "      <td>-1.136206</td>\n",
              "      <td>-0.959167</td>\n",
              "      <td>1.686844</td>\n",
              "      <td>-2.264602</td>\n",
              "      <td>-0.255885</td>\n",
              "      <td>0.501345</td>\n",
              "      <td>1.298176</td>\n",
              "      <td>0.765139</td>\n",
              "      <td>0.989863</td>\n",
              "      <td>0.464081</td>\n",
              "      <td>-0.193281</td>\n",
              "      <td>0.118794</td>\n",
              "      <td>2.742562</td>\n",
              "      <td>-2.262035</td>\n",
              "    </tr>\n",
              "    <tr>\n",
              "      <th>30829</th>\n",
              "      <td>1.069454</td>\n",
              "      <td>-1.547612</td>\n",
              "      <td>-0.737418</td>\n",
              "      <td>-0.289731</td>\n",
              "      <td>-0.369909</td>\n",
              "      <td>-0.619049</td>\n",
              "      <td>0.324159</td>\n",
              "      <td>-0.606390</td>\n",
              "      <td>0.363376</td>\n",
              "      <td>-0.060517</td>\n",
              "      <td>-0.398004</td>\n",
              "      <td>0.189285</td>\n",
              "      <td>-0.193076</td>\n",
              "      <td>1.156708</td>\n",
              "      <td>0.382192</td>\n",
              "      <td>0.151760</td>\n",
              "      <td>-0.395083</td>\n",
              "      <td>-0.082986</td>\n",
              "      <td>-0.127690</td>\n",
              "      <td>-0.065530</td>\n",
              "      <td>0.145759</td>\n",
              "      <td>-0.003253</td>\n",
              "      <td>-0.217635</td>\n",
              "      <td>0.127658</td>\n",
              "      <td>-2.361794</td>\n",
              "    </tr>\n",
              "    <tr>\n",
              "      <th>30830</th>\n",
              "      <td>1.069454</td>\n",
              "      <td>-1.547612</td>\n",
              "      <td>-0.737418</td>\n",
              "      <td>-0.642028</td>\n",
              "      <td>-0.369909</td>\n",
              "      <td>-0.619049</td>\n",
              "      <td>-0.625043</td>\n",
              "      <td>-0.606390</td>\n",
              "      <td>-0.100239</td>\n",
              "      <td>-0.060517</td>\n",
              "      <td>2.512540</td>\n",
              "      <td>-0.536200</td>\n",
              "      <td>-0.675025</td>\n",
              "      <td>1.605562</td>\n",
              "      <td>-1.614921</td>\n",
              "      <td>-0.248723</td>\n",
              "      <td>-0.304209</td>\n",
              "      <td>-0.148658</td>\n",
              "      <td>-0.264149</td>\n",
              "      <td>-0.233847</td>\n",
              "      <td>0.464081</td>\n",
              "      <td>0.086760</td>\n",
              "      <td>0.118794</td>\n",
              "      <td>-0.042140</td>\n",
              "      <td>-2.361794</td>\n",
              "    </tr>\n",
              "  </tbody>\n",
              "</table>\n",
              "<p>30831 rows × 25 columns</p>\n",
              "</div>"
            ],
            "text/plain": [
              "             0         1         2   ...        22        23        24\n",
              "0     -1.590392  1.440665 -0.737418  ...  0.287008 -0.177980  2.326865\n",
              "1     -1.590392  1.440665 -0.432712  ...  0.287008 -0.177980  2.227106\n",
              "2     -1.590392  1.440665 -0.128006  ...  0.287008 -0.177980  2.127348\n",
              "3     -1.590392  1.440665 -0.128006  ...  0.455222 -0.381738  2.127348\n",
              "4     -1.590392  1.440665 -0.432712  ...  0.455222 -0.449658  2.027589\n",
              "...         ...       ...       ...  ...       ...       ...       ...\n",
              "30826  1.069454 -1.547612 -0.737418  ... -0.385849 -0.517577 -2.062518\n",
              "30827  1.069454 -1.547612 -0.737418  ... -0.217635  1.078532 -2.162277\n",
              "30828  1.069454 -1.547612 -0.737418  ...  0.118794  2.742562 -2.262035\n",
              "30829  1.069454 -1.547612 -0.737418  ... -0.217635  0.127658 -2.361794\n",
              "30830  1.069454 -1.547612 -0.737418  ...  0.118794 -0.042140 -2.361794\n",
              "\n",
              "[30831 rows x 25 columns]"
            ]
          },
          "metadata": {
            "tags": []
          },
          "execution_count": 167
        }
      ]
    },
    {
      "cell_type": "code",
      "metadata": {
        "id": "McUjihhY3j6M"
      },
      "source": [
        "X=pd.DataFrame(X)"
      ],
      "execution_count": null,
      "outputs": []
    },
    {
      "cell_type": "code",
      "metadata": {
        "id": "J4L5lv-9eigq",
        "outputId": "242d9980-9e0e-4818-b32e-d9bc5159cd5f",
        "colab": {
          "base_uri": "https://localhost:8080/"
        }
      },
      "source": [
        "corr_matrix = df_new.corr()\n",
        "corr_matrix[\"INCENDIE_count\"].sort_values(ascending=False)"
      ],
      "execution_count": null,
      "outputs": [
        {
          "output_type": "execute_result",
          "data": {
            "text/plain": [
              "INCENDIE_count                  1.000000\n",
              "sum_nombre_logement             0.345779\n",
              "sum_etage_hors_sol              0.296308\n",
              "total_crimes                    0.282805\n",
              "ALARMES_INCENDIES_count         0.277268\n",
              "Introduction_count              0.249569\n",
              "Mefait_count                    0.237519\n",
              "Vol_moteur_count                0.186271\n",
              "vols_count                      0.180177\n",
              "caserne_count                   0.109855\n",
              "sum_superficie_batiment         0.083279\n",
              "Vol_de_vehicule_count           0.069761\n",
              "dwellings                       0.055430\n",
              "households                      0.035212\n",
              "sum_superficie_terrain          0.031230\n",
              "Infractions_entrainant_count    0.022128\n",
              "month                          -0.010032\n",
              "year                           -0.014955\n",
              "population                     -0.023563\n",
              "averageage                     -0.029906\n",
              "workers                        -0.039661\n",
              "averagesizeofcensusfamilies    -0.044341\n",
              "distance                       -0.081604\n",
              "averagehouseholdsize           -0.109993\n",
              "area                           -0.117711\n",
              "avg_annee_construction         -0.148518\n",
              "Name: INCENDIE_count, dtype: float64"
            ]
          },
          "metadata": {
            "tags": []
          },
          "execution_count": 168
        }
      ]
    },
    {
      "cell_type": "code",
      "metadata": {
        "id": "BHcYl_vMr5ub",
        "outputId": "895fb7ac-0159-4ff0-8264-7d973ff83517",
        "colab": {
          "base_uri": "https://localhost:8080/"
        }
      },
      "source": [
        "y_test.value_counts()"
      ],
      "execution_count": null,
      "outputs": [
        {
          "output_type": "execute_result",
          "data": {
            "text/plain": [
              "0    4276\n",
              "1     824\n",
              "2     120\n",
              "3      25\n",
              "5       4\n",
              "4       3\n",
              "Name: INCENDIE_count, dtype: int64"
            ]
          },
          "metadata": {
            "tags": []
          },
          "execution_count": 169
        }
      ]
    },
    {
      "cell_type": "code",
      "metadata": {
        "id": "KHXaNIG7XNhh",
        "outputId": "ba0cc49c-4de7-4292-e80f-f85ae9445d1a",
        "colab": {
          "base_uri": "https://localhost:8080/"
        }
      },
      "source": [
        "X_train=X[df_new['year'] > 2] # choose 2019 data as train\n",
        "X_test =X[df_new['year'] == 2] # choose 2019 data as validation\n",
        "y_train = y[df_new['year'] > 2]\n",
        "y_test = y[df_new['year'] == 2]"
      ],
      "execution_count": null,
      "outputs": [
        {
          "output_type": "stream",
          "text": [
            "/usr/local/lib/python3.6/dist-packages/ipykernel_launcher.py:1: UserWarning: Boolean Series key will be reindexed to match DataFrame index.\n",
            "  \"\"\"Entry point for launching an IPython kernel.\n",
            "/usr/local/lib/python3.6/dist-packages/ipykernel_launcher.py:2: UserWarning: Boolean Series key will be reindexed to match DataFrame index.\n",
            "  \n"
          ],
          "name": "stderr"
        }
      ]
    },
    {
      "cell_type": "code",
      "metadata": {
        "id": "3PgUfC_hsPBi",
        "outputId": "15050381-a622-489f-dff8-82bd694e985f",
        "colab": {
          "base_uri": "https://localhost:8080/"
        }
      },
      "source": [
        "#from sklearn.model_selection import train_test_split\n",
        "#train_set, test_set = train_test_split(df, test_size=0.2, random_state=42)\n",
        "\n",
        "len(X_train),len(X_test),len(y_train),len(y_test)"
      ],
      "execution_count": null,
      "outputs": [
        {
          "output_type": "execute_result",
          "data": {
            "text/plain": [
              "(21306, 5252, 21306, 5252)"
            ]
          },
          "metadata": {
            "tags": []
          },
          "execution_count": 171
        }
      ]
    },
    {
      "cell_type": "code",
      "metadata": {
        "id": "iSo3kOA9uN6B",
        "outputId": "5b72263b-a24f-4e35-999b-a5776944c9fe",
        "colab": {
          "base_uri": "https://localhost:8080/"
        }
      },
      "source": [
        "from sklearn.linear_model import LinearRegression\n",
        "\n",
        "lin_reg = LinearRegression()\n",
        "lin_reg.fit(X_train, y_train)"
      ],
      "execution_count": null,
      "outputs": [
        {
          "output_type": "execute_result",
          "data": {
            "text/plain": [
              "LinearRegression(copy_X=True, fit_intercept=True, n_jobs=None, normalize=False)"
            ]
          },
          "metadata": {
            "tags": []
          },
          "execution_count": 163
        }
      ]
    },
    {
      "cell_type": "code",
      "metadata": {
        "id": "HFmjwgeqxTyz",
        "outputId": "c4ee738a-cbe2-410e-adf2-e9812ed3b377",
        "colab": {
          "base_uri": "https://localhost:8080/"
        }
      },
      "source": [
        "lin_reg.coef_"
      ],
      "execution_count": null,
      "outputs": [
        {
          "output_type": "execute_result",
          "data": {
            "text/plain": [
              "array([-0.00291858, -0.00172223,  0.00237662,  0.00021814,  0.00539962,\n",
              "        0.00015952, -0.00462729,  0.0028058 , -0.00210421, -0.00232755,\n",
              "       -0.005672  , -0.01165894,  0.00726919,  0.00331495, -0.00080201,\n",
              "       -0.00141485, -0.00266147, -0.03655681, -0.0090073 ,  0.03375801,\n",
              "        0.01574148, -0.00579018, -0.00715466,  0.01226602, -0.00629226])"
            ]
          },
          "metadata": {
            "tags": []
          },
          "execution_count": 164
        }
      ]
    },
    {
      "cell_type": "code",
      "metadata": {
        "id": "I27LC6U7xllU",
        "outputId": "7a06114f-17ab-4708-9b09-940087bc48ee",
        "colab": {
          "base_uri": "https://localhost:8080/"
        }
      },
      "source": [
        "print(lin_reg.score(X_train, y_train))"
      ],
      "execution_count": null,
      "outputs": [
        {
          "output_type": "stream",
          "text": [
            "0.0011305598898968539\n"
          ],
          "name": "stdout"
        }
      ]
    },
    {
      "cell_type": "code",
      "metadata": {
        "id": "srGbLKMTxs_w",
        "outputId": "cdeca5d2-32a0-409e-8c0f-d95999d73d23",
        "colab": {
          "base_uri": "https://localhost:8080/"
        }
      },
      "source": [
        "\n",
        "print(lin_reg.score(X_test,y_test))"
      ],
      "execution_count": null,
      "outputs": [
        {
          "output_type": "stream",
          "text": [
            "-0.0023258242455788114\n"
          ],
          "name": "stdout"
        }
      ]
    },
    {
      "cell_type": "code",
      "metadata": {
        "id": "U08h8hDnZD9f",
        "outputId": "28c9788b-b316-4e17-a9e6-06930189120f",
        "colab": {
          "base_uri": "https://localhost:8080/"
        }
      },
      "source": [
        "from sklearn.tree import DecisionTreeRegressor\n",
        "\n",
        "tree_reg = DecisionTreeRegressor(random_state=42,max_depth=5)\n",
        "tree_reg.fit(X_train, y_train)"
      ],
      "execution_count": null,
      "outputs": [
        {
          "output_type": "execute_result",
          "data": {
            "text/plain": [
              "DecisionTreeRegressor(ccp_alpha=0.0, criterion='mse', max_depth=5,\n",
              "                      max_features=None, max_leaf_nodes=None,\n",
              "                      min_impurity_decrease=0.0, min_impurity_split=None,\n",
              "                      min_samples_leaf=1, min_samples_split=2,\n",
              "                      min_weight_fraction_leaf=0.0, presort='deprecated',\n",
              "                      random_state=42, splitter='best')"
            ]
          },
          "metadata": {
            "tags": []
          },
          "execution_count": 184
        }
      ]
    },
    {
      "cell_type": "code",
      "metadata": {
        "id": "pPaowI3aZK6a",
        "outputId": "756dd69a-137b-4bd9-f955-64f60f1e39c7",
        "colab": {
          "base_uri": "https://localhost:8080/"
        }
      },
      "source": [
        "from sklearn.metrics import mean_squared_error\n",
        "import numpy as np\n",
        "\n",
        "y_predictions = tree_reg.predict(X_test)\n",
        "tree_mse = mean_squared_error(y_test, y_predictions)\n",
        "tree_rmse = np.sqrt(tree_mse)\n",
        "tree_rmse"
      ],
      "execution_count": null,
      "outputs": [
        {
          "output_type": "execute_result",
          "data": {
            "text/plain": [
              "0.5208440063746566"
            ]
          },
          "metadata": {
            "tags": []
          },
          "execution_count": 185
        }
      ]
    },
    {
      "cell_type": "code",
      "metadata": {
        "id": "U8QdZB2lZuOc",
        "outputId": "d0932b09-2afb-43ea-f1bd-d1d8e74089a2",
        "colab": {
          "base_uri": "https://localhost:8080/"
        }
      },
      "source": [
        "from sklearn.ensemble import RandomForestRegressor\n",
        "\n",
        "forest_reg = RandomForestRegressor(n_estimators=10, random_state=42, max_depth=10)\n",
        "forest_reg.fit(X_train, y_train)"
      ],
      "execution_count": null,
      "outputs": [
        {
          "output_type": "execute_result",
          "data": {
            "text/plain": [
              "RandomForestRegressor(bootstrap=True, ccp_alpha=0.0, criterion='mse',\n",
              "                      max_depth=10, max_features='auto', max_leaf_nodes=None,\n",
              "                      max_samples=None, min_impurity_decrease=0.0,\n",
              "                      min_impurity_split=None, min_samples_leaf=1,\n",
              "                      min_samples_split=2, min_weight_fraction_leaf=0.0,\n",
              "                      n_estimators=10, n_jobs=None, oob_score=False,\n",
              "                      random_state=42, verbose=0, warm_start=False)"
            ]
          },
          "metadata": {
            "tags": []
          },
          "execution_count": 186
        }
      ]
    },
    {
      "cell_type": "code",
      "metadata": {
        "id": "DJyjTgkpZ8U5",
        "outputId": "0ca30d9f-b1e5-4e83-d160-4610d21ac91c",
        "colab": {
          "base_uri": "https://localhost:8080/"
        }
      },
      "source": [
        "print(str(forest_reg.score(X_train, y_train)) + \" \"+ str(forest_reg.score(X_test, y_test) ))"
      ],
      "execution_count": null,
      "outputs": [
        {
          "output_type": "stream",
          "text": [
            "0.11930446396844786 -0.029478710497101934\n"
          ],
          "name": "stdout"
        }
      ]
    },
    {
      "cell_type": "code",
      "metadata": {
        "id": "6nbqElXCaBEI"
      },
      "source": [
        "from sklearn.svm import SVR\n",
        "\n",
        "svm_reg = SVR(kernel=\"linear\")\n",
        "svm_reg.fit(train_set_n, train_labels)\n",
        "train_predictions = svm_reg.predict(train_set_n)\n",
        "svm_mse = mean_squared_error(train_labels, train_predictions)\n",
        "svm_rmse = np.sqrt(svm_mse)\n",
        "svm_rmse"
      ],
      "execution_count": null,
      "outputs": []
    },
    {
      "cell_type": "code",
      "metadata": {
        "id": "ZCYsAhUY5auE",
        "outputId": "9dc46a81-5871-45eb-8141-aba2d1a25c0d",
        "colab": {
          "base_uri": "https://localhost:8080/"
        }
      },
      "source": [
        "from numpy import mean\n",
        "from numpy import std\n",
        "from sklearn.datasets import make_classification\n",
        "from sklearn.model_selection import KFold\n",
        "from sklearn.model_selection import cross_val_score\n",
        "from xgboost import XGBClassifier\n",
        "# prepare the cross-validation procedure\n",
        "cv = KFold(n_splits=5, random_state=1, shuffle=True)\n",
        "# create model\n",
        "xgboost = XGBClassifier()\n",
        "# evaluate model\n",
        "xgboost_scores = cross_val_score(xgboost, X_train, y_train, scoring='accuracy', cv=cv, n_jobs=-1)\n",
        "print('Accuracy: %.3f (%.3f)' % (mean(xgboost_scores ), std(xgboost_scores )))"
      ],
      "execution_count": null,
      "outputs": [
        {
          "output_type": "stream",
          "text": [
            "Accuracy: 0.820 (0.008)\n"
          ],
          "name": "stdout"
        }
      ]
    },
    {
      "cell_type": "code",
      "metadata": {
        "id": "DxISOaQb6VOf",
        "outputId": "c5168c8e-143b-40fb-c31c-62188a74d88a",
        "colab": {
          "base_uri": "https://localhost:8080/"
        }
      },
      "source": [
        "\n",
        "xgboost.fit(X_train, y_train)"
      ],
      "execution_count": null,
      "outputs": [
        {
          "output_type": "execute_result",
          "data": {
            "text/plain": [
              "XGBClassifier(base_score=0.5, booster='gbtree', colsample_bylevel=1,\n",
              "              colsample_bynode=1, colsample_bytree=1, gamma=0,\n",
              "              learning_rate=0.1, max_delta_step=0, max_depth=3,\n",
              "              min_child_weight=1, missing=None, n_estimators=100, n_jobs=1,\n",
              "              nthread=None, objective='multi:softprob', random_state=0,\n",
              "              reg_alpha=0, reg_lambda=1, scale_pos_weight=1, seed=None,\n",
              "              silent=None, subsample=1, verbosity=1)"
            ]
          },
          "metadata": {
            "tags": []
          },
          "execution_count": 192
        }
      ]
    },
    {
      "cell_type": "code",
      "metadata": {
        "id": "RINy6Ql06gud"
      },
      "source": [
        "y_test_pred = xgboost.predict(X_test)"
      ],
      "execution_count": null,
      "outputs": []
    },
    {
      "cell_type": "code",
      "metadata": {
        "id": "nxYfZX9i6rIl",
        "outputId": "fe36dbb1-df4a-4af4-88aa-2e6ac7bc7c02",
        "colab": {
          "base_uri": "https://localhost:8080/"
        }
      },
      "source": [
        "\n",
        "print('Accuracy of XGboost classifier on test set: {:.2f}'.format(xgboost.score(X_test, y_test)))"
      ],
      "execution_count": null,
      "outputs": [
        {
          "output_type": "stream",
          "text": [
            "Accuracy of XGboost classifier on test set: 0.81\n"
          ],
          "name": "stdout"
        }
      ]
    },
    {
      "cell_type": "code",
      "metadata": {
        "id": "A5l-PxxZ633b",
        "outputId": "68823db1-435e-404d-cd06-7b03ff00250a",
        "colab": {
          "base_uri": "https://localhost:8080/"
        }
      },
      "source": [
        "from sklearn.metrics import confusion_matrix\n",
        "confusion_matrix_valid = confusion_matrix(y_test, y_test_pred)\n",
        "print(confusion_matrix_valid)"
      ],
      "execution_count": null,
      "outputs": [
        {
          "output_type": "stream",
          "text": [
            "[[4276    0    0    0    0    0]\n",
            " [ 824    0    0    0    0    0]\n",
            " [ 120    0    0    0    0    0]\n",
            " [  25    0    0    0    0    0]\n",
            " [   3    0    0    0    0    0]\n",
            " [   4    0    0    0    0    0]]\n"
          ],
          "name": "stdout"
        }
      ]
    }
  ]
}