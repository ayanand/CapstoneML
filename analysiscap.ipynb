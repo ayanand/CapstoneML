{
  "nbformat": 4,
  "nbformat_minor": 0,
  "metadata": {
    "colab": {
      "name": "analysiscap.ipynb",
      "provenance": [],
      "collapsed_sections": [],
      "include_colab_link": true
    },
    "kernelspec": {
      "display_name": "Python 3",
      "name": "python3"
    },
    "accelerator": "TPU"
  },
  "cells": [
    {
      "cell_type": "markdown",
      "metadata": {
        "id": "view-in-github",
        "colab_type": "text"
      },
      "source": [
        "<a href=\"https://colab.research.google.com/github/ayanand/CapstoneML/blob/main/analysiscap.ipynb\" target=\"_parent\"><img src=\"https://colab.research.google.com/assets/colab-badge.svg\" alt=\"Open In Colab\"/></a>"
      ]
    },
    {
      "cell_type": "markdown",
      "metadata": {
        "id": "HQI44picvWYs"
      },
      "source": [
        "<table align=\"left\">\n",
        "  <td>\n",
        "    <a target=\"_blank\" href=\"https://colab.research.google.com/github/ayanand/CapstoneML/blob/main/analysiscap.ipynb\"><img src=\"https://www.tensorflow.org/images/colab_logo_32px.png\" />Run in Google Colab</a>\n",
        "  </td>\n",
        "</table>"
      ]
    },
    {
      "cell_type": "code",
      "metadata": {
        "id": "_WCXOdd8KFCm",
        "outputId": "616f9bc0-b5ee-4cfe-a1fb-0bae48baeb26",
        "colab": {
          "base_uri": "https://localhost:8080/"
        }
      },
      "source": [
        "import pandas as pd\n",
        "!pip install fsspec\n",
        "!pip install gcsfs \n",
        " \n",
        " \n"
      ],
      "execution_count": 4,
      "outputs": [
        {
          "output_type": "stream",
          "text": [
            "Requirement already satisfied: fsspec in /usr/local/lib/python3.6/dist-packages (0.8.4)\n",
            "Requirement already satisfied: gcsfs in /usr/local/lib/python3.6/dist-packages (0.7.1)\n",
            "Requirement already satisfied: aiohttp in /usr/local/lib/python3.6/dist-packages (from gcsfs) (3.7.2)\n",
            "Requirement already satisfied: google-auth-oauthlib in /usr/local/lib/python3.6/dist-packages (from gcsfs) (0.4.2)\n",
            "Requirement already satisfied: fsspec>=0.8.0 in /usr/local/lib/python3.6/dist-packages (from gcsfs) (0.8.4)\n",
            "Requirement already satisfied: decorator in /usr/local/lib/python3.6/dist-packages (from gcsfs) (4.4.2)\n",
            "Requirement already satisfied: google-auth>=1.2 in /usr/local/lib/python3.6/dist-packages (from gcsfs) (1.17.2)\n",
            "Requirement already satisfied: requests in /usr/local/lib/python3.6/dist-packages (from gcsfs) (2.23.0)\n",
            "Requirement already satisfied: async-timeout<4.0,>=3.0 in /usr/local/lib/python3.6/dist-packages (from aiohttp->gcsfs) (3.0.1)\n",
            "Requirement already satisfied: multidict<7.0,>=4.5 in /usr/local/lib/python3.6/dist-packages (from aiohttp->gcsfs) (5.0.2)\n",
            "Requirement already satisfied: chardet<4.0,>=2.0 in /usr/local/lib/python3.6/dist-packages (from aiohttp->gcsfs) (3.0.4)\n",
            "Requirement already satisfied: typing-extensions>=3.6.5 in /usr/local/lib/python3.6/dist-packages (from aiohttp->gcsfs) (3.7.4.3)\n",
            "Requirement already satisfied: yarl<2.0,>=1.0 in /usr/local/lib/python3.6/dist-packages (from aiohttp->gcsfs) (1.6.3)\n",
            "Requirement already satisfied: idna-ssl>=1.0; python_version < \"3.7\" in /usr/local/lib/python3.6/dist-packages (from aiohttp->gcsfs) (1.1.0)\n",
            "Requirement already satisfied: attrs>=17.3.0 in /usr/local/lib/python3.6/dist-packages (from aiohttp->gcsfs) (20.2.0)\n",
            "Requirement already satisfied: requests-oauthlib>=0.7.0 in /usr/local/lib/python3.6/dist-packages (from google-auth-oauthlib->gcsfs) (1.3.0)\n",
            "Requirement already satisfied: rsa<5,>=3.1.4; python_version >= \"3\" in /usr/local/lib/python3.6/dist-packages (from google-auth>=1.2->gcsfs) (4.6)\n",
            "Requirement already satisfied: pyasn1-modules>=0.2.1 in /usr/local/lib/python3.6/dist-packages (from google-auth>=1.2->gcsfs) (0.2.8)\n",
            "Requirement already satisfied: setuptools>=40.3.0 in /usr/local/lib/python3.6/dist-packages (from google-auth>=1.2->gcsfs) (50.3.2)\n",
            "Requirement already satisfied: six>=1.9.0 in /usr/local/lib/python3.6/dist-packages (from google-auth>=1.2->gcsfs) (1.15.0)\n",
            "Requirement already satisfied: cachetools<5.0,>=2.0.0 in /usr/local/lib/python3.6/dist-packages (from google-auth>=1.2->gcsfs) (4.1.1)\n",
            "Requirement already satisfied: certifi>=2017.4.17 in /usr/local/lib/python3.6/dist-packages (from requests->gcsfs) (2020.6.20)\n",
            "Requirement already satisfied: idna<3,>=2.5 in /usr/local/lib/python3.6/dist-packages (from requests->gcsfs) (2.10)\n",
            "Requirement already satisfied: urllib3!=1.25.0,!=1.25.1,<1.26,>=1.21.1 in /usr/local/lib/python3.6/dist-packages (from requests->gcsfs) (1.24.3)\n",
            "Requirement already satisfied: oauthlib>=3.0.0 in /usr/local/lib/python3.6/dist-packages (from requests-oauthlib>=0.7.0->google-auth-oauthlib->gcsfs) (3.1.0)\n",
            "Requirement already satisfied: pyasn1>=0.1.3 in /usr/local/lib/python3.6/dist-packages (from rsa<5,>=3.1.4; python_version >= \"3\"->google-auth>=1.2->gcsfs) (0.4.8)\n"
          ],
          "name": "stdout"
        }
      ]
    },
    {
      "cell_type": "code",
      "metadata": {
        "id": "ceLpAYLusrqu"
      },
      "source": [
        "df = pd.read_csv('gs://capstoragebucket2020/All_joined_v4.csv')"
      ],
      "execution_count": 5,
      "outputs": []
    },
    {
      "cell_type": "code",
      "metadata": {
        "id": "92U39KKyPT7O",
        "outputId": "3c795987-edf4-4ec9-f7b7-0b045763d47c",
        "colab": {
          "base_uri": "https://localhost:8080/",
          "height": 224
        }
      },
      "source": [
        "df.tail()"
      ],
      "execution_count": 6,
      "outputs": [
        {
          "output_type": "execute_result",
          "data": {
            "text/html": [
              "<div>\n",
              "<style scoped>\n",
              "    .dataframe tbody tr th:only-of-type {\n",
              "        vertical-align: middle;\n",
              "    }\n",
              "\n",
              "    .dataframe tbody tr th {\n",
              "        vertical-align: top;\n",
              "    }\n",
              "\n",
              "    .dataframe thead th {\n",
              "        text-align: right;\n",
              "    }\n",
              "</style>\n",
              "<table border=\"1\" class=\"dataframe\">\n",
              "  <thead>\n",
              "    <tr style=\"text-align: right;\">\n",
              "      <th></th>\n",
              "      <th>latitude</th>\n",
              "      <th>longitude</th>\n",
              "      <th>quarter</th>\n",
              "      <th>year</th>\n",
              "      <th>incendie_count</th>\n",
              "      <th>alarmes_incendies_count</th>\n",
              "      <th>total_crimes</th>\n",
              "      <th>vols_count</th>\n",
              "      <th>mefait_count</th>\n",
              "      <th>vol_de_vehicule_count</th>\n",
              "      <th>introduction_count</th>\n",
              "      <th>vol_moteur_count</th>\n",
              "      <th>infractions_entrainant_count</th>\n",
              "      <th>sum_etage_hors_sol</th>\n",
              "      <th>sum_nombre_logement</th>\n",
              "      <th>min_annee_construction</th>\n",
              "      <th>max_annee_construction</th>\n",
              "      <th>avg_annee_construction</th>\n",
              "      <th>sum_superficie_terrain</th>\n",
              "      <th>area</th>\n",
              "      <th>population</th>\n",
              "      <th>dwellings</th>\n",
              "      <th>households</th>\n",
              "      <th>averagehouseholdsize</th>\n",
              "      <th>averageage</th>\n",
              "      <th>averagesizeofcensusfamilies</th>\n",
              "      <th>workers</th>\n",
              "      <th>caserne_count</th>\n",
              "    </tr>\n",
              "  </thead>\n",
              "  <tbody>\n",
              "    <tr>\n",
              "      <th>11838</th>\n",
              "      <td>45.7</td>\n",
              "      <td>-73.48</td>\n",
              "      <td>3</td>\n",
              "      <td>2019</td>\n",
              "      <td>0</td>\n",
              "      <td>0</td>\n",
              "      <td>6</td>\n",
              "      <td>0</td>\n",
              "      <td>0</td>\n",
              "      <td>2</td>\n",
              "      <td>2</td>\n",
              "      <td>2</td>\n",
              "      <td>0</td>\n",
              "      <td>480</td>\n",
              "      <td>421</td>\n",
              "      <td>1890</td>\n",
              "      <td>2018</td>\n",
              "      <td>1975.681388</td>\n",
              "      <td>173165</td>\n",
              "      <td>0.32098</td>\n",
              "      <td>657</td>\n",
              "      <td>271</td>\n",
              "      <td>262</td>\n",
              "      <td>2.3</td>\n",
              "      <td>46.1</td>\n",
              "      <td>2.8</td>\n",
              "      <td>160</td>\n",
              "      <td>0</td>\n",
              "    </tr>\n",
              "    <tr>\n",
              "      <th>11839</th>\n",
              "      <td>45.7</td>\n",
              "      <td>-73.48</td>\n",
              "      <td>4</td>\n",
              "      <td>2019</td>\n",
              "      <td>0</td>\n",
              "      <td>0</td>\n",
              "      <td>2</td>\n",
              "      <td>0</td>\n",
              "      <td>0</td>\n",
              "      <td>0</td>\n",
              "      <td>1</td>\n",
              "      <td>1</td>\n",
              "      <td>0</td>\n",
              "      <td>480</td>\n",
              "      <td>421</td>\n",
              "      <td>1890</td>\n",
              "      <td>2018</td>\n",
              "      <td>1975.681388</td>\n",
              "      <td>173165</td>\n",
              "      <td>0.32098</td>\n",
              "      <td>657</td>\n",
              "      <td>271</td>\n",
              "      <td>262</td>\n",
              "      <td>2.3</td>\n",
              "      <td>46.1</td>\n",
              "      <td>2.8</td>\n",
              "      <td>160</td>\n",
              "      <td>0</td>\n",
              "    </tr>\n",
              "    <tr>\n",
              "      <th>11840</th>\n",
              "      <td>45.7</td>\n",
              "      <td>-73.48</td>\n",
              "      <td>1</td>\n",
              "      <td>2020</td>\n",
              "      <td>0</td>\n",
              "      <td>2</td>\n",
              "      <td>0</td>\n",
              "      <td>0</td>\n",
              "      <td>0</td>\n",
              "      <td>0</td>\n",
              "      <td>0</td>\n",
              "      <td>0</td>\n",
              "      <td>0</td>\n",
              "      <td>480</td>\n",
              "      <td>421</td>\n",
              "      <td>1890</td>\n",
              "      <td>2018</td>\n",
              "      <td>1975.681388</td>\n",
              "      <td>173165</td>\n",
              "      <td>0.32098</td>\n",
              "      <td>657</td>\n",
              "      <td>271</td>\n",
              "      <td>262</td>\n",
              "      <td>2.3</td>\n",
              "      <td>46.1</td>\n",
              "      <td>2.8</td>\n",
              "      <td>160</td>\n",
              "      <td>0</td>\n",
              "    </tr>\n",
              "    <tr>\n",
              "      <th>11841</th>\n",
              "      <td>45.7</td>\n",
              "      <td>-73.48</td>\n",
              "      <td>2</td>\n",
              "      <td>2020</td>\n",
              "      <td>0</td>\n",
              "      <td>3</td>\n",
              "      <td>1</td>\n",
              "      <td>0</td>\n",
              "      <td>1</td>\n",
              "      <td>0</td>\n",
              "      <td>0</td>\n",
              "      <td>0</td>\n",
              "      <td>0</td>\n",
              "      <td>480</td>\n",
              "      <td>421</td>\n",
              "      <td>1890</td>\n",
              "      <td>2018</td>\n",
              "      <td>1975.681388</td>\n",
              "      <td>173165</td>\n",
              "      <td>0.32098</td>\n",
              "      <td>657</td>\n",
              "      <td>271</td>\n",
              "      <td>262</td>\n",
              "      <td>2.3</td>\n",
              "      <td>46.1</td>\n",
              "      <td>2.8</td>\n",
              "      <td>160</td>\n",
              "      <td>0</td>\n",
              "    </tr>\n",
              "    <tr>\n",
              "      <th>11842</th>\n",
              "      <td>45.7</td>\n",
              "      <td>-73.48</td>\n",
              "      <td>3</td>\n",
              "      <td>2020</td>\n",
              "      <td>0</td>\n",
              "      <td>1</td>\n",
              "      <td>6</td>\n",
              "      <td>0</td>\n",
              "      <td>1</td>\n",
              "      <td>2</td>\n",
              "      <td>0</td>\n",
              "      <td>3</td>\n",
              "      <td>0</td>\n",
              "      <td>480</td>\n",
              "      <td>421</td>\n",
              "      <td>1890</td>\n",
              "      <td>2018</td>\n",
              "      <td>1975.681388</td>\n",
              "      <td>173165</td>\n",
              "      <td>0.32098</td>\n",
              "      <td>657</td>\n",
              "      <td>271</td>\n",
              "      <td>262</td>\n",
              "      <td>2.3</td>\n",
              "      <td>46.1</td>\n",
              "      <td>2.8</td>\n",
              "      <td>160</td>\n",
              "      <td>0</td>\n",
              "    </tr>\n",
              "  </tbody>\n",
              "</table>\n",
              "</div>"
            ],
            "text/plain": [
              "       latitude  longitude  ...  workers  caserne_count\n",
              "11838      45.7     -73.48  ...      160              0\n",
              "11839      45.7     -73.48  ...      160              0\n",
              "11840      45.7     -73.48  ...      160              0\n",
              "11841      45.7     -73.48  ...      160              0\n",
              "11842      45.7     -73.48  ...      160              0\n",
              "\n",
              "[5 rows x 28 columns]"
            ]
          },
          "metadata": {
            "tags": []
          },
          "execution_count": 6
        }
      ]
    },
    {
      "cell_type": "code",
      "metadata": {
        "id": "h4pz09PGUaDv"
      },
      "source": [
        "df=df.sort_values(by=['year', 'quarter','latitude','longitude'])"
      ],
      "execution_count": 7,
      "outputs": []
    },
    {
      "cell_type": "code",
      "metadata": {
        "id": "SmBmPxznXwOC",
        "outputId": "42cbf9df-869c-4be9-fbfb-b6b152b11351",
        "colab": {
          "base_uri": "https://localhost:8080/"
        }
      },
      "source": [
        "df['incendie_count'].value_counts()\n",
        "\n",
        "\n",
        "#Define three classes of fire risk by the summed number of fire incidence from 2015-2020\n",
        "#low risk < 5, moderate risk 5-15, high risk > 15\n",
        "df['fire'] = df['incendie_count']\n",
        "\n",
        "df['fire'][df['incendie_count']==0] = 0\n",
        "df['fire'][(df['incendie_count']>=1) & (df['incendie_count']<4)] = 1\n",
        "df['fire'][df['incendie_count']>=4] = 2\n",
        "\n",
        "\n",
        "\n",
        "  "
      ],
      "execution_count": 8,
      "outputs": [
        {
          "output_type": "stream",
          "text": [
            "/usr/local/lib/python3.6/dist-packages/ipykernel_launcher.py:8: SettingWithCopyWarning: \n",
            "A value is trying to be set on a copy of a slice from a DataFrame\n",
            "\n",
            "See the caveats in the documentation: https://pandas.pydata.org/pandas-docs/stable/user_guide/indexing.html#returning-a-view-versus-a-copy\n",
            "  \n",
            "/usr/local/lib/python3.6/dist-packages/ipykernel_launcher.py:9: SettingWithCopyWarning: \n",
            "A value is trying to be set on a copy of a slice from a DataFrame\n",
            "\n",
            "See the caveats in the documentation: https://pandas.pydata.org/pandas-docs/stable/user_guide/indexing.html#returning-a-view-versus-a-copy\n",
            "  if __name__ == '__main__':\n",
            "/usr/local/lib/python3.6/dist-packages/ipykernel_launcher.py:10: SettingWithCopyWarning: \n",
            "A value is trying to be set on a copy of a slice from a DataFrame\n",
            "\n",
            "See the caveats in the documentation: https://pandas.pydata.org/pandas-docs/stable/user_guide/indexing.html#returning-a-view-versus-a-copy\n",
            "  # Remove the CWD from sys.path while we load stuff.\n"
          ],
          "name": "stderr"
        }
      ]
    },
    {
      "cell_type": "code",
      "metadata": {
        "id": "JElOeWujjdd4"
      },
      "source": [
        "df_new = df\n",
        "df_new['year'] =2021- df_new['year']"
      ],
      "execution_count": 9,
      "outputs": []
    },
    {
      "cell_type": "code",
      "metadata": {
        "id": "tWvnjdPxnDVy"
      },
      "source": [
        "import geopy.distance\n",
        "\n",
        "def dist(x,y):\n",
        "  coords_1 = (45.504654, -73.56546)\n",
        "  coords_2 = (x, y)\n",
        "  return geopy.distance.vincenty(coords_1, coords_2).km\n"
      ],
      "execution_count": 10,
      "outputs": []
    },
    {
      "cell_type": "code",
      "metadata": {
        "id": "RcRq4GP7t2eZ"
      },
      "source": [
        "df_new['distance']=0"
      ],
      "execution_count": 11,
      "outputs": []
    },
    {
      "cell_type": "code",
      "metadata": {
        "id": "2vJyO2EXnPbJ",
        "outputId": "823dc372-48df-4b62-8525-2aef5528855e",
        "colab": {
          "base_uri": "https://localhost:8080/"
        }
      },
      "source": [
        "for x in range(0,len(df_new)-1):\n",
        "  df_new['distance'][x]=dist(df_new['latitude'][x], df_new['longitude'][x])"
      ],
      "execution_count": 12,
      "outputs": [
        {
          "output_type": "stream",
          "text": [
            "/usr/local/lib/python3.6/dist-packages/ipykernel_launcher.py:2: SettingWithCopyWarning: \n",
            "A value is trying to be set on a copy of a slice from a DataFrame\n",
            "\n",
            "See the caveats in the documentation: https://pandas.pydata.org/pandas-docs/stable/user_guide/indexing.html#returning-a-view-versus-a-copy\n",
            "  \n"
          ],
          "name": "stderr"
        }
      ]
    },
    {
      "cell_type": "code",
      "metadata": {
        "id": "ZTR0Fs2Ul0Aa",
        "outputId": "b977c945-cfdb-46f9-c2d8-5043678c95bb",
        "colab": {
          "base_uri": "https://localhost:8080/",
          "height": 379
        }
      },
      "source": [
        "df_new.tail(10)"
      ],
      "execution_count": 13,
      "outputs": [
        {
          "output_type": "execute_result",
          "data": {
            "text/html": [
              "<div>\n",
              "<style scoped>\n",
              "    .dataframe tbody tr th:only-of-type {\n",
              "        vertical-align: middle;\n",
              "    }\n",
              "\n",
              "    .dataframe tbody tr th {\n",
              "        vertical-align: top;\n",
              "    }\n",
              "\n",
              "    .dataframe thead th {\n",
              "        text-align: right;\n",
              "    }\n",
              "</style>\n",
              "<table border=\"1\" class=\"dataframe\">\n",
              "  <thead>\n",
              "    <tr style=\"text-align: right;\">\n",
              "      <th></th>\n",
              "      <th>latitude</th>\n",
              "      <th>longitude</th>\n",
              "      <th>quarter</th>\n",
              "      <th>year</th>\n",
              "      <th>incendie_count</th>\n",
              "      <th>alarmes_incendies_count</th>\n",
              "      <th>total_crimes</th>\n",
              "      <th>vols_count</th>\n",
              "      <th>mefait_count</th>\n",
              "      <th>vol_de_vehicule_count</th>\n",
              "      <th>introduction_count</th>\n",
              "      <th>vol_moteur_count</th>\n",
              "      <th>infractions_entrainant_count</th>\n",
              "      <th>sum_etage_hors_sol</th>\n",
              "      <th>sum_nombre_logement</th>\n",
              "      <th>min_annee_construction</th>\n",
              "      <th>max_annee_construction</th>\n",
              "      <th>avg_annee_construction</th>\n",
              "      <th>sum_superficie_terrain</th>\n",
              "      <th>area</th>\n",
              "      <th>population</th>\n",
              "      <th>dwellings</th>\n",
              "      <th>households</th>\n",
              "      <th>averagehouseholdsize</th>\n",
              "      <th>averageage</th>\n",
              "      <th>averagesizeofcensusfamilies</th>\n",
              "      <th>workers</th>\n",
              "      <th>caserne_count</th>\n",
              "      <th>fire</th>\n",
              "      <th>distance</th>\n",
              "    </tr>\n",
              "  </thead>\n",
              "  <tbody>\n",
              "    <tr>\n",
              "      <th>11545</th>\n",
              "      <td>45.66</td>\n",
              "      <td>-73.51</td>\n",
              "      <td>4</td>\n",
              "      <td>1</td>\n",
              "      <td>0</td>\n",
              "      <td>0</td>\n",
              "      <td>5</td>\n",
              "      <td>0</td>\n",
              "      <td>0</td>\n",
              "      <td>4</td>\n",
              "      <td>0</td>\n",
              "      <td>1</td>\n",
              "      <td>0</td>\n",
              "      <td>1207</td>\n",
              "      <td>1044</td>\n",
              "      <td>1941</td>\n",
              "      <td>2017</td>\n",
              "      <td>1984.169195</td>\n",
              "      <td>494180</td>\n",
              "      <td>0.28223</td>\n",
              "      <td>448</td>\n",
              "      <td>168</td>\n",
              "      <td>167</td>\n",
              "      <td>2.6</td>\n",
              "      <td>41.7</td>\n",
              "      <td>3.0</td>\n",
              "      <td>135</td>\n",
              "      <td>0</td>\n",
              "      <td>0</td>\n",
              "      <td>17</td>\n",
              "    </tr>\n",
              "    <tr>\n",
              "      <th>11569</th>\n",
              "      <td>45.66</td>\n",
              "      <td>-73.50</td>\n",
              "      <td>4</td>\n",
              "      <td>1</td>\n",
              "      <td>0</td>\n",
              "      <td>0</td>\n",
              "      <td>2</td>\n",
              "      <td>0</td>\n",
              "      <td>1</td>\n",
              "      <td>1</td>\n",
              "      <td>0</td>\n",
              "      <td>0</td>\n",
              "      <td>0</td>\n",
              "      <td>1953</td>\n",
              "      <td>1624</td>\n",
              "      <td>1925</td>\n",
              "      <td>2014</td>\n",
              "      <td>1976.802276</td>\n",
              "      <td>557374</td>\n",
              "      <td>0.30364</td>\n",
              "      <td>1090</td>\n",
              "      <td>395</td>\n",
              "      <td>388</td>\n",
              "      <td>2.8</td>\n",
              "      <td>39.9</td>\n",
              "      <td>3.0</td>\n",
              "      <td>290</td>\n",
              "      <td>0</td>\n",
              "      <td>0</td>\n",
              "      <td>18</td>\n",
              "    </tr>\n",
              "    <tr>\n",
              "      <th>11593</th>\n",
              "      <td>45.66</td>\n",
              "      <td>-73.49</td>\n",
              "      <td>4</td>\n",
              "      <td>1</td>\n",
              "      <td>0</td>\n",
              "      <td>0</td>\n",
              "      <td>1</td>\n",
              "      <td>0</td>\n",
              "      <td>0</td>\n",
              "      <td>1</td>\n",
              "      <td>0</td>\n",
              "      <td>0</td>\n",
              "      <td>0</td>\n",
              "      <td>490</td>\n",
              "      <td>542</td>\n",
              "      <td>1752</td>\n",
              "      <td>2018</td>\n",
              "      <td>1976.853933</td>\n",
              "      <td>178758</td>\n",
              "      <td>0.21275</td>\n",
              "      <td>487</td>\n",
              "      <td>212</td>\n",
              "      <td>210</td>\n",
              "      <td>2.2</td>\n",
              "      <td>47.9</td>\n",
              "      <td>2.6</td>\n",
              "      <td>110</td>\n",
              "      <td>0</td>\n",
              "      <td>0</td>\n",
              "      <td>18</td>\n",
              "    </tr>\n",
              "    <tr>\n",
              "      <th>11617</th>\n",
              "      <td>45.67</td>\n",
              "      <td>-73.55</td>\n",
              "      <td>4</td>\n",
              "      <td>1</td>\n",
              "      <td>0</td>\n",
              "      <td>0</td>\n",
              "      <td>1</td>\n",
              "      <td>0</td>\n",
              "      <td>0</td>\n",
              "      <td>1</td>\n",
              "      <td>0</td>\n",
              "      <td>0</td>\n",
              "      <td>0</td>\n",
              "      <td>874</td>\n",
              "      <td>607</td>\n",
              "      <td>1900</td>\n",
              "      <td>2017</td>\n",
              "      <td>1994.664671</td>\n",
              "      <td>196023</td>\n",
              "      <td>0.72304</td>\n",
              "      <td>453</td>\n",
              "      <td>158</td>\n",
              "      <td>154</td>\n",
              "      <td>2.7</td>\n",
              "      <td>43.1</td>\n",
              "      <td>2.7</td>\n",
              "      <td>75</td>\n",
              "      <td>0</td>\n",
              "      <td>0</td>\n",
              "      <td>18</td>\n",
              "    </tr>\n",
              "    <tr>\n",
              "      <th>11685</th>\n",
              "      <td>45.67</td>\n",
              "      <td>-73.51</td>\n",
              "      <td>4</td>\n",
              "      <td>1</td>\n",
              "      <td>0</td>\n",
              "      <td>2</td>\n",
              "      <td>2</td>\n",
              "      <td>0</td>\n",
              "      <td>0</td>\n",
              "      <td>0</td>\n",
              "      <td>0</td>\n",
              "      <td>2</td>\n",
              "      <td>0</td>\n",
              "      <td>459</td>\n",
              "      <td>576</td>\n",
              "      <td>1920</td>\n",
              "      <td>2015</td>\n",
              "      <td>1981.962264</td>\n",
              "      <td>338851</td>\n",
              "      <td>0.73267</td>\n",
              "      <td>720</td>\n",
              "      <td>345</td>\n",
              "      <td>343</td>\n",
              "      <td>2.0</td>\n",
              "      <td>47.3</td>\n",
              "      <td>2.7</td>\n",
              "      <td>165</td>\n",
              "      <td>1</td>\n",
              "      <td>0</td>\n",
              "      <td>18</td>\n",
              "    </tr>\n",
              "    <tr>\n",
              "      <th>11709</th>\n",
              "      <td>45.67</td>\n",
              "      <td>-73.50</td>\n",
              "      <td>4</td>\n",
              "      <td>1</td>\n",
              "      <td>0</td>\n",
              "      <td>0</td>\n",
              "      <td>2</td>\n",
              "      <td>0</td>\n",
              "      <td>0</td>\n",
              "      <td>0</td>\n",
              "      <td>1</td>\n",
              "      <td>1</td>\n",
              "      <td>0</td>\n",
              "      <td>1706</td>\n",
              "      <td>2237</td>\n",
              "      <td>1914</td>\n",
              "      <td>2019</td>\n",
              "      <td>1969.399127</td>\n",
              "      <td>518847</td>\n",
              "      <td>0.11503</td>\n",
              "      <td>505</td>\n",
              "      <td>285</td>\n",
              "      <td>273</td>\n",
              "      <td>1.8</td>\n",
              "      <td>43.2</td>\n",
              "      <td>2.6</td>\n",
              "      <td>100</td>\n",
              "      <td>0</td>\n",
              "      <td>0</td>\n",
              "      <td>19</td>\n",
              "    </tr>\n",
              "    <tr>\n",
              "      <th>11738</th>\n",
              "      <td>45.68</td>\n",
              "      <td>-73.50</td>\n",
              "      <td>4</td>\n",
              "      <td>1</td>\n",
              "      <td>0</td>\n",
              "      <td>0</td>\n",
              "      <td>5</td>\n",
              "      <td>0</td>\n",
              "      <td>1</td>\n",
              "      <td>3</td>\n",
              "      <td>0</td>\n",
              "      <td>1</td>\n",
              "      <td>0</td>\n",
              "      <td>1377</td>\n",
              "      <td>898</td>\n",
              "      <td>1959</td>\n",
              "      <td>2019</td>\n",
              "      <td>1994.756098</td>\n",
              "      <td>465540</td>\n",
              "      <td>0.45534</td>\n",
              "      <td>821</td>\n",
              "      <td>422</td>\n",
              "      <td>386</td>\n",
              "      <td>2.1</td>\n",
              "      <td>37.5</td>\n",
              "      <td>2.7</td>\n",
              "      <td>335</td>\n",
              "      <td>0</td>\n",
              "      <td>0</td>\n",
              "      <td>20</td>\n",
              "    </tr>\n",
              "    <tr>\n",
              "      <th>11760</th>\n",
              "      <td>45.69</td>\n",
              "      <td>-73.50</td>\n",
              "      <td>4</td>\n",
              "      <td>1</td>\n",
              "      <td>0</td>\n",
              "      <td>0</td>\n",
              "      <td>2</td>\n",
              "      <td>0</td>\n",
              "      <td>0</td>\n",
              "      <td>0</td>\n",
              "      <td>2</td>\n",
              "      <td>0</td>\n",
              "      <td>0</td>\n",
              "      <td>254</td>\n",
              "      <td>285</td>\n",
              "      <td>1959</td>\n",
              "      <td>2018</td>\n",
              "      <td>1999.281967</td>\n",
              "      <td>75473</td>\n",
              "      <td>2.99229</td>\n",
              "      <td>1350</td>\n",
              "      <td>519</td>\n",
              "      <td>518</td>\n",
              "      <td>2.6</td>\n",
              "      <td>38.5</td>\n",
              "      <td>2.9</td>\n",
              "      <td>580</td>\n",
              "      <td>0</td>\n",
              "      <td>0</td>\n",
              "      <td>21</td>\n",
              "    </tr>\n",
              "    <tr>\n",
              "      <th>11784</th>\n",
              "      <td>45.69</td>\n",
              "      <td>-73.49</td>\n",
              "      <td>4</td>\n",
              "      <td>1</td>\n",
              "      <td>0</td>\n",
              "      <td>0</td>\n",
              "      <td>3</td>\n",
              "      <td>0</td>\n",
              "      <td>0</td>\n",
              "      <td>1</td>\n",
              "      <td>0</td>\n",
              "      <td>2</td>\n",
              "      <td>0</td>\n",
              "      <td>1754</td>\n",
              "      <td>1687</td>\n",
              "      <td>1925</td>\n",
              "      <td>2017</td>\n",
              "      <td>1990.051636</td>\n",
              "      <td>493065</td>\n",
              "      <td>0.20290</td>\n",
              "      <td>677</td>\n",
              "      <td>290</td>\n",
              "      <td>286</td>\n",
              "      <td>2.4</td>\n",
              "      <td>40.4</td>\n",
              "      <td>2.7</td>\n",
              "      <td>195</td>\n",
              "      <td>0</td>\n",
              "      <td>0</td>\n",
              "      <td>21</td>\n",
              "    </tr>\n",
              "    <tr>\n",
              "      <th>11819</th>\n",
              "      <td>45.70</td>\n",
              "      <td>-73.49</td>\n",
              "      <td>4</td>\n",
              "      <td>1</td>\n",
              "      <td>0</td>\n",
              "      <td>0</td>\n",
              "      <td>1</td>\n",
              "      <td>0</td>\n",
              "      <td>0</td>\n",
              "      <td>0</td>\n",
              "      <td>0</td>\n",
              "      <td>1</td>\n",
              "      <td>0</td>\n",
              "      <td>933</td>\n",
              "      <td>805</td>\n",
              "      <td>1900</td>\n",
              "      <td>2019</td>\n",
              "      <td>1997.866756</td>\n",
              "      <td>177975</td>\n",
              "      <td>0.48567</td>\n",
              "      <td>645</td>\n",
              "      <td>255</td>\n",
              "      <td>249</td>\n",
              "      <td>2.6</td>\n",
              "      <td>41.3</td>\n",
              "      <td>2.9</td>\n",
              "      <td>170</td>\n",
              "      <td>1</td>\n",
              "      <td>0</td>\n",
              "      <td>22</td>\n",
              "    </tr>\n",
              "  </tbody>\n",
              "</table>\n",
              "</div>"
            ],
            "text/plain": [
              "       latitude  longitude  quarter  ...  caserne_count  fire  distance\n",
              "11545     45.66     -73.51        4  ...              0     0        17\n",
              "11569     45.66     -73.50        4  ...              0     0        18\n",
              "11593     45.66     -73.49        4  ...              0     0        18\n",
              "11617     45.67     -73.55        4  ...              0     0        18\n",
              "11685     45.67     -73.51        4  ...              1     0        18\n",
              "11709     45.67     -73.50        4  ...              0     0        19\n",
              "11738     45.68     -73.50        4  ...              0     0        20\n",
              "11760     45.69     -73.50        4  ...              0     0        21\n",
              "11784     45.69     -73.49        4  ...              0     0        21\n",
              "11819     45.70     -73.49        4  ...              1     0        22\n",
              "\n",
              "[10 rows x 30 columns]"
            ]
          },
          "metadata": {
            "tags": []
          },
          "execution_count": 13
        }
      ]
    },
    {
      "cell_type": "code",
      "metadata": {
        "id": "5oZUDtx5eUeA"
      },
      "source": [
        "\n",
        "df_new = df_new.drop(\"latitude\", axis=1)\n",
        "df_new = df_new.drop(\"longitude\", axis=1)"
      ],
      "execution_count": 14,
      "outputs": []
    },
    {
      "cell_type": "code",
      "metadata": {
        "id": "MvFyPMxEqvmb"
      },
      "source": [
        "df_new = df_new.drop(\"min_annee_construction\", axis=1)\n",
        "df_new = df_new.drop(\"max_annee_construction\", axis=1)\n",
        "df_new = df_new.drop(\"incendie_count\", axis=1)"
      ],
      "execution_count": 15,
      "outputs": []
    },
    {
      "cell_type": "code",
      "metadata": {
        "id": "-LWydleGrmNu"
      },
      "source": [
        "#y= df_new[\"incendie_count\"].copy()\n",
        "y= df_new[\"fire\"].copy()\n",
        "X=df_new.drop(\"fire\", axis=1)"
      ],
      "execution_count": 16,
      "outputs": []
    },
    {
      "cell_type": "code",
      "metadata": {
        "id": "JEGM3TeiYtCc",
        "outputId": "165de865-e14e-4828-ad8a-4e90c81a7cf9",
        "colab": {
          "base_uri": "https://localhost:8080/"
        }
      },
      "source": [
        "y.value_counts()"
      ],
      "execution_count": 17,
      "outputs": [
        {
          "output_type": "execute_result",
          "data": {
            "text/plain": [
              "0    7633\n",
              "1    3967\n",
              "2     243\n",
              "Name: fire, dtype: int64"
            ]
          },
          "metadata": {
            "tags": []
          },
          "execution_count": 17
        }
      ]
    },
    {
      "cell_type": "code",
      "metadata": {
        "id": "P_QcyiBluE-j",
        "outputId": "72415aa6-433e-4ae5-bc45-cf4da24172fc",
        "colab": {
          "base_uri": "https://localhost:8080/"
        }
      },
      "source": [
        "len(X),len(y)"
      ],
      "execution_count": 18,
      "outputs": [
        {
          "output_type": "execute_result",
          "data": {
            "text/plain": [
              "(11843, 11843)"
            ]
          },
          "metadata": {
            "tags": []
          },
          "execution_count": 18
        }
      ]
    },
    {
      "cell_type": "code",
      "metadata": {
        "id": "J4L5lv-9eigq",
        "outputId": "b4b9695a-c302-457c-8bfe-789bbf5b50c9",
        "colab": {
          "base_uri": "https://localhost:8080/"
        }
      },
      "source": [
        "corr_matrix = df_new.corr()\n",
        "corr_matrix[\"fire\"].sort_values(ascending=False)"
      ],
      "execution_count": 19,
      "outputs": [
        {
          "output_type": "execute_result",
          "data": {
            "text/plain": [
              "fire                            1.000000\n",
              "sum_nombre_logement             0.479032\n",
              "total_crimes                    0.429216\n",
              "sum_etage_hors_sol              0.420503\n",
              "alarmes_incendies_count         0.410367\n",
              "mefait_count                    0.399054\n",
              "introduction_count              0.395315\n",
              "vols_count                      0.312964\n",
              "vol_moteur_count                0.309208\n",
              "vol_de_vehicule_count           0.209143\n",
              "caserne_count                   0.158662\n",
              "sum_superficie_terrain          0.084048\n",
              "dwellings                       0.061831\n",
              "infractions_entrainant_count    0.052661\n",
              "households                      0.036779\n",
              "year                            0.014774\n",
              "quarter                        -0.031297\n",
              "averageage                     -0.038386\n",
              "population                     -0.051500\n",
              "averagesizeofcensusfamilies    -0.071044\n",
              "workers                        -0.083336\n",
              "averagehouseholdsize           -0.167736\n",
              "area                           -0.202429\n",
              "avg_annee_construction         -0.207849\n",
              "distance                       -0.337583\n",
              "Name: fire, dtype: float64"
            ]
          },
          "metadata": {
            "tags": []
          },
          "execution_count": 19
        }
      ]
    },
    {
      "cell_type": "code",
      "metadata": {
        "id": "HWXc3Ixc112W",
        "outputId": "f5b9dbdc-6552-4cbd-b88e-66387bb44e31",
        "colab": {
          "base_uri": "https://localhost:8080/"
        }
      },
      "source": [
        "from sklearn.pipeline import Pipeline\n",
        "from sklearn.preprocessing import StandardScaler\n",
        "from sklearn.impute import SimpleImputer\n",
        "\n",
        "scaler = StandardScaler()\n",
        "scaler.fit(X)"
      ],
      "execution_count": 20,
      "outputs": [
        {
          "output_type": "execute_result",
          "data": {
            "text/plain": [
              "StandardScaler(copy=True, with_mean=True, with_std=True)"
            ]
          },
          "metadata": {
            "tags": []
          },
          "execution_count": 20
        }
      ]
    },
    {
      "cell_type": "code",
      "metadata": {
        "id": "IHQmG7342l0R"
      },
      "source": [
        "X=scaler.transform(X)"
      ],
      "execution_count": 21,
      "outputs": []
    },
    {
      "cell_type": "code",
      "metadata": {
        "id": "oCvRc7bj2IWo",
        "outputId": "96ce9fb4-75a1-4425-f963-6da8e615f3d4",
        "colab": {
          "base_uri": "https://localhost:8080/"
        }
      },
      "source": [
        "X"
      ],
      "execution_count": 22,
      "outputs": [
        {
          "output_type": "execute_result",
          "data": {
            "text/plain": [
              "array([[-1.33768027,  1.45578401, -0.73183283, ..., -1.19958877,\n",
              "        -0.38140348,  2.71451408],\n",
              "       [-1.33768027,  1.45578401, -0.61567372, ...,  1.22125921,\n",
              "        -0.38140348,  2.71451408],\n",
              "       [-1.33768027,  1.45578401, -0.73183283, ..., -0.20471974,\n",
              "        -0.38140348,  2.57144845],\n",
              "       ...,\n",
              "       [ 1.35992686, -1.49197451, -0.73183283, ...,  2.64723816,\n",
              "        -0.38140348,  1.28385784],\n",
              "       [ 1.35992686, -1.49197451, -0.73183283, ...,  0.09374097,\n",
              "        -0.38140348,  1.28385784],\n",
              "       [ 1.35992686, -1.49197451, -0.73183283, ..., -0.07207053,\n",
              "         2.62189533,  1.42692346]])"
            ]
          },
          "metadata": {
            "tags": []
          },
          "execution_count": 22
        }
      ]
    },
    {
      "cell_type": "code",
      "metadata": {
        "id": "McUjihhY3j6M"
      },
      "source": [
        "X=pd.DataFrame(X)"
      ],
      "execution_count": 23,
      "outputs": []
    },
    {
      "cell_type": "code",
      "metadata": {
        "id": "KHXaNIG7XNhh",
        "outputId": "486202bd-3679-410b-a6e6-a1daa2825d3f",
        "colab": {
          "base_uri": "https://localhost:8080/"
        }
      },
      "source": [
        "X_train=X[df_new['year'] > 2] # choose 2019 data as train\n",
        "# X_test =X[df_new['year'] == 2] # choose 2019 data as validation\n",
        "y_train = y[df_new['year'] > 2]\n",
        "# y_test = y[df_new['year'] == 2]\n",
        "\n",
        "X_test = X[df_new['year']*df_new['quarter'] == 2]\n",
        "y_test = y[df_new['year']*df_new['quarter'] == 2]\n",
        "\n",
        "len(X_train),len(X_test),len(y_train),len(y_test)"
      ],
      "execution_count": 24,
      "outputs": [
        {
          "output_type": "stream",
          "text": [
            "/usr/local/lib/python3.6/dist-packages/ipykernel_launcher.py:1: UserWarning: Boolean Series key will be reindexed to match DataFrame index.\n",
            "  \"\"\"Entry point for launching an IPython kernel.\n",
            "/usr/local/lib/python3.6/dist-packages/ipykernel_launcher.py:6: UserWarning: Boolean Series key will be reindexed to match DataFrame index.\n",
            "  \n"
          ],
          "name": "stderr"
        },
        {
          "output_type": "execute_result",
          "data": {
            "text/plain": [
              "(7999, 985, 7999, 985)"
            ]
          },
          "metadata": {
            "tags": []
          },
          "execution_count": 24
        }
      ]
    },
    {
      "cell_type": "code",
      "metadata": {
        "id": "3PgUfC_hsPBi",
        "outputId": "13260306-3b4f-4d6f-dd7b-b630331ac811",
        "colab": {
          "base_uri": "https://localhost:8080/"
        }
      },
      "source": [
        "from sklearn.model_selection import train_test_split\n",
        "train_set, test_set = train_test_split(df, test_size=0.2, random_state=42)\n",
        "\n",
        "#X_train, X_test, y_train, y_test = train_test_split(X, y,test_size=0.1,random_state=4)\n",
        "\n",
        "len(X_train),len(X_test),len(y_train),len(y_test)"
      ],
      "execution_count": 25,
      "outputs": [
        {
          "output_type": "execute_result",
          "data": {
            "text/plain": [
              "(7999, 985, 7999, 985)"
            ]
          },
          "metadata": {
            "tags": []
          },
          "execution_count": 25
        }
      ]
    },
    {
      "cell_type": "code",
      "metadata": {
        "id": "BeJT2RRby8P0",
        "outputId": "acae28f1-d6fe-4e66-b915-18802405c110",
        "colab": {
          "base_uri": "https://localhost:8080/"
        }
      },
      "source": [
        "y_train.value_counts(), y_test.value_counts()"
      ],
      "execution_count": 26,
      "outputs": [
        {
          "output_type": "execute_result",
          "data": {
            "text/plain": [
              "(0    5111\n",
              " 1    2730\n",
              " 2     158\n",
              " Name: fire, dtype: int64, 0    594\n",
              " 1    359\n",
              " 2     32\n",
              " Name: fire, dtype: int64)"
            ]
          },
          "metadata": {
            "tags": []
          },
          "execution_count": 26
        }
      ]
    },
    {
      "cell_type": "code",
      "metadata": {
        "id": "iSo3kOA9uN6B",
        "outputId": "a7555ba7-26a3-4860-85cf-1c8f5de4e60a",
        "colab": {
          "base_uri": "https://localhost:8080/"
        }
      },
      "source": [
        "from sklearn.linear_model import LinearRegression\n",
        "\n",
        "lin_reg = LinearRegression()\n",
        "lin_reg.fit(X_train, y_train)"
      ],
      "execution_count": 27,
      "outputs": [
        {
          "output_type": "execute_result",
          "data": {
            "text/plain": [
              "LinearRegression(copy_X=True, fit_intercept=True, n_jobs=None, normalize=False)"
            ]
          },
          "metadata": {
            "tags": []
          },
          "execution_count": 27
        }
      ]
    },
    {
      "cell_type": "code",
      "metadata": {
        "id": "HFmjwgeqxTyz",
        "outputId": "a4540070-a0c4-468a-b2a9-34f7385d5807",
        "colab": {
          "base_uri": "https://localhost:8080/"
        }
      },
      "source": [
        "lin_reg.coef_"
      ],
      "execution_count": 28,
      "outputs": [
        {
          "output_type": "execute_result",
          "data": {
            "text/plain": [
              "array([-0.00987946, -0.00619627, -0.00058286,  0.00195958, -0.01725819,\n",
              "        0.01468588,  0.00633329, -0.00913029,  0.0071238 ,  0.00530306,\n",
              "        0.01103089, -0.02182501, -0.00092116,  0.0074872 , -0.00269852,\n",
              "       -0.00320891, -0.06158341,  0.03598371, -0.01136817,  0.00201971,\n",
              "        0.00922054,  0.03299613,  0.00827337, -0.01443288])"
            ]
          },
          "metadata": {
            "tags": []
          },
          "execution_count": 28
        }
      ]
    },
    {
      "cell_type": "code",
      "metadata": {
        "id": "I27LC6U7xllU",
        "outputId": "41aaee99-ee70-4445-ea3e-1b74861b349b",
        "colab": {
          "base_uri": "https://localhost:8080/"
        }
      },
      "source": [
        "print(lin_reg.score(X_train, y_train))"
      ],
      "execution_count": 29,
      "outputs": [
        {
          "output_type": "stream",
          "text": [
            "0.0034505455696143272\n"
          ],
          "name": "stdout"
        }
      ]
    },
    {
      "cell_type": "code",
      "metadata": {
        "id": "srGbLKMTxs_w",
        "outputId": "a7d6c9b6-14e9-4677-a315-cf01bdbe1dac",
        "colab": {
          "base_uri": "https://localhost:8080/"
        }
      },
      "source": [
        "\n",
        "print(lin_reg.score(X_test,y_test))"
      ],
      "execution_count": 30,
      "outputs": [
        {
          "output_type": "stream",
          "text": [
            "-0.013137920992844167\n"
          ],
          "name": "stdout"
        }
      ]
    },
    {
      "cell_type": "code",
      "metadata": {
        "id": "U08h8hDnZD9f",
        "outputId": "074cc87d-be09-467d-fc70-6c1722d7ddd8",
        "colab": {
          "base_uri": "https://localhost:8080/"
        }
      },
      "source": [
        "from sklearn.tree import DecisionTreeRegressor\n",
        "\n",
        "tree_reg = DecisionTreeRegressor(random_state=42,max_depth=5)\n",
        "tree_reg.fit(X_train, y_train)"
      ],
      "execution_count": 31,
      "outputs": [
        {
          "output_type": "execute_result",
          "data": {
            "text/plain": [
              "DecisionTreeRegressor(ccp_alpha=0.0, criterion='mse', max_depth=5,\n",
              "                      max_features=None, max_leaf_nodes=None,\n",
              "                      min_impurity_decrease=0.0, min_impurity_split=None,\n",
              "                      min_samples_leaf=1, min_samples_split=2,\n",
              "                      min_weight_fraction_leaf=0.0, presort='deprecated',\n",
              "                      random_state=42, splitter='best')"
            ]
          },
          "metadata": {
            "tags": []
          },
          "execution_count": 31
        }
      ]
    },
    {
      "cell_type": "code",
      "metadata": {
        "id": "pPaowI3aZK6a",
        "outputId": "a4a7d114-0752-4a8f-fbef-6583662e0238",
        "colab": {
          "base_uri": "https://localhost:8080/"
        }
      },
      "source": [
        "from sklearn.metrics import mean_squared_error\n",
        "import numpy as np\n",
        "\n",
        "y_predictions = tree_reg.predict(X_test)\n",
        "tree_mse = mean_squared_error(y_test, y_predictions)\n",
        "tree_rmse = np.sqrt(tree_mse)\n",
        "tree_rmse"
      ],
      "execution_count": 32,
      "outputs": [
        {
          "output_type": "execute_result",
          "data": {
            "text/plain": [
              "0.5604106921284754"
            ]
          },
          "metadata": {
            "tags": []
          },
          "execution_count": 32
        }
      ]
    },
    {
      "cell_type": "code",
      "metadata": {
        "id": "vrkr_BGkww3w",
        "outputId": "f6ae09a1-7c48-4191-d50f-e42ae5612af6",
        "colab": {
          "base_uri": "https://localhost:8080/"
        }
      },
      "source": [
        "Xyz=pd.DataFrame(y_predictions)\n",
        "\n",
        "Xyz.value_counts(), y_test.value_counts()"
      ],
      "execution_count": 33,
      "outputs": [
        {
          "output_type": "execute_result",
          "data": {
            "text/plain": [
              "(0.381738    684\n",
              " 0.333333    153\n",
              " 0.491736     59\n",
              " 0.361039     58\n",
              " 0.568421     10\n",
              " 0.146667     10\n",
              " 0.476190      3\n",
              " 0.437500      3\n",
              " 0.377778      2\n",
              " 0.193548      2\n",
              " 0.750000      1\n",
              " dtype: int64, 0    594\n",
              " 1    359\n",
              " 2     32\n",
              " Name: fire, dtype: int64)"
            ]
          },
          "metadata": {
            "tags": []
          },
          "execution_count": 33
        }
      ]
    },
    {
      "cell_type": "code",
      "metadata": {
        "id": "U8QdZB2lZuOc",
        "outputId": "c5efccb8-8115-43e8-c3f9-6e62217604ce",
        "colab": {
          "base_uri": "https://localhost:8080/"
        }
      },
      "source": [
        "from sklearn.ensemble import RandomForestRegressor\n",
        "\n",
        "forest_reg = RandomForestRegressor(n_estimators=10, random_state=42, max_depth=10)\n",
        "forest_reg.fit(X_train, y_train)"
      ],
      "execution_count": 34,
      "outputs": [
        {
          "output_type": "execute_result",
          "data": {
            "text/plain": [
              "RandomForestRegressor(bootstrap=True, ccp_alpha=0.0, criterion='mse',\n",
              "                      max_depth=10, max_features='auto', max_leaf_nodes=None,\n",
              "                      max_samples=None, min_impurity_decrease=0.0,\n",
              "                      min_impurity_split=None, min_samples_leaf=1,\n",
              "                      min_samples_split=2, min_weight_fraction_leaf=0.0,\n",
              "                      n_estimators=10, n_jobs=None, oob_score=False,\n",
              "                      random_state=42, verbose=0, warm_start=False)"
            ]
          },
          "metadata": {
            "tags": []
          },
          "execution_count": 34
        }
      ]
    },
    {
      "cell_type": "code",
      "metadata": {
        "id": "DJyjTgkpZ8U5",
        "outputId": "9793f2e4-5c0f-43a1-fd49-f4655409194b",
        "colab": {
          "base_uri": "https://localhost:8080/"
        }
      },
      "source": [
        "print(str(forest_reg.score(X_train, y_train)) + \" \"+ str(forest_reg.score(X_test, y_test) ))"
      ],
      "execution_count": 35,
      "outputs": [
        {
          "output_type": "stream",
          "text": [
            "0.17484114049201815 -0.041123344432210995\n"
          ],
          "name": "stdout"
        }
      ]
    },
    {
      "cell_type": "code",
      "metadata": {
        "id": "ZCYsAhUY5auE",
        "outputId": "65f4c6e1-41a0-4dee-bf7c-fbcd9f3af92b",
        "colab": {
          "base_uri": "https://localhost:8080/"
        }
      },
      "source": [
        "from numpy import mean\n",
        "from numpy import std\n",
        "from sklearn.datasets import make_classification\n",
        "from sklearn.model_selection import KFold\n",
        "from sklearn.model_selection import cross_val_score\n",
        "from xgboost import XGBClassifier\n",
        "# prepare the cross-validation procedure\n",
        "cv = KFold(n_splits=5, random_state=1, shuffle=True)\n",
        "# create model\n",
        "xgboost = XGBClassifier()\n",
        "# evaluate model\n",
        "xgboost_scores = cross_val_score(xgboost, X_train, y_train, scoring='accuracy', cv=cv, n_jobs=-1)\n",
        "print('Accuracy: %.3f (%.3f)' % (mean(xgboost_scores ), std(xgboost_scores )))"
      ],
      "execution_count": 36,
      "outputs": [
        {
          "output_type": "stream",
          "text": [
            "Accuracy: 0.634 (0.005)\n"
          ],
          "name": "stdout"
        }
      ]
    },
    {
      "cell_type": "code",
      "metadata": {
        "id": "DxISOaQb6VOf",
        "outputId": "1ce1f6c4-b7e7-4d42-854b-06907f376f9e",
        "colab": {
          "base_uri": "https://localhost:8080/"
        }
      },
      "source": [
        "\n",
        "xgboost.fit(X_train, y_train)"
      ],
      "execution_count": 37,
      "outputs": [
        {
          "output_type": "execute_result",
          "data": {
            "text/plain": [
              "XGBClassifier(base_score=0.5, booster='gbtree', colsample_bylevel=1,\n",
              "              colsample_bynode=1, colsample_bytree=1, gamma=0,\n",
              "              learning_rate=0.1, max_delta_step=0, max_depth=3,\n",
              "              min_child_weight=1, missing=None, n_estimators=100, n_jobs=1,\n",
              "              nthread=None, objective='multi:softprob', random_state=0,\n",
              "              reg_alpha=0, reg_lambda=1, scale_pos_weight=1, seed=None,\n",
              "              silent=None, subsample=1, verbosity=1)"
            ]
          },
          "metadata": {
            "tags": []
          },
          "execution_count": 37
        }
      ]
    },
    {
      "cell_type": "code",
      "metadata": {
        "id": "RINy6Ql06gud"
      },
      "source": [
        "y_test_pred = xgboost.predict(X_test)"
      ],
      "execution_count": 38,
      "outputs": []
    },
    {
      "cell_type": "code",
      "metadata": {
        "id": "nxYfZX9i6rIl",
        "outputId": "505b9482-deca-4334-8536-704f29da49a3",
        "colab": {
          "base_uri": "https://localhost:8080/"
        }
      },
      "source": [
        "\n",
        "print('Accuracy of XGboost classifier on test set: {:.2f}'.format(xgboost.score(X_test, y_test)))"
      ],
      "execution_count": 39,
      "outputs": [
        {
          "output_type": "stream",
          "text": [
            "Accuracy of XGboost classifier on test set: 0.60\n"
          ],
          "name": "stdout"
        }
      ]
    },
    {
      "cell_type": "code",
      "metadata": {
        "id": "A5l-PxxZ633b",
        "outputId": "450df1cf-fb1b-496a-fc6c-a27a1023a5ed",
        "colab": {
          "base_uri": "https://localhost:8080/"
        }
      },
      "source": [
        "from sklearn.metrics import confusion_matrix\n",
        "confusion_matrix_valid = confusion_matrix(y_test, y_test_pred)\n",
        "print(confusion_matrix_valid)"
      ],
      "execution_count": 40,
      "outputs": [
        {
          "output_type": "stream",
          "text": [
            "[[588   6   0]\n",
            " [357   2   0]\n",
            " [ 32   0   0]]\n"
          ],
          "name": "stdout"
        }
      ]
    },
    {
      "cell_type": "code",
      "metadata": {
        "id": "0y1DnYwpeIKb"
      },
      "source": [
        "from sklearn.preprocessing import PolynomialFeatures\n",
        "poly_features = PolynomialFeatures(degree=3, include_bias=False)\n",
        "X_poly = poly_features.fit_transform(X_train)\n",
        "\n"
      ],
      "execution_count": 41,
      "outputs": []
    },
    {
      "cell_type": "code",
      "metadata": {
        "id": "3tF4VZ0JeXS-",
        "outputId": "83b24e98-f56f-4037-b418-4a8742a8e6cd",
        "colab": {
          "base_uri": "https://localhost:8080/"
        }
      },
      "source": [
        "lin_reg = LinearRegression()\n",
        "lin_reg.fit(X_poly, y_train)\n"
      ],
      "execution_count": 42,
      "outputs": [
        {
          "output_type": "execute_result",
          "data": {
            "text/plain": [
              "LinearRegression(copy_X=True, fit_intercept=True, n_jobs=None, normalize=False)"
            ]
          },
          "metadata": {
            "tags": []
          },
          "execution_count": 42
        }
      ]
    },
    {
      "cell_type": "code",
      "metadata": {
        "id": "XvesVVeyeXHN",
        "outputId": "cc574536-e85c-4d80-da36-d2c6c3d9ac77",
        "colab": {
          "base_uri": "https://localhost:8080/"
        }
      },
      "source": [
        "print(lin_reg.score(X_poly, y_train))"
      ],
      "execution_count": 43,
      "outputs": [
        {
          "output_type": "stream",
          "text": [
            "0.27440677709213723\n"
          ],
          "name": "stdout"
        }
      ]
    },
    {
      "cell_type": "code",
      "metadata": {
        "id": "A-5Q11ygnNoy",
        "outputId": "2197d715-5f2b-4b81-9540-f7ba3fbbf0a3",
        "colab": {
          "base_uri": "https://localhost:8080/"
        }
      },
      "source": [
        "print(lin_reg.score(X_poly, y_train))"
      ],
      "execution_count": 44,
      "outputs": [
        {
          "output_type": "stream",
          "text": [
            "0.27440677709213723\n"
          ],
          "name": "stdout"
        }
      ]
    },
    {
      "cell_type": "code",
      "metadata": {
        "id": "KRhNuwExoR36",
        "outputId": "dd444886-77e8-45f1-c599-86e7ab104ee6",
        "colab": {
          "base_uri": "https://localhost:8080/"
        }
      },
      "source": [
        "from sklearn.svm import SVC\n",
        "\n",
        "\n",
        "svm_clf=SVC()\n",
        "svm_clf.fit(X_train,y_train)"
      ],
      "execution_count": 45,
      "outputs": [
        {
          "output_type": "execute_result",
          "data": {
            "text/plain": [
              "SVC(C=1.0, break_ties=False, cache_size=200, class_weight=None, coef0=0.0,\n",
              "    decision_function_shape='ovr', degree=3, gamma='scale', kernel='rbf',\n",
              "    max_iter=-1, probability=False, random_state=None, shrinking=True,\n",
              "    tol=0.001, verbose=False)"
            ]
          },
          "metadata": {
            "tags": []
          },
          "execution_count": 45
        }
      ]
    },
    {
      "cell_type": "code",
      "metadata": {
        "id": "3f9DLuoKomLO",
        "outputId": "e472ed34-e09a-4e23-db8a-f607ac4c60b2",
        "colab": {
          "base_uri": "https://localhost:8080/"
        }
      },
      "source": [
        "y_predictions=svm_clf.predict(X_test)\n",
        "tree_mse = mean_squared_error(y_test, y_predictions)\n",
        "tree_rmse = np.sqrt(tree_mse)\n",
        "print(tree_rmse)\n",
        "confusion_matrix_valid = confusion_matrix(y_test, y_predictions)\n",
        "print(confusion_matrix_valid)"
      ],
      "execution_count": 46,
      "outputs": [
        {
          "output_type": "stream",
          "text": [
            "0.7067477525870188\n",
            "[[587   7   0]\n",
            " [357   2   0]\n",
            " [ 32   0   0]]\n"
          ],
          "name": "stdout"
        }
      ]
    },
    {
      "cell_type": "code",
      "metadata": {
        "id": "xDwCYPnlp10v",
        "outputId": "a2995632-adfc-4419-cd52-932d72fc0730",
        "colab": {
          "base_uri": "https://localhost:8080/"
        }
      },
      "source": [
        "cross_val_score(svm_clf,X_test,y_test,cv=3,scoring=\"accuracy\")"
      ],
      "execution_count": 47,
      "outputs": [
        {
          "output_type": "execute_result",
          "data": {
            "text/plain": [
              "array([0.59878419, 0.60060976, 0.58841463])"
            ]
          },
          "metadata": {
            "tags": []
          },
          "execution_count": 47
        }
      ]
    },
    {
      "cell_type": "code",
      "metadata": {
        "id": "EsI5FfONri2P",
        "outputId": "366e987b-8276-4d8b-9f58-af1af9e4a98e",
        "colab": {
          "base_uri": "https://localhost:8080/"
        }
      },
      "source": [
        "from sklearn.svm import LinearSVC\n",
        "\n",
        "svm_clf2 = LinearSVC(max_iter=10000)\n",
        "svm_clf2.fit(X_train,y_train)"
      ],
      "execution_count": 48,
      "outputs": [
        {
          "output_type": "stream",
          "text": [
            "/usr/local/lib/python3.6/dist-packages/sklearn/svm/_base.py:947: ConvergenceWarning: Liblinear failed to converge, increase the number of iterations.\n",
            "  \"the number of iterations.\", ConvergenceWarning)\n"
          ],
          "name": "stderr"
        },
        {
          "output_type": "execute_result",
          "data": {
            "text/plain": [
              "LinearSVC(C=1.0, class_weight=None, dual=True, fit_intercept=True,\n",
              "          intercept_scaling=1, loss='squared_hinge', max_iter=10000,\n",
              "          multi_class='ovr', penalty='l2', random_state=None, tol=0.0001,\n",
              "          verbose=0)"
            ]
          },
          "metadata": {
            "tags": []
          },
          "execution_count": 48
        }
      ]
    },
    {
      "cell_type": "code",
      "metadata": {
        "id": "Wg9N93jTr6fh",
        "outputId": "2318f281-e6a0-46ed-ce4f-9fd327e8caaf",
        "colab": {
          "base_uri": "https://localhost:8080/"
        }
      },
      "source": [
        "y_predictions=svm_clf2.predict(X_test)\n",
        "tree_mse = mean_squared_error(y_test, y_predictions)\n",
        "tree_rmse = np.sqrt(tree_mse)\n",
        "print(tree_rmse)\n",
        "confusion_matrix_valid = confusion_matrix(y_test, y_predictions)\n",
        "print(confusion_matrix_valid)"
      ],
      "execution_count": 49,
      "outputs": [
        {
          "output_type": "stream",
          "text": [
            "0.7031473840204643\n",
            "[[594   0   0]\n",
            " [359   0   0]\n",
            " [ 32   0   0]]\n"
          ],
          "name": "stdout"
        }
      ]
    },
    {
      "cell_type": "code",
      "metadata": {
        "id": "-etNa1dNs9ZC",
        "outputId": "ed615d86-e487-411f-8564-0fdf299f7677",
        "colab": {
          "base_uri": "https://localhost:8080/"
        }
      },
      "source": [
        "from sklearn.svm import SVC\n",
        "\n",
        "svm_clf2 = SVC(kernel=\"poly\", degree =3, coef0=1,C=5)\n",
        "svm_clf2.fit(X_train,y_train)"
      ],
      "execution_count": 50,
      "outputs": [
        {
          "output_type": "execute_result",
          "data": {
            "text/plain": [
              "SVC(C=5, break_ties=False, cache_size=200, class_weight=None, coef0=1,\n",
              "    decision_function_shape='ovr', degree=3, gamma='scale', kernel='poly',\n",
              "    max_iter=-1, probability=False, random_state=None, shrinking=True,\n",
              "    tol=0.001, verbose=False)"
            ]
          },
          "metadata": {
            "tags": []
          },
          "execution_count": 50
        }
      ]
    },
    {
      "cell_type": "code",
      "metadata": {
        "id": "PoH7qhiptRjO",
        "outputId": "069e2ffa-f5af-4c03-b5c5-9778c613a1f2",
        "colab": {
          "base_uri": "https://localhost:8080/"
        }
      },
      "source": [
        "y_predictions=svm_clf2.predict(X_test)\n",
        "tree_mse = mean_squared_error(y_test, y_predictions)\n",
        "tree_rmse = np.sqrt(tree_mse)\n",
        "print(tree_rmse)\n",
        "confusion_matrix_valid = confusion_matrix(y_test, y_predictions)\n",
        "print(confusion_matrix_valid)"
      ],
      "execution_count": 51,
      "outputs": [
        {
          "output_type": "stream",
          "text": [
            "0.7067477525870188\n",
            "[[568  24   2]\n",
            " [334  24   1]\n",
            " [ 31   1   0]]\n"
          ],
          "name": "stdout"
        }
      ]
    },
    {
      "cell_type": "code",
      "metadata": {
        "id": "jKhsvMXuuwnA"
      },
      "source": [
        "%tensorflow_version 2.x\n",
        "import tensorflow.keras.backend as K\n",
        "from tensorflow.keras.models import Sequential\n",
        "from tensorflow.keras.layers import Dense, Activation\n",
        "from tensorflow.keras.optimizers import SGD"
      ],
      "execution_count": 52,
      "outputs": []
    },
    {
      "cell_type": "code",
      "metadata": {
        "id": "MKMt5nK_u1nh",
        "outputId": "3c8fa89f-4f2e-4a10-81f4-da24314f2a25",
        "colab": {
          "base_uri": "https://localhost:8080/"
        }
      },
      "source": [
        "#K.clear_session()\n",
        "\n",
        "model = Sequential()\n",
        "model.add(Dense(1, input_shape=(24,), activation='softmax'))\n",
        "model.add(Dense(10, activation='softmax'))\n",
        "model.add(Dense(10, activation='softmax'))\n",
        "model.add(Dense(10, activation='softmax'))\n",
        "model.add(Dense(3, activation='softmax'))\n",
        "\n",
        "model.compile(loss='binary_crossentropy',\n",
        "              optimizer='sgd',\n",
        "              metrics=['accuracy'])\n",
        "\n",
        "history = model.fit(X_train, y_train)\n",
        "result = model.evaluate(X_test, y_test)"
      ],
      "execution_count": 53,
      "outputs": [
        {
          "output_type": "stream",
          "text": [
            "250/250 [==============================] - 0s 1ms/step - loss: 0.6739 - accuracy: 0.3413\n",
            "31/31 [==============================] - 0s 897us/step - loss: 0.7058 - accuracy: 0.3645\n"
          ],
          "name": "stdout"
        }
      ]
    },
    {
      "cell_type": "code",
      "metadata": {
        "id": "dLCluU2gNihE",
        "outputId": "f1fd09e4-6143-4557-de52-2dcdfb302adf",
        "colab": {
          "base_uri": "https://localhost:8080/"
        }
      },
      "source": [
        "#test softmax regression\n",
        "\n",
        "from sklearn.linear_model import LogisticRegression\n",
        "\n",
        "softmax_reg = LogisticRegression(multi_class=\"multinomial\",solver=\"lbfgs\", C=10, random_state=42,max_iter=1000)\n",
        "softmax_reg.fit(X_train, y_train)"
      ],
      "execution_count": 54,
      "outputs": [
        {
          "output_type": "execute_result",
          "data": {
            "text/plain": [
              "LogisticRegression(C=10, class_weight=None, dual=False, fit_intercept=True,\n",
              "                   intercept_scaling=1, l1_ratio=None, max_iter=1000,\n",
              "                   multi_class='multinomial', n_jobs=None, penalty='l2',\n",
              "                   random_state=42, solver='lbfgs', tol=0.0001, verbose=0,\n",
              "                   warm_start=False)"
            ]
          },
          "metadata": {
            "tags": []
          },
          "execution_count": 54
        }
      ]
    },
    {
      "cell_type": "code",
      "metadata": {
        "id": "5QzTnV6oOf42",
        "outputId": "e837dd84-cf19-4161-b543-c76f728cc0b6",
        "colab": {
          "base_uri": "https://localhost:8080/"
        }
      },
      "source": [
        "y_predictions=softmax_reg.predict(X_test)\n",
        "tree_mse = mean_squared_error(y_test, y_predictions)\n",
        "tree_rmse = np.sqrt(tree_mse)\n",
        "print(tree_rmse)\n",
        "confusion_matrix_valid = confusion_matrix(y_test, y_predictions)\n",
        "print(confusion_matrix_valid)"
      ],
      "execution_count": 55,
      "outputs": [
        {
          "output_type": "stream",
          "text": [
            "0.7031473840204643\n",
            "[[594   0   0]\n",
            " [359   0   0]\n",
            " [ 32   0   0]]\n"
          ],
          "name": "stdout"
        }
      ]
    },
    {
      "cell_type": "code",
      "metadata": {
        "id": "d8V1YFB-Q2AZ",
        "outputId": "519af8b4-d188-408f-8f91-471b9b9dbd32",
        "colab": {
          "base_uri": "https://localhost:8080/"
        }
      },
      "source": [
        "## polynomial kernel SVM\n",
        "\n",
        "\n",
        "from sklearn.pipeline import Pipeline\n",
        "from sklearn.preprocessing import PolynomialFeatures\n",
        "from sklearn.svm import LinearSVC\n",
        "\n",
        "polynomial_svm_clf = Pipeline([\n",
        "        (\"poly_features\", PolynomialFeatures(degree=3)),\n",
        "        (\"svm_clf\", LinearSVC(C=10, loss=\"hinge\", random_state=42))\n",
        "    ])\n",
        "\n",
        "polynomial_svm_clf.fit(X_train, y_train)"
      ],
      "execution_count": 56,
      "outputs": [
        {
          "output_type": "stream",
          "text": [
            "/usr/local/lib/python3.6/dist-packages/sklearn/svm/_base.py:947: ConvergenceWarning: Liblinear failed to converge, increase the number of iterations.\n",
            "  \"the number of iterations.\", ConvergenceWarning)\n"
          ],
          "name": "stderr"
        },
        {
          "output_type": "execute_result",
          "data": {
            "text/plain": [
              "Pipeline(memory=None,\n",
              "         steps=[('poly_features',\n",
              "                 PolynomialFeatures(degree=3, include_bias=True,\n",
              "                                    interaction_only=False, order='C')),\n",
              "                ('svm_clf',\n",
              "                 LinearSVC(C=10, class_weight=None, dual=True,\n",
              "                           fit_intercept=True, intercept_scaling=1,\n",
              "                           loss='hinge', max_iter=1000, multi_class='ovr',\n",
              "                           penalty='l2', random_state=42, tol=0.0001,\n",
              "                           verbose=0))],\n",
              "         verbose=False)"
            ]
          },
          "metadata": {
            "tags": []
          },
          "execution_count": 56
        }
      ]
    },
    {
      "cell_type": "code",
      "metadata": {
        "id": "uIz-1rULSTqA",
        "outputId": "17cf7dca-64b5-4b8a-dff6-f058b571829d",
        "colab": {
          "base_uri": "https://localhost:8080/"
        }
      },
      "source": [
        "y_predictions=polynomial_svm_clf.predict(X_test)\n",
        "tree_mse = mean_squared_error(y_test, y_predictions)\n",
        "tree_rmse = np.sqrt(tree_mse)\n",
        "print(tree_rmse)\n",
        "confusion_matrix_valid = confusion_matrix(y_test, y_predictions)\n",
        "print(confusion_matrix_valid)"
      ],
      "execution_count": 57,
      "outputs": [
        {
          "output_type": "stream",
          "text": [
            "0.8066978500775844\n",
            "[[324 247  23]\n",
            " [209 142   8]\n",
            " [ 18  13   1]]\n"
          ],
          "name": "stdout"
        }
      ]
    }
  ]
}